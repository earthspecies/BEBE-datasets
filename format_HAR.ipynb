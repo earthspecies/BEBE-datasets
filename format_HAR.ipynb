{
 "cells": [
  {
   "cell_type": "markdown",
   "id": "86ce8245-b923-42ba-b1cf-b0a8bdb804d4",
   "metadata": {},
   "source": [
    "# Notebook to format data from \"A public domain dataset for human activity recognition using smartphones\", Anguita et al (2013).\n",
    "\n",
    "Data can be found [here](http://archive.ics.uci.edu/ml/datasets/Smartphone-Based+Recognition+of+Human+Activities+and+Postural+Transitions).\n",
    "\n",
    "[Leaderboard](https://paperswithcode.com/dataset/har)\n",
    "\n",
    "[Paper](https://www.esann.org/sites/default/files/proceedings/legacy/es2013-84.pdf)"
   ]
  },
  {
   "cell_type": "markdown",
   "id": "77461baa-2d89-4ddf-b8b9-283f19b3313e",
   "metadata": {},
   "source": [
    "## Setup"
   ]
  },
  {
   "cell_type": "code",
   "execution_count": 1,
   "id": "a9cd11e9-258b-4304-a21d-f826f276b73b",
   "metadata": {},
   "outputs": [],
   "source": [
    "# Outputs:\n",
    "# formatted dataset directory\n",
    "# dataset_metadata (yaml), includes\n",
    "## sample_rate\n",
    "## dataset_label_names (list)\n",
    "## dataset_feature_names (list)\n",
    "## clip_ids (list)\n",
    "# clip_data (directory), includes\n",
    "## data_files (multiple files)"
   ]
  },
  {
   "cell_type": "code",
   "execution_count": 2,
   "id": "7470e077-e978-495a-b349-27cc5a6b2a40",
   "metadata": {},
   "outputs": [],
   "source": [
    "%load_ext autoreload\n",
    "%autoreload 2"
   ]
  },
  {
   "cell_type": "code",
   "execution_count": 3,
   "id": "ec388900-f0ab-4e41-a56b-9597e4f4911f",
   "metadata": {},
   "outputs": [],
   "source": [
    "import os\n",
    "import numpy as np\n",
    "import pandas as pd\n",
    "import h5py\n",
    "from matplotlib import pyplot as plt\n",
    "import glob\n",
    "import yaml\n",
    "import scipy.signal as signal"
   ]
  },
  {
   "cell_type": "code",
   "execution_count": 4,
   "id": "6bc728a2-a91e-4da2-abea-4b57ceb4e818",
   "metadata": {},
   "outputs": [],
   "source": [
    "# Specify data filepaths\n",
    "\n",
    "raw_data_dir = '/home/jupyter/behavior_data_local/data/raw/HAR'\n",
    "formatted_data_dir = '/home/jupyter/behavior_data_local/data/formatted/HAR'\n",
    "\n",
    "if not os.path.exists(formatted_data_dir):\n",
    "    os.makedirs(formatted_data_dir)\n",
    "    \n",
    "acc_fps = glob.glob(raw_data_dir + '/RawData/acc*.txt')\n",
    "gyr_fps = glob.glob(raw_data_dir + '/RawData/gyr*.txt')\n",
    "annotations_fp = os.path.join(raw_data_dir, 'RawData', 'labels.txt')\n",
    "\n",
    "clip_data_dir = os.path.join(formatted_data_dir, 'clip_data')\n",
    "if not os.path.exists(clip_data_dir):\n",
    "    os.makedirs(clip_data_dir)"
   ]
  },
  {
   "cell_type": "code",
   "execution_count": 5,
   "id": "98f244e7-ac03-48e2-868a-1b7f7dd15fea",
   "metadata": {},
   "outputs": [],
   "source": [
    "# Dataset metadata\n",
    "dataset_metadata = {}\n",
    "sr = 50\n",
    "dataset_metadata['sr'] = sr ## from dataset documentation\n",
    "dataset_metadata['dataset_name'] = 'HAR'"
   ]
  },
  {
   "cell_type": "code",
   "execution_count": 6,
   "id": "bbba4963-16ae-4884-bdc5-50c6bb2bf6d0",
   "metadata": {},
   "outputs": [],
   "source": [
    "## Get clip ids, and check that they are the same from the acc and gyr files\n",
    "## eg '/home/jupyter/behavior_data_local/data/raw/HAR/RawData/acc_exp58_user29.txt' -> 'exp58_user29'\n",
    "\n",
    "acc_clip_ids = sorted(set([x.split('/')[-1].split('.')[0][4:] for x in acc_fps]))\n",
    "gyr_clip_ids = sorted(set([x.split('/')[-1].split('.')[0][5:] for x in gyr_fps]))\n",
    "\n",
    "assert acc_clip_ids == gyr_clip_ids\n",
    "\n",
    "clip_ids = acc_clip_ids\n",
    "dataset_metadata['clip_ids'] = clip_ids"
   ]
  },
  {
   "cell_type": "code",
   "execution_count": 7,
   "id": "7ea20959-639e-4f2c-8efa-945516302110",
   "metadata": {},
   "outputs": [],
   "source": [
    "## Integer codes for individuals\n",
    "\n",
    "clip_id_to_individual_id = {clip_id : int(clip_id.split('_')[1][4:]) for clip_id in clip_ids}\n",
    "individuals = sorted({clip_id_to_individual_id[key] for key in clip_id_to_individual_id})\n",
    "\n",
    "dataset_metadata['individual_ids'] = individuals # There are 14 individuals but only 13 mentioned in the paper\n",
    "dataset_metadata['clip_id_to_individual_id'] = clip_id_to_individual_id"
   ]
  },
  {
   "cell_type": "code",
   "execution_count": 8,
   "id": "b719e122-9b2d-4fb1-a519-36f58a545c0c",
   "metadata": {},
   "outputs": [
    {
     "name": "stdout",
     "output_type": "stream",
     "text": [
      "[1, 3, 5, 6, 7, 8, 11, 14, 15, 16, 17, 19, 21, 22, 23, 25, 26, 27, 28, 29, 30]\n",
      "[1, 3, 5, 6, 7, 8, 11, 14, 15, 16, 17, 19, 21, 23, 25, 26, 28, 30]\n",
      "[22, 27, 29]\n",
      "[2, 4, 9, 10, 12, 13, 18, 20, 24]\n"
     ]
    }
   ],
   "source": [
    "# Set up data splits by individual\n",
    "# We use the 70/30 split from the original dataset paper to divide dev / test\n",
    "# We further split into 60/10/30 train/val/test for supervised training\n",
    "\n",
    "train_ids_fp = '/home/jupyter/behavior_data_local/data/raw/HAR/Train/subject_id_train.txt'\n",
    "test_ids_fp = '/home/jupyter/behavior_data_local/data/raw/HAR/Test/subject_id_test.txt'\n",
    "\n",
    "train_individuals = sorted(set(pd.read_csv(train_ids_fp, header = None)[0]))\n",
    "dev_individuals = sorted(set(pd.read_csv(train_ids_fp, header = None)[0]))\n",
    "test_individuals = sorted(set(pd.read_csv(test_ids_fp, header = None)[0]))\n",
    "\n",
    "val_proportion = .1\n",
    "num_individuals = len(dev_individuals) + len(test_individuals)\n",
    "\n",
    "val_num_individuals = int(val_proportion * num_individuals)\n",
    "\n",
    "rng = np.random.default_rng(1280)\n",
    "val_individuals = list(rng.choice(train_individuals, size = val_num_individuals, replace = False))\n",
    "val_individuals.sort()\n",
    "\n",
    "for i in val_individuals:\n",
    "    train_individuals.remove(i)\n",
    "    \n",
    "print(dev_individuals)    \n",
    "print(train_individuals)\n",
    "print(val_individuals)\n",
    "print(test_individuals)"
   ]
  },
  {
   "cell_type": "code",
   "execution_count": 9,
   "id": "1c94f194-2d3d-48e1-ae1e-3b5cc7428ff4",
   "metadata": {},
   "outputs": [
    {
     "name": "stdout",
     "output_type": "stream",
     "text": [
      "There are 30 individuals\n"
     ]
    }
   ],
   "source": [
    "print(\"There are %d individuals\" % len(individuals))"
   ]
  },
  {
   "cell_type": "code",
   "execution_count": 10,
   "id": "ed6d55ef-3574-4052-9506-6c2d9af412cf",
   "metadata": {},
   "outputs": [],
   "source": [
    "# Set up clip ids \n",
    "\n",
    "dev_clip_ids = []\n",
    "test_clip_ids = []\n",
    "train_clip_ids = []\n",
    "val_clip_ids = []\n",
    "for clip_id in clip_ids:\n",
    "    individual = clip_id_to_individual_id[clip_id]\n",
    "    if individual in train_individuals:\n",
    "        train_clip_ids.append(clip_id)\n",
    "        dev_clip_ids.append(clip_id)\n",
    "    elif individual in val_individuals:\n",
    "        val_clip_ids.append(clip_id)\n",
    "        dev_clip_ids.append(clip_id)\n",
    "    elif individual in test_individuals:\n",
    "        test_clip_ids.append(clip_id)\n",
    "    \n",
    "dataset_metadata['train_clip_ids'] = train_clip_ids\n",
    "dataset_metadata['val_clip_ids'] = val_clip_ids\n",
    "dataset_metadata['test_clip_ids'] = test_clip_ids\n",
    "dataset_metadata['dev_clip_ids'] = dev_clip_ids"
   ]
  },
  {
   "cell_type": "markdown",
   "id": "3fca914b-f4d0-4265-b18c-71cd7aca2dc5",
   "metadata": {},
   "source": [
    "## Create dataset-level metadata"
   ]
  },
  {
   "cell_type": "code",
   "execution_count": 11,
   "id": "444a3dc3-dfb0-4907-833e-8caf3eb4d88d",
   "metadata": {},
   "outputs": [],
   "source": [
    "## Integer codes for specific behaviors\n",
    "\n",
    "# list of behaviors, see activity_labels.txt\n",
    "beh_names = ['unknown', \n",
    "             'WALKING',\n",
    "             'WALKING_UPSTAIRS',\n",
    "             'WALKING_DOWNSTAIRS',\n",
    "             'SITTING',\n",
    "             'STANDING',\n",
    "             'LAYING',\n",
    "             # 'STAND_TO_SIT',\n",
    "             # 'SIT_TO_STAND',\n",
    "             # 'SIT_TO_LIE',\n",
    "             # 'LIE_TO_SIT',\n",
    "             # 'STAND_TO_LIE',\n",
    "             # 'LIE_TO_STAND',\n",
    "            ]\n",
    "\n",
    "dataset_metadata['label_names'] = beh_names\n",
    "\n",
    "beh_str_to_int = {name : i for i, name in enumerate(beh_names)}\n",
    "beh_int_to_str = {i : name for i, name in enumerate(beh_names)}"
   ]
  },
  {
   "cell_type": "code",
   "execution_count": 12,
   "id": "f438d48f-0596-4a58-8669-358c9a4cec2d",
   "metadata": {},
   "outputs": [],
   "source": [
    "## clip_data column names\n",
    "\n",
    "clip_column_names = ['AccX', 'AccY', 'AccZ', 'StaticAccX', 'StaticAccY', 'StaticAccZ', 'GyrX', 'GyrY', 'GyrZ', 'individual_id', 'label']\n",
    "dataset_metadata['clip_column_names'] = clip_column_names"
   ]
  },
  {
   "cell_type": "code",
   "execution_count": 13,
   "id": "a560ecfd-2ff8-4aff-a58c-76bb31200b86",
   "metadata": {},
   "outputs": [],
   "source": [
    "## Save off dataset level metadata\n",
    "\n",
    "dataset_metadata_fp = os.path.join(formatted_data_dir, 'dataset_metadata.yaml')\n",
    "\n",
    "with open(dataset_metadata_fp, 'w') as file:\n",
    "    yaml.dump(dataset_metadata, file)"
   ]
  },
  {
   "cell_type": "markdown",
   "id": "f964b042-2a2b-4690-bdd1-1685991ca77f",
   "metadata": {},
   "source": [
    "## Format Clip Data"
   ]
  },
  {
   "cell_type": "code",
   "execution_count": 14,
   "id": "e4ae21e9-df06-469e-8ee8-afb811f6b909",
   "metadata": {},
   "outputs": [],
   "source": [
    "# Following README.txt, we remove gravitational bias from each accel channel by applying a \n",
    "# butterworth filter with cutoff frequency of 0.3 Hz, then subtract the result\n",
    "\n",
    "def smooth(series, smoothing_cutoff_freq):\n",
    "    # smooth\n",
    "    sos = signal.butter(10, smoothing_cutoff_freq, 'low', fs = sr, output = 'sos')\n",
    "    series = signal.sosfilt(sos, series)\n",
    "    return series\n",
    "\n",
    "def extract_static(series, low_cutoff_freq):\n",
    "    # extract static component\n",
    "    sos = signal.butter(10, low_cutoff_freq, 'low', fs=sr, output='sos')\n",
    "    low_passed_series = signal.sosfilt(sos, series)\n",
    "    remaining_series = series - low_passed_series\n",
    "    return low_passed_series, remaining_series"
   ]
  },
  {
   "cell_type": "code",
   "execution_count": 15,
   "id": "431f04f7-b376-4f31-84a4-799d997482b0",
   "metadata": {},
   "outputs": [],
   "source": [
    "# load up annotations\n",
    "\n",
    "annotations_fp = os.path.join(raw_data_dir, 'RawData', 'labels.txt')\n",
    "annotations = pd.read_csv(annotations_fp, delimiter = ' ', header = None, names = ['exp_id','ind_id','label','start_sample','end_sample'])\n",
    "# plt.plot(annotations['label'])"
   ]
  },
  {
   "cell_type": "code",
   "execution_count": 16,
   "id": "226d618a-e1ac-4b91-993b-2c1b50e1f7a0",
   "metadata": {},
   "outputs": [],
   "source": [
    "# For each clip, create and save the data in the correct format\n",
    "\n",
    "total_dur_samples = 0\n",
    "\n",
    "for clip_id in clip_ids:\n",
    "    # load features\n",
    "    acc_fp = os.path.join(raw_data_dir, 'RawData', 'acc_' + clip_id + '.txt')\n",
    "    gyr_fp = os.path.join(raw_data_dir, 'RawData', 'gyro_' + clip_id + '.txt')\n",
    "    \n",
    "    acc_data = pd.read_csv(acc_fp, delimiter = ' ', header = None)\n",
    "    gyr_data = pd.read_csv(gyr_fp, delimiter = ' ', header = None)\n",
    "    static_acc_data = acc_data.copy()\n",
    "    \n",
    "    clip_dur_samples = len(acc_data)\n",
    "    total_dur_samples += clip_dur_samples\n",
    "    \n",
    "    # correct for gravity\n",
    "    for i in range(3): #first 3 channels are acceleration\n",
    "        to_correct = np.array(acc_data[i])\n",
    "        to_correct = smooth(to_correct, 20.)\n",
    "        static, corrected = extract_static(to_correct, 0.3) # 0.3 Hz following description in Readme\n",
    "        acc_data[i] = corrected\n",
    "        static_acc_data[i] = static\n",
    "        \n",
    "        to_smooth_gyr = np.array(gyr_data[i])\n",
    "        smoothed = smooth(to_smooth_gyr, 20.)\n",
    "        gyr_data[i] = smoothed\n",
    "        \n",
    "    acc_data = np.array(acc_data)\n",
    "    gyr_data = np.array(gyr_data)\n",
    "    static_acc_data = np.array(static_acc_data)\n",
    "    \n",
    "    exp_id = int(clip_id[3:5])\n",
    "    annotations_sub = annotations[annotations['exp_id'] == exp_id]\n",
    "    \n",
    "    # reformat annotations\n",
    "    per_frame_annotations = np.zeros([clip_dur_samples, 1]) # populate with 0's, aka \"unknown\"\n",
    "    for i, row in annotations_sub.iterrows():\n",
    "        obs_int_label = row['label']\n",
    "        int_label = obs_int_label if obs_int_label < 7 else 0 # Treat transitional states as unknown\n",
    "        start_sample = row['start_sample']\n",
    "        end_sample = row['end_sample']\n",
    "        per_frame_annotations[start_sample: end_sample, :] = int_label\n",
    "\n",
    "    # insert individual id\n",
    "    individual_id = clip_id_to_individual_id[clip_id]\n",
    "    per_frame_individual_id = np.full_like(per_frame_annotations, individual_id)\n",
    "    \n",
    "    clip_data = np.concatenate([acc_data, static_acc_data, gyr_data, per_frame_individual_id, per_frame_annotations], axis = 1)\n",
    "    \n",
    "    clip_data_fp = os.path.join(clip_data_dir, clip_id + '.csv')\n",
    "    #\n",
    "    #np.save(clip_data_fp, clip_data)\n",
    "    np.savetxt(clip_data_fp, clip_data, delimiter=\",\")\n",
    "    "
   ]
  },
  {
   "cell_type": "code",
   "execution_count": 17,
   "id": "70b1f763-a89c-4e3b-aa50-d36ed1a697da",
   "metadata": {},
   "outputs": [
    {
     "name": "stdout",
     "output_type": "stream",
     "text": [
      "total duration is 22455.440000 seconds, i.e. 6.237622 hours\n"
     ]
    }
   ],
   "source": [
    "total_dur_sec = total_dur_samples / sr\n",
    "total_dur_hours = total_dur_sec / 3600\n",
    "print(\"total duration is %f seconds, i.e. %f hours\" % (total_dur_sec, total_dur_hours))"
   ]
  },
  {
   "cell_type": "markdown",
   "id": "c9844300-e520-49a9-b975-210caa20a21f",
   "metadata": {},
   "source": [
    "## Check it all looks ok"
   ]
  },
  {
   "cell_type": "code",
   "execution_count": 18,
   "id": "717812e0-af4e-4bd0-96db-5ce83ece61c3",
   "metadata": {},
   "outputs": [],
   "source": [
    "clip_id = clip_ids[12]\n",
    "clip_data_fp = os.path.join(clip_data_dir, clip_id + '.csv')\n",
    "data = np.genfromtxt(clip_data_fp, delimiter = ',')\n",
    "#data = np.load(clip_data_fp)"
   ]
  },
  {
   "cell_type": "code",
   "execution_count": 19,
   "id": "77164f71-4257-43b1-ae76-49f1438c836e",
   "metadata": {},
   "outputs": [
    {
     "data": {
      "text/plain": [
       "(17195, 11)"
      ]
     },
     "execution_count": 19,
     "metadata": {},
     "output_type": "execute_result"
    }
   ],
   "source": [
    "np.shape(data)"
   ]
  },
  {
   "cell_type": "code",
   "execution_count": 20,
   "id": "b1d243b7-ec2e-4bc5-8239-400cc7241953",
   "metadata": {},
   "outputs": [
    {
     "data": {
      "image/png": "[encoded data removed]",
      "text/plain": [
       "<Figure size 432x288 with 1 Axes>"
      ]
     },
     "metadata": {
      "needs_background": "light"
     },
     "output_type": "display_data"
    }
   ],
   "source": [
    "for i in range(np.shape(data)[1]):\n",
    "    plt.plot(data[:, i])"
   ]
  },
  {
   "cell_type": "code",
   "execution_count": 21,
   "id": "ff4e9c59-9f68-4ee9-9cfd-0d1ca21b5900",
   "metadata": {},
   "outputs": [
    {
     "data": {
      "text/plain": [
       "[<matplotlib.lines.Line2D at 0x7fc6abcd1190>]"
      ]
     },
     "execution_count": 21,
     "metadata": {},
     "output_type": "execute_result"
    },
    {
     "data": {
      "image/png": "[encoded data removed]",
      "text/plain": [
       "<Figure size 432x288 with 1 Axes>"
      ]
     },
     "metadata": {
      "needs_background": "light"
     },
     "output_type": "display_data"
    }
   ],
   "source": [
    "plt.plot(data[:,1])"
   ]
  },
  {
   "cell_type": "markdown",
   "id": "ee76f97f-7d96-48fc-a9c2-f3ec377837a6",
   "metadata": {},
   "source": [
    "## Plot Dataset Summary"
   ]
  },
  {
   "cell_type": "code",
   "execution_count": 22,
   "id": "bc4d237a-2684-4db3-9a08-7b81652d9371",
   "metadata": {},
   "outputs": [],
   "source": [
    "# Count class representation\n",
    "\n",
    "beh_names = dataset_metadata['label_names']\n",
    "train_label_count = {name : 0 for name in beh_names}\n",
    "val_label_count = {name : 0 for name in beh_names}\n",
    "dev_label_count = {name : 0 for name in beh_names}\n",
    "test_label_count = {name : 0 for name in beh_names}\n",
    "\n",
    "for clip_id in clip_ids:\n",
    "    clip_data_fp = os.path.join(clip_data_dir, clip_id + '.csv')\n",
    "    data = pd.read_csv(clip_data_fp, delimiter = ',', header = None)\n",
    "    counts = data[data.keys()[-1]].astype(int).value_counts()\n",
    "    for key in counts.keys():\n",
    "        name = beh_names[key]\n",
    "        if clip_id in dataset_metadata['train_clip_ids']:\n",
    "            train_label_count[name] += counts[key]\n",
    "            dev_label_count[name] += counts[key]\n",
    "        elif clip_id in dataset_metadata['val_clip_ids']:\n",
    "            val_label_count[name] += counts[key]\n",
    "            dev_label_count[name] += counts[key]\n",
    "        elif clip_id in dataset_metadata['test_clip_ids']:\n",
    "            test_label_count[name] += counts[key]\n",
    "\n",
    "train_label_perc = {name : 0 for name in beh_names[1:]}\n",
    "val_label_perc = {name : 0 for name in beh_names[1:]}\n",
    "dev_label_perc = {name : 0 for name in beh_names[1:]}\n",
    "test_label_perc = {name : 0 for name in beh_names[1:]}\n",
    "\n",
    "for name in beh_names[1:]:\n",
    "    train_label_perc[name] = float(train_label_count[name] / sum([train_label_count[j] for j in beh_names[1:]]))\n",
    "    val_label_perc[name] = float(val_label_count[name] / sum([val_label_count[j] for j in beh_names[1:]]))\n",
    "    dev_label_perc[name] = float(dev_label_count[name] / sum([dev_label_count[j] for j in beh_names[1:]]))\n",
    "    test_label_perc[name] = float(test_label_count[name] / sum([test_label_count[j] for j in beh_names[1:]]))"
   ]
  },
  {
   "cell_type": "code",
   "execution_count": 23,
   "id": "9c515788-245b-42f2-95ef-c439c9fe121d",
   "metadata": {},
   "outputs": [
    {
     "data": {
      "image/png": "[encoded data removed]",
      "text/plain": [
       "<Figure size 640x480 with 1 Axes>"
      ]
     },
     "metadata": {
      "needs_background": "light"
     },
     "output_type": "display_data"
    }
   ],
   "source": [
    "# Plot class representation\n",
    "\n",
    "keys = np.arange(len(beh_names))[1:]\n",
    "offset = 0.1\n",
    "width = 0.2\n",
    "plt.figure(figsize=(8, 6), dpi=80)\n",
    "\n",
    "plt.barh(keys - offset, [dev_label_perc[beh_names[key]] for key in keys], height=width, align='center', label = 'train') #We call dev set 'train' in the paper\n",
    "#plt.barh(keys, [val_label_perc[beh_names[key]] for key in keys], height=width, align='center', label = 'val')\n",
    "plt.barh(keys + offset, [test_label_perc[beh_names[key]] for key in keys], height=width, align='center', label = 'test')\n",
    "plt.title(\"Class representation across data splits\")\n",
    "plt.yticks(keys, beh_names[1:], fontsize = 7, rotation = 60)\n",
    "plt.xlabel('Percent of known labels')\n",
    "plt.legend()\n",
    "target_fp = os.path.join(formatted_data_dir, 'class_rep.png')\n",
    "\n",
    "plt.savefig(target_fp)\n",
    "plt.show()\n",
    "\n",
    "numerical_target_fp = os.path.join(formatted_data_dir, 'class_rep.yaml')\n",
    "class_rep_dict = {'train_label_perc' : train_label_perc,\n",
    "                  'val_label_perc' : val_label_perc,\n",
    "                  'dev_label_perc' : dev_label_perc,\n",
    "                  'test_label_perc' : test_label_perc}\n",
    "with open(numerical_target_fp, 'w') as file:\n",
    "    yaml.dump(class_rep_dict, file)"
   ]
  },
  {
   "cell_type": "code",
   "execution_count": 24,
   "id": "2375043d-2ff7-4cfa-a509-4fc6d5fe2c7f",
   "metadata": {},
   "outputs": [
    {
     "data": {
      "image/png": "[encoded data removed]",
      "text/plain": [
       "<Figure size 648x144 with 3 Axes>"
      ]
     },
     "metadata": {},
     "output_type": "display_data"
    }
   ],
   "source": [
    "# Pie chart, of known vs unknown samples \n",
    "\n",
    "labels = 'Known', 'Unknown'\n",
    "train_sizes = [sum([train_label_count[j] for j in beh_names[1:]]), train_label_count['unknown']]\n",
    "val_sizes = [sum([val_label_count[j] for j in beh_names[1:]]), val_label_count['unknown']]\n",
    "test_sizes = [sum([test_label_count[j] for j in beh_names[1:]]), test_label_count['unknown']]\n",
    "\n",
    "fig, ax = plt.subplots(1,3, figsize = (9,2))\n",
    "plt.title(\"blah\")\n",
    "\n",
    "ax[0].pie(train_sizes, labels=labels, autopct='%1.1f%%', startangle=90)\n",
    "ax[0].axis('equal')  # Equal aspect ratio ensures that pie is drawn as a circle.\n",
    "ax[0].set_title('Train')\n",
    "\n",
    "ax[1].pie(val_sizes, labels=labels, autopct='%1.1f%%', startangle=90)\n",
    "ax[1].axis('equal')  # Equal aspect ratio ensures that pie is drawn as a circle.\n",
    "ax[1].set_title('Val')\n",
    "\n",
    "ax[2].pie(test_sizes, labels=labels, autopct='%1.1f%%', startangle=90)\n",
    "ax[2].axis('equal')  # Equal aspect ratio ensures that pie is drawn as a circle.\n",
    "ax[2].set_title('Test')\n",
    "\n",
    "target_fp = os.path.join(formatted_data_dir, 'perc_known.png')\n",
    "\n",
    "plt.savefig(target_fp)\n",
    "\n",
    "plt.show()\n"
   ]
  },
  {
   "cell_type": "markdown",
   "id": "06e1fee4-6542-4f3f-8f7c-5609baddb75b",
   "metadata": {},
   "source": [
    "## Temporal Statistics"
   ]
  },
  {
   "cell_type": "code",
   "execution_count": 5,
   "id": "5c827143-891f-43d1-8e0f-9d401e61cfdb",
   "metadata": {},
   "outputs": [
    {
     "name": "stderr",
     "output_type": "stream",
     "text": [
      "100%|██████████| 61/61 [00:02<00:00, 24.26it/s]"
     ]
    },
    {
     "name": "stdout",
     "output_type": "stream",
     "text": [
      "Mean overall label duration is 17.466 seconds\n",
      "Re-saving metadata to /home/jupyter/behavior_data_local/data/formatted/HAR/dataset_metadata.yaml\n"
     ]
    },
    {
     "name": "stderr",
     "output_type": "stream",
     "text": [
      "\n"
     ]
    }
   ],
   "source": [
    "####################################\n",
    "infill_max_dur_sec = 0 # If annotations are nnnnn0000000nnnnn, where 0=unknown, do we fill in 0's with n's?\n",
    "####################################\n",
    "\n",
    "# This cell runs almost as a stand alone, but requires the first few cells of this notebook to be run first\n",
    "\n",
    "import tqdm\n",
    "from pathlib import Path\n",
    "\n",
    "dataset_metadata_fp = os.path.join(formatted_data_dir, 'dataset_metadata.yaml')\n",
    "\n",
    "with open(dataset_metadata_fp, 'r') as file:\n",
    "    metadata = yaml.safe_load(file)\n",
    "\n",
    "clip_fps = list(Path(clip_data_dir).glob('*.csv'))\n",
    "\n",
    "def create_list_of_durations(x, infill_max_dur_sec, samplerate, unknown_value = 0):\n",
    "    # First pass: create a list of label durations, together with a list of the associated classes\n",
    "    current_value = 0\n",
    "    current_dur = 0\n",
    "    list_of_durs = []\n",
    "    list_of_labels = []\n",
    "    for i in x:\n",
    "        if i == current_value:\n",
    "            current_dur += 1\n",
    "        elif i != current_value:\n",
    "            list_of_durs.append(current_dur / samplerate)\n",
    "            list_of_labels.append(current_value)\n",
    "            current_dur = 1\n",
    "            current_value = i\n",
    "            \n",
    "    list_of_durs.append(current_dur)\n",
    "    list_of_labels.append(current_value)\n",
    "            \n",
    "    # repeatedly merge similar labels if they are seperated by unknowns of short duration\n",
    "    # This is mainly to deal with duty cycling of observations\n",
    "    infill_max_dur_samples = int(infill_max_dur_sec * samplerate)\n",
    "    \n",
    "    if list_of_labels[0] == unknown_value:\n",
    "        del list_of_labels[0]\n",
    "        del list_of_durs[0]\n",
    "        \n",
    "    if list_of_labels[-1] == unknown_value:\n",
    "        del list_of_labels[-1]\n",
    "        del list_of_durs[-1]\n",
    "    \n",
    "    j = 1\n",
    "    while j<len(list_of_labels)-1:\n",
    "        if list_of_labels[j] != unknown_value:\n",
    "            j+= 1\n",
    "        elif list_of_labels[j-1] == list_of_labels[j+1] and list_of_durs[j] < infill_max_dur_samples:\n",
    "            # merge if it's a short interval of unknowns between two of the same label\n",
    "            list_of_durs[j-1] += list_of_durs[j+1]\n",
    "            del list_of_durs[j+1]\n",
    "            del list_of_durs[j]\n",
    "            del list_of_labels[j+1]\n",
    "            del list_of_labels[j]\n",
    "        else:\n",
    "            # otherwise, drop the unknown segment\n",
    "            del list_of_durs[j]\n",
    "            del list_of_labels[j]\n",
    "\n",
    "    return list_of_labels, list_of_durs # list of annotation durations, in samples.\n",
    "                             \n",
    "durs_sec_by_individual = {i : [] for i in metadata['individual_ids']}\n",
    "overall_durs_sec = []\n",
    "    \n",
    "for fp in tqdm.tqdm(clip_fps):\n",
    "    clip_id = fp.stem\n",
    "    individual_id = metadata['clip_id_to_individual_id'][clip_id]\n",
    "    clip_annotations = list(pd.read_csv(fp, header = None).values[:, -1])\n",
    "    l, d = create_list_of_durations(clip_annotations, infill_max_dur_sec, metadata['sr'])\n",
    "    durs_sec_by_individual[individual_id].extend(d)\n",
    "    overall_durs_sec.extend(d)\n",
    "    \n",
    "mean_dur_sec_by_individual = {i : float(np.mean(durs_sec_by_individual[i])) for i in durs_sec_by_individual}\n",
    "mean_overall_dur_sec = float(np.mean(overall_durs_sec))\n",
    "\n",
    "metadata['mean_dur_sec_by_individual'] = mean_dur_sec_by_individual\n",
    "metadata['mean_overall_dur_sec'] = mean_overall_dur_sec\n",
    "\n",
    "print(\"Mean overall label duration is %0.3f seconds\" % mean_overall_dur_sec)\n",
    "\n",
    "print(\"Re-saving metadata to %s\" % str(dataset_metadata_fp))\n",
    "\n",
    "with open(dataset_metadata_fp, 'w') as file:\n",
    "    yaml.dump(metadata, file)"
   ]
  },
  {
   "cell_type": "code",
   "execution_count": 7,
   "id": "930e25ad-69e5-44e0-b258-322e1361cad1",
   "metadata": {},
   "outputs": [],
   "source": [
    "# Save off summary stats\n",
    "\n",
    "summary_fp = '/home/jupyter/BEBE-datasets/summaries.yaml'\n",
    "summary_dict = {}\n",
    "summary_dict['overall_durs_sec'] = overall_durs_sec\n",
    "\n",
    "if not os.path.exists(summary_fp):\n",
    "    with open(summary_fp, 'w') as file:\n",
    "        yaml.dump({}, file)\n",
    "        \n",
    "with open(summary_fp, 'r') as file:\n",
    "    summaries = yaml.safe_load(file)\n",
    "    \n",
    "summaries['HAR'] = summary_dict\n",
    "\n",
    "with open(summary_fp, 'w') as file:\n",
    "    yaml.dump(summaries, file)\n"
   ]
  },
  {
   "cell_type": "code",
   "execution_count": null,
   "id": "d123044c-799d-40c7-86ff-1bf37e40669b",
   "metadata": {},
   "outputs": [],
   "source": []
  }
 ],
 "metadata": {
  "environment": {
   "kernel": "python3",
   "name": "pytorch-gpu.1-9.m82",
   "type": "gcloud",
   "uri": "gcr.io/deeplearning-platform-release/pytorch-gpu.1-9:m82"
  },
  "kernelspec": {
   "display_name": "Python 3",
   "language": "python",
   "name": "python3"
  },
  "language_info": {
   "codemirror_mode": {
    "name": "ipython",
    "version": 3
   },
   "file_extension": ".py",
   "mimetype": "text/x-python",
   "name": "python",
   "nbconvert_exporter": "python",
   "pygments_lexer": "ipython3",
   "version": "3.7.10"
  }
 },
 "nbformat": 4,
 "nbformat_minor": 5
}
