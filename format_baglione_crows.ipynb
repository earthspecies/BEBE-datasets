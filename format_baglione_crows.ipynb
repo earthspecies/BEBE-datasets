{
 "cells": [
  {
   "cell_type": "markdown",
   "id": "86ce8245-b923-42ba-b1cf-b0a8bdb804d4",
   "metadata": {},
   "source": [
    "# Notebook to format data provided by Baglione lab. Currently unpublished"
   ]
  },
  {
   "cell_type": "markdown",
   "id": "77461baa-2d89-4ddf-b8b9-283f19b3313e",
   "metadata": {},
   "source": [
    "## Setup"
   ]
  },
  {
   "cell_type": "code",
   "execution_count": 1,
   "id": "a9cd11e9-258b-4304-a21d-f826f276b73b",
   "metadata": {},
   "outputs": [],
   "source": [
    "# Outputs:\n",
    "# formatted dataset directory\n",
    "# dataset_metadata (yaml), includes\n",
    "## sample_rate\n",
    "## dataset_label_names (list)\n",
    "## dataset_feature_names (list)\n",
    "## clip_ids (list)\n",
    "# clip_data (directory), includes\n",
    "## data_files (multiple files)"
   ]
  },
  {
   "cell_type": "code",
   "execution_count": 2,
   "id": "7470e077-e978-495a-b349-27cc5a6b2a40",
   "metadata": {},
   "outputs": [],
   "source": [
    "%load_ext autoreload\n",
    "%autoreload 2"
   ]
  },
  {
   "cell_type": "code",
   "execution_count": 3,
   "id": "ec388900-f0ab-4e41-a56b-9597e4f4911f",
   "metadata": {},
   "outputs": [],
   "source": [
    "import os\n",
    "import numpy as np\n",
    "import pandas as pd\n",
    "from matplotlib import pyplot as plt\n",
    "import glob\n",
    "import yaml\n",
    "import scipy.signal as signal\n",
    "import scipy.io as sio\n",
    "from pathlib import Path\n",
    "import IPython.display as ipd\n",
    "import librosa\n",
    "from tqdm import tqdm"
   ]
  },
  {
   "cell_type": "code",
   "execution_count": 4,
   "id": "6bc728a2-a91e-4da2-abea-4b57ceb4e818",
   "metadata": {},
   "outputs": [],
   "source": [
    "# Specify data filepaths\n",
    "\n",
    "#raw_data_dir = Path('/home/jupyter/behavior_data_local/data/raw/baglione_crows')\n",
    "raw_data_dir = Path('/home/jupyter/data/19/')\n",
    "formatted_data_dir = Path('/home/jupyter/behavior_data_local/data/formatted/baglione_crows')\n",
    "\n",
    "if not os.path.exists(formatted_data_dir):\n",
    "    os.makedirs(formatted_data_dir)\n",
    "    \n",
    "#annotations_fp = raw_data_dir.joinpath('labelled_datasets_individual_vocalizations_classification_with_file.csv')\n",
    "annotations_fp = '/home/jupyter/carrion_crow_annotation/proposed_annotations.csv'\n",
    "\n",
    "data_fps = ['/home/jupyter/data/19/BUCK/Rosa/1011.swv',\n",
    "            '/home/jupyter/data/19/BV/Morado/1008.swv',\n",
    "            '/home/jupyter/data/19/BD/Rosa/1004.swv', \n",
    "            '/home/jupyter/data/19/BD/Rosa/1005.swv']\n",
    "\n",
    "data_fps = [Path(x) for x in data_fps]\n",
    "# data_fps = list(raw_data_dir.joinpath('data').glob('**/*.swv'))\n"
   ]
  },
  {
   "cell_type": "code",
   "execution_count": 5,
   "id": "98f244e7-ac03-48e2-868a-1b7f7dd15fea",
   "metadata": {},
   "outputs": [],
   "source": [
    "# Dataset metadata\n",
    "dataset_metadata = {}\n",
    "sr = 50 # They provide up to 200 Hz, but we use 50\n",
    "dataset_metadata['sr'] = sr ## from dataset documentation\n",
    "dataset_metadata['dataset_name'] = 'baglione_crows'"
   ]
  },
  {
   "cell_type": "code",
   "execution_count": 6,
   "id": "b6e3bfcd-bfdf-4799-b62b-c6a7cee98335",
   "metadata": {},
   "outputs": [],
   "source": [
    "# Convenience functions\n",
    "\n",
    "def data_fp_to_clip_id(x):\n",
    "    return x.parent.parent.name + '_' + x.parent.name + '_' + x.stem\n",
    "\n",
    "# def clip_id_to_data_fp(y):\n",
    "#     y = y.split('_')\n",
    "#     return raw_data_dir.joinpath('data').joinpath('19').joinpath(y[0]).joinpath(y[1]).joinpath(y[2]+'.swv')\n",
    "\n",
    "def clip_id_to_data_fp(y):\n",
    "    y = y.split('_')\n",
    "    return raw_data_dir.joinpath(y[0]).joinpath(y[1]).joinpath(y[2]+'.swv')"
   ]
  },
  {
   "cell_type": "code",
   "execution_count": 7,
   "id": "dc5c2813-e39d-4d55-8faa-8d1fbd739348",
   "metadata": {},
   "outputs": [],
   "source": [
    "# Prep annotations\n",
    "\n",
    "all_annotations = pd.read_csv(annotations_fp)\n",
    "\n",
    "#\n",
    "all_annotations['file'] = all_annotations['fp']\n",
    "#\n",
    "\n",
    "def annotations_get_clip_id(x):\n",
    "    x = x.split('/')\n",
    "    return '_'.join([x[-3], x[-2], x[-1].split('.')[0]])\n",
    "\n",
    "all_annotations['clip_id'] = all_annotations['file'].map(annotations_get_clip_id)\n",
    "\n",
    "\n",
    "# Subselect for files with most vocalizations, to reduce dataset size\n",
    "subselect_ids = all_annotations['clip_id'].value_counts()[:100].keys()\n",
    "#assert len(set([x[:-5] for x in subselect_ids])) == 9, 'dropped at least one individual!'"
   ]
  },
  {
   "cell_type": "code",
   "execution_count": 8,
   "id": "b364e7a8-7901-41c1-8b69-3e604311375c",
   "metadata": {},
   "outputs": [
    {
     "data": {
      "text/plain": [
       "Index(['BUCK_Rosa_1011', 'BV_Morado_1008', 'BD_Rosa_1004', 'BD_Rosa_1005'], dtype='object')"
      ]
     },
     "execution_count": 8,
     "metadata": {},
     "output_type": "execute_result"
    }
   ],
   "source": [
    "subselect_ids"
   ]
  },
  {
   "cell_type": "code",
   "execution_count": 9,
   "id": "c67b2fce-0e90-4a15-8119-c9202de114c4",
   "metadata": {},
   "outputs": [
    {
     "name": "stderr",
     "output_type": "stream",
     "text": [
      "100%|██████████| 4/4 [00:01<00:00,  3.67it/s]"
     ]
    },
    {
     "name": "stdout",
     "output_type": "stream",
     "text": [
      "total duration is 47092.800000 seconds, i.e. 13.081333 hours\n"
     ]
    },
    {
     "name": "stderr",
     "output_type": "stream",
     "text": [
      "\n"
     ]
    }
   ],
   "source": [
    "# Compute duration\n",
    "# Simultaneously, we remove the files that have few vocalizations, to reduce the dataset size\n",
    "\n",
    "data_fps_subselected = []\n",
    "\n",
    "length = 0\n",
    "for fp in tqdm(data_fps):\n",
    "    # load features\n",
    "    x = librosa.load( fp, sr = 50, mono = False)[0]\n",
    "    l = np.shape(x)[1]\n",
    "    clip_id = data_fp_to_clip_id(fp)\n",
    "    if clip_id in subselect_ids:\n",
    "        length += l\n",
    "        data_fps_subselected.append(fp)\n",
    "\n",
    "total_dur_sec = length / 50 \n",
    "total_dur_hours = total_dur_sec / 3600\n",
    "print(\"total duration is %f seconds, i.e. %f hours\" % (total_dur_sec, total_dur_hours))\n",
    "\n",
    "data_fps = data_fps_subselected"
   ]
  },
  {
   "cell_type": "code",
   "execution_count": 10,
   "id": "b3cd1085-1b01-48e9-a570-b7f09a3b3849",
   "metadata": {},
   "outputs": [
    {
     "data": {
      "text/plain": [
       "[PosixPath('/home/jupyter/data/19/BUCK/Rosa/1011.swv'),\n",
       " PosixPath('/home/jupyter/data/19/BV/Morado/1008.swv'),\n",
       " PosixPath('/home/jupyter/data/19/BD/Rosa/1004.swv'),\n",
       " PosixPath('/home/jupyter/data/19/BD/Rosa/1005.swv')]"
      ]
     },
     "execution_count": 10,
     "metadata": {},
     "output_type": "execute_result"
    }
   ],
   "source": [
    "data_fps"
   ]
  },
  {
   "cell_type": "code",
   "execution_count": 11,
   "id": "f9187b43-b220-4b52-8d02-d31dad0681c6",
   "metadata": {},
   "outputs": [],
   "source": [
    "# Get list of clip ids\n",
    "\n",
    "clip_ids = sorted([data_fp_to_clip_id(x) for x in data_fps])\n",
    "\n",
    "# data_fps = [raw_data_dir + '/' + clip_id + '/' +clip_id +'prh_speed.mat' for clip_id in clip_ids]\n",
    "\n",
    "clip_data_dir = os.path.join(formatted_data_dir, 'clip_data')\n",
    "if not os.path.exists(clip_data_dir):\n",
    "    os.makedirs(clip_data_dir)"
   ]
  },
  {
   "cell_type": "code",
   "execution_count": 12,
   "id": "7ea20959-639e-4f2c-8efa-945516302110",
   "metadata": {},
   "outputs": [],
   "source": [
    "## Integer codes for individuals\n",
    "\n",
    "clip_id_to_individual = {}\n",
    "for clip_id in clip_ids:\n",
    "    y = clip_id.split('_')\n",
    "    clip_id_to_individual[clip_id] = y[0] + '_' + y[1]\n",
    "     \n",
    "individuals = sorted(set(clip_id_to_individual[y] for y in clip_ids))\n",
    "\n",
    "## Integer codes for individuals\n",
    "\n",
    "individual_to_individual_id = {individual : i for i, individual in enumerate(individuals)}\n",
    "clip_id_to_individual_id = {clip_id : individual_to_individual_id[clip_id_to_individual[clip_id]] for clip_id in clip_ids}\n",
    "    \n",
    "\n",
    "dataset_metadata['individual_ids'] = [individual_to_individual_id[x] for x in individuals]\n",
    "dataset_metadata['clip_id_to_individual_id'] = clip_id_to_individual_id"
   ]
  },
  {
   "cell_type": "code",
   "execution_count": 13,
   "id": "b719e122-9b2d-4fb1-a519-36f58a545c0c",
   "metadata": {},
   "outputs": [
    {
     "name": "stdout",
     "output_type": "stream",
     "text": [
      "['BUCK_Rosa']\n",
      "['BV_Morado']\n",
      "['BUCK_Rosa', 'BV_Morado']\n",
      "['BD_Rosa']\n"
     ]
    }
   ],
   "source": [
    "# Set up data splits by individual\n",
    "\n",
    "test_proportion = .25\n",
    "val_proportion = .25\n",
    "num_individuals = len(individuals)\n",
    "\n",
    "test_num_individuals = int(test_proportion * num_individuals)\n",
    "val_num_individuals = int(val_proportion * num_individuals)\n",
    "\n",
    "rng = np.random.default_rng(61) #60\n",
    "test_individuals = list(rng.choice(individuals, size = test_num_individuals, replace = False))\n",
    "test_individuals.sort()\n",
    "\n",
    "dev_individuals = individuals.copy()\n",
    "for i in test_individuals:\n",
    "    dev_individuals.remove(i)\n",
    "    \n",
    "val_individuals = list(rng.choice(dev_individuals, size = val_num_individuals, replace = False))\n",
    "val_individuals.sort()\n",
    "    \n",
    "train_individuals = dev_individuals.copy()\n",
    "for i in val_individuals:\n",
    "    train_individuals.remove(i)\n",
    "    \n",
    "train_individuals = ['BUCK_Rosa']\n",
    "val_individuals = ['BV_Morado']\n",
    "dev_individuals = train_individuals + val_individuals\n",
    "test_individuals = ['BD_Rosa']\n",
    "\n",
    "print(train_individuals)\n",
    "print(val_individuals)\n",
    "print(dev_individuals)\n",
    "print(test_individuals)"
   ]
  },
  {
   "cell_type": "code",
   "execution_count": 14,
   "id": "ed6d55ef-3574-4052-9506-6c2d9af412cf",
   "metadata": {},
   "outputs": [],
   "source": [
    "# Set up clip ids \n",
    "\n",
    "# Clip ids\n",
    "test_clip_ids = []\n",
    "train_clip_ids = []\n",
    "val_clip_ids = []\n",
    "dev_clip_ids = []\n",
    "for clip_id in clip_ids:\n",
    "    individual = clip_id_to_individual[clip_id]\n",
    "    if individual in train_individuals:\n",
    "        train_clip_ids.append(clip_id)\n",
    "        dev_clip_ids.append(clip_id)\n",
    "    elif individual in val_individuals:\n",
    "        val_clip_ids.append(clip_id)\n",
    "        dev_clip_ids.append(clip_id)\n",
    "    elif individual in test_individuals:\n",
    "        test_clip_ids.append(clip_id)\n",
    "    \n",
    "train_clip_ids.sort()\n",
    "val_clip_ids.sort()\n",
    "dev_clip_ids.sort()\n",
    "test_clip_ids.sort()\n",
    "    \n",
    "dataset_metadata['clip_ids'] = clip_ids\n",
    "dataset_metadata['train_clip_ids'] = train_clip_ids\n",
    "dataset_metadata['test_clip_ids'] = test_clip_ids\n",
    "dataset_metadata['val_clip_ids'] = val_clip_ids\n",
    "dataset_metadata['dev_clip_ids'] = dev_clip_ids"
   ]
  },
  {
   "cell_type": "markdown",
   "id": "3fca914b-f4d0-4265-b18c-71cd7aca2dc5",
   "metadata": {},
   "source": [
    "## Create dataset-level metadata"
   ]
  },
  {
   "cell_type": "code",
   "execution_count": 15,
   "id": "444a3dc3-dfb0-4907-833e-8caf3eb4d88d",
   "metadata": {},
   "outputs": [],
   "source": [
    "## Integer codes for specific behaviors\n",
    "\n",
    "beh_names = ['unknown',\n",
    "             'flying',\n",
    "             'in_nest']\n",
    "\n",
    "dataset_metadata['label_names'] = beh_names\n",
    "\n",
    "beh_str_to_int = {name : i for i, name in enumerate(beh_names)}\n",
    "beh_int_to_str = {i : name for i, name in enumerate(beh_names)}\n"
   ]
  },
  {
   "cell_type": "code",
   "execution_count": 16,
   "id": "f438d48f-0596-4a58-8669-358c9a4cec2d",
   "metadata": {},
   "outputs": [],
   "source": [
    "## clip_data column names\n",
    "## Since Pitch and Roll are provided, we include them\n",
    "## Omit Head, likely irrelevant\n",
    "\n",
    "clip_column_names = ['AccX', 'AccY', 'AccZ', 'StaticAccX', 'StaticAccY', 'StaticAccZ', 'individual_id', 'label']\n",
    "dataset_metadata['clip_column_names'] = clip_column_names"
   ]
  },
  {
   "cell_type": "code",
   "execution_count": 17,
   "id": "a560ecfd-2ff8-4aff-a58c-76bb31200b86",
   "metadata": {},
   "outputs": [],
   "source": [
    "## Save off dataset level metadata\n",
    "\n",
    "dataset_metadata_fp = os.path.join(formatted_data_dir, 'dataset_metadata.yaml')\n",
    "\n",
    "with open(dataset_metadata_fp, 'w') as file:\n",
    "    yaml.dump(dataset_metadata, file)"
   ]
  },
  {
   "cell_type": "markdown",
   "id": "f964b042-2a2b-4690-bdd1-1685991ca77f",
   "metadata": {},
   "source": [
    "## Format Clip Data"
   ]
  },
  {
   "cell_type": "code",
   "execution_count": 18,
   "id": "e4ae21e9-df06-469e-8ee8-afb811f6b909",
   "metadata": {},
   "outputs": [],
   "source": [
    "# use butterworth filter to extract low and high frequency components\n",
    "def extract_static(series, low_cutoff_freq):\n",
    "    # extract static component\n",
    "    sos = signal.butter(10, low_cutoff_freq, 'low', fs=sr, output='sos')\n",
    "    low_passed_series = signal.sosfilt(sos, series)\n",
    "    remaining_series = series - low_passed_series\n",
    "    return low_passed_series, remaining_series\n",
    "\n",
    "# Convenience function to detect nans.\n",
    "def nan_helper(y):\n",
    "    return np.isnan(y), lambda z: z.nonzero()[0]\n",
    "\n",
    "#Interpolates all nan values of given array\n",
    "def interpolate_nan(y):\n",
    "    nans, x= nan_helper(y)\n",
    "    y[nans]= np.interp(x(nans), x(~nans), y[~nans])\n",
    "    return y"
   ]
  },
  {
   "cell_type": "code",
   "execution_count": 19,
   "id": "be12524f-4481-4e9d-8726-42e2fcf3bf34",
   "metadata": {},
   "outputs": [],
   "source": [
    "# all_annotations['class'] = all_annotations['class'].map(lambda x: int(x))\n",
    "all_annotations['class'] = all_annotations['label'].map(lambda x: int(x))"
   ]
  },
  {
   "cell_type": "code",
   "execution_count": 20,
   "id": "226d618a-e1ac-4b91-993b-2c1b50e1f7a0",
   "metadata": {},
   "outputs": [
    {
     "name": "stderr",
     "output_type": "stream",
     "text": [
      "100%|██████████| 4/4 [00:16<00:00,  4.14s/it]\n"
     ]
    }
   ],
   "source": [
    "# For each clip, create and save the data in the correct format\n",
    "\n",
    "for clip_id in tqdm(clip_ids):\n",
    "    # load features\n",
    "    data_fp = clip_id_to_data_fp(clip_id)\n",
    "    data  = librosa.load(data_fp, sr = 50, mono = False)[0]\n",
    "    Ax = data[0, :].flatten() ## The logger records the swv file at 50 Hz but the accelerometer channels are at 200 Hz. Then, the first 4 samples of acc X axis are the first samples in channels 0,3,6,10.\n",
    "    Ay = data[1, :].flatten()\n",
    "    Az = data[2, :].flatten()\n",
    "    \n",
    "    dur = len(Ax)\n",
    "    \n",
    "    clip_data = np.zeros((dur, 8))\n",
    "    \n",
    "    # correct for gravity\n",
    "    for i, x in enumerate([Ax, Ay, Az]): \n",
    "        to_correct = x\n",
    "        to_correct = interpolate_nan(to_correct)\n",
    "        static, corrected = extract_static(to_correct, 0.3)\n",
    "        clip_data[:, i] = corrected\n",
    "        clip_data[:, i+3] = static\n",
    "        \n",
    "    # # Possible calibration step: Normalize so on average static components have constant magnitude (on sphere of radius 1)\n",
    "    # #\n",
    "    # static_mag = np.mean(np.sqrt(clip_data[:,3]**2 + clip_data[:,4]**2 + clip_data[:,5]**2))\n",
    "    # clip_data = clip_data/static_mag\n",
    "    # #\n",
    "    \n",
    "    # load annotations\n",
    "    annotations_sub = all_annotations[all_annotations['clip_id'] == clip_id]\n",
    "    \n",
    "    # reformat annotations\n",
    "    # per_frame_annotations = np.ones(dur) # populate with 1's, aka \"not_vocalizing\"\n",
    "    # for i, row in annotations_sub.iterrows():\n",
    "    #     if row['class'] in [2, 32, 7, 28, 29, 45]:\n",
    "    #         int_label = 2\n",
    "    #     else:\n",
    "    #         int_label = 0\n",
    "    #     start_sample = int(row['start.in.file']*sr)\n",
    "    #     end_sample = int(row['end.in.file'] * sr)\n",
    "    #     per_frame_annotations[start_sample: end_sample] = int_label\n",
    "    #     # Pad before and after with unknowns\n",
    "    #     pad_dur_sec = 2\n",
    "    #     pad_dur_samples = int(pad_dur_sec * sr)\n",
    "    #     start_pad = start_sample - pad_dur_samples\n",
    "    #     end_pad = end_sample + pad_dur_samples\n",
    "    #     # hacky way to set everything that is not label 2 to be 0:\n",
    "    #     per_frame_annotations[start_pad:end_pad] = np.maximum(per_frame_annotations[start_pad:end_pad] - 1, 0) * 2\n",
    "    \n",
    "    per_frame_annotations = np.zeros(dur) # populate with 0's, aka \"unknown\"\n",
    "    for i, row in annotations_sub.iterrows():\n",
    "        int_label = row['class']\n",
    "        start_sample = int(row['start_sec']*sr)\n",
    "        end_sample = int(row['end_sec'] * sr)\n",
    "        per_frame_annotations[start_sample: end_sample] = int_label\n",
    "\n",
    "    clip_data[:, -1] = per_frame_annotations\n",
    "\n",
    "    # insert individual id\n",
    "    individual_id = clip_id_to_individual_id[clip_id]\n",
    "    clip_data[:, -2] = individual_id\n",
    "    \n",
    "    clip_data_fp = os.path.join(clip_data_dir, clip_id + '.csv')\n",
    "    np.savetxt(clip_data_fp, clip_data, delimiter=\",\", fmt='%.9e')"
   ]
  },
  {
   "cell_type": "markdown",
   "id": "c9844300-e520-49a9-b975-210caa20a21f",
   "metadata": {},
   "source": [
    "## Check it all looks ok"
   ]
  },
  {
   "cell_type": "code",
   "execution_count": 21,
   "id": "717812e0-af4e-4bd0-96db-5ce83ece61c3",
   "metadata": {},
   "outputs": [],
   "source": [
    "clip_id = clip_ids[-1]\n",
    "clip_data_fp = os.path.join(clip_data_dir, clip_id + '.csv')\n",
    "data = np.array(pd.read_csv(clip_data_fp, delimiter = ',', header = None))\n",
    "#data = np.load(clip_data_fp)"
   ]
  },
  {
   "cell_type": "code",
   "execution_count": 22,
   "id": "77164f71-4257-43b1-ae76-49f1438c836e",
   "metadata": {},
   "outputs": [
    {
     "data": {
      "text/plain": [
       "(855945, 8)"
      ]
     },
     "execution_count": 22,
     "metadata": {},
     "output_type": "execute_result"
    }
   ],
   "source": [
    "np.shape(data)"
   ]
  },
  {
   "cell_type": "code",
   "execution_count": 23,
   "id": "b1d243b7-ec2e-4bc5-8239-400cc7241953",
   "metadata": {},
   "outputs": [
    {
     "data": {
      "image/png": "[encoded data removed]",
      "text/plain": [
       "<Figure size 432x288 with 1 Axes>"
      ]
     },
     "metadata": {
      "needs_background": "light"
     },
     "output_type": "display_data"
    }
   ],
   "source": [
    "for i in range(np.shape(data)[1]):\n",
    "    plt.plot(data[:300000, i])"
   ]
  },
  {
   "cell_type": "markdown",
   "id": "a6c4b9bd-8f21-49c0-9668-0cc6ae9ccd7a",
   "metadata": {},
   "source": [
    "## Plot Dataset Summary"
   ]
  },
  {
   "cell_type": "code",
   "execution_count": 24,
   "id": "236593e6-2ca4-46c2-a424-b848d01da90a",
   "metadata": {},
   "outputs": [],
   "source": [
    "# Count class representation\n",
    "\n",
    "beh_names = dataset_metadata['label_names']\n",
    "train_label_count = {name : 0 for name in beh_names}\n",
    "val_label_count = {name : 0 for name in beh_names}\n",
    "dev_label_count = {name : 0 for name in beh_names}\n",
    "test_label_count = {name : 0 for name in beh_names}\n",
    "\n",
    "for clip_id in clip_ids:\n",
    "    clip_data_fp = os.path.join(clip_data_dir, clip_id + '.csv')\n",
    "    data = pd.read_csv(clip_data_fp, delimiter = ',', header = None)\n",
    "    counts = data[data.keys()[-1]].astype(int).value_counts()\n",
    "    for key in counts.keys():\n",
    "        name = beh_names[key]\n",
    "        if clip_id in dataset_metadata['train_clip_ids']:\n",
    "            train_label_count[name] += counts[key]\n",
    "            dev_label_count[name] += counts[key]\n",
    "        elif clip_id in dataset_metadata['val_clip_ids']:\n",
    "            val_label_count[name] += counts[key]\n",
    "            dev_label_count[name] += counts[key]\n",
    "        elif clip_id in dataset_metadata['test_clip_ids']:\n",
    "            test_label_count[name] += counts[key]\n",
    "\n",
    "train_label_perc = {name : 0 for name in beh_names[1:]}\n",
    "val_label_perc = {name : 0 for name in beh_names[1:]}\n",
    "dev_label_perc = {name : 0 for name in beh_names[1:]}\n",
    "test_label_perc = {name : 0 for name in beh_names[1:]}\n",
    "\n",
    "for name in beh_names[1:]:\n",
    "    train_label_perc[name] = float(train_label_count[name] / sum([train_label_count[j] for j in beh_names[1:]]))\n",
    "    val_label_perc[name] = float(val_label_count[name] / sum([val_label_count[j] for j in beh_names[1:]]))\n",
    "    dev_label_perc[name] = float(dev_label_count[name] / sum([dev_label_count[j] for j in beh_names[1:]]))\n",
    "    test_label_perc[name] = float(test_label_count[name] / sum([test_label_count[j] for j in beh_names[1:]]))"
   ]
  },
  {
   "cell_type": "code",
   "execution_count": 25,
   "id": "f3a805c7-00a7-44dd-9494-2fdd66a00620",
   "metadata": {},
   "outputs": [
    {
     "data": {
      "image/png": "[encoded data removed]",
      "text/plain": [
       "<Figure size 640x480 with 1 Axes>"
      ]
     },
     "metadata": {
      "needs_background": "light"
     },
     "output_type": "display_data"
    }
   ],
   "source": [
    "# Plot class representation\n",
    "\n",
    "keys = np.arange(len(beh_names))[1:]\n",
    "offset = 0.1\n",
    "width = 0.2\n",
    "plt.figure(figsize=(8, 6), dpi=80)\n",
    "\n",
    "plt.barh(keys - offset, [dev_label_perc[beh_names[key]] for key in keys], height=width, align='center', label = 'train') #We call dev set 'train' in the paper\n",
    "#plt.barh(keys, [val_label_perc[beh_names[key]] for key in keys], height=width, align='center', label = 'val')\n",
    "plt.barh(keys + offset, [test_label_perc[beh_names[key]] for key in keys], height=width, align='center', label = 'test')\n",
    "plt.title(\"Class representation across data splits\")\n",
    "plt.yticks(keys, beh_names[1:], fontsize = 7, rotation = 60)\n",
    "plt.xlabel('Percent of known labels')\n",
    "plt.legend()\n",
    "target_fp = os.path.join(formatted_data_dir, 'class_rep.png')\n",
    "\n",
    "plt.savefig(target_fp)\n",
    "plt.show()\n",
    "\n",
    "numerical_target_fp = os.path.join(formatted_data_dir, 'class_rep.yaml')\n",
    "class_rep_dict = {'train_label_perc' : train_label_perc,\n",
    "                  'val_label_perc' : val_label_perc,\n",
    "                  'dev_label_perc' : dev_label_perc,\n",
    "                  'test_label_perc' : test_label_perc}\n",
    "with open(numerical_target_fp, 'w') as file:\n",
    "    yaml.dump(class_rep_dict, file)"
   ]
  },
  {
   "cell_type": "code",
   "execution_count": 26,
   "id": "1031e026-0e74-4952-9a83-573d7427b52e",
   "metadata": {},
   "outputs": [
    {
     "data": {
      "image/png": "[encoded data removed]",
      "text/plain": [
       "<Figure size 648x144 with 3 Axes>"
      ]
     },
     "metadata": {},
     "output_type": "display_data"
    }
   ],
   "source": [
    "# Pie chart, of known vs unknown samples \n",
    "\n",
    "labels = 'Known', 'Unknown'\n",
    "train_sizes = [sum([train_label_count[j] for j in beh_names[1:]]), train_label_count['unknown']]\n",
    "val_sizes = [sum([val_label_count[j] for j in beh_names[1:]]), val_label_count['unknown']]\n",
    "test_sizes = [sum([test_label_count[j] for j in beh_names[1:]]), test_label_count['unknown']]\n",
    "\n",
    "fig, ax = plt.subplots(1,3, figsize = (9,2))\n",
    "plt.title(\"blah\")\n",
    "\n",
    "ax[0].pie(train_sizes, labels=labels, autopct='%1.1f%%', startangle=90)\n",
    "ax[0].axis('equal')  # Equal aspect ratio ensures that pie is drawn as a circle.\n",
    "ax[0].set_title('Train')\n",
    "\n",
    "ax[1].pie(val_sizes, labels=labels, autopct='%1.1f%%', startangle=90)\n",
    "ax[1].axis('equal')  # Equal aspect ratio ensures that pie is drawn as a circle.\n",
    "ax[1].set_title('Val')\n",
    "\n",
    "ax[2].pie(test_sizes, labels=labels, autopct='%1.1f%%', startangle=90)\n",
    "ax[2].axis('equal')  # Equal aspect ratio ensures that pie is drawn as a circle.\n",
    "ax[2].set_title('Test')\n",
    "\n",
    "target_fp = os.path.join(formatted_data_dir, 'perc_known.png')\n",
    "\n",
    "plt.savefig(target_fp)\n",
    "\n",
    "plt.show()\n"
   ]
  },
  {
   "cell_type": "markdown",
   "id": "db0ac044-fb90-4b5b-9b90-ed1a54736833",
   "metadata": {},
   "source": [
    "## Temporal Statistics"
   ]
  },
  {
   "cell_type": "code",
   "execution_count": 27,
   "id": "5e7740a0-1c09-414c-bcf7-9de9f6458773",
   "metadata": {},
   "outputs": [
    {
     "name": "stderr",
     "output_type": "stream",
     "text": [
      "100%|██████████| 4/4 [00:02<00:00,  1.48it/s]"
     ]
    },
    {
     "name": "stdout",
     "output_type": "stream",
     "text": [
      "Mean overall label duration is 12.008 seconds\n",
      "Re-saving metadata to /home/jupyter/behavior_data_local/data/formatted/baglione_crows/dataset_metadata.yaml\n"
     ]
    },
    {
     "name": "stderr",
     "output_type": "stream",
     "text": [
      "\n"
     ]
    }
   ],
   "source": [
    "####################################\n",
    "infill_max_dur_sec = 0 # If annotations are nnnnn0000000nnnnn, where 0=unknown, do we fill in 0's with n's?\n",
    "####################################\n",
    "\n",
    "# This cell runs almost as a stand alone, but requires the first few cells of this notebook to be run first\n",
    "\n",
    "import tqdm\n",
    "from pathlib import Path\n",
    "\n",
    "dataset_metadata_fp = os.path.join(formatted_data_dir, 'dataset_metadata.yaml')\n",
    "\n",
    "with open(dataset_metadata_fp, 'r') as file:\n",
    "    metadata = yaml.safe_load(file)\n",
    "\n",
    "clip_fps = list(Path(clip_data_dir).glob('*.csv'))\n",
    "\n",
    "def create_list_of_durations(x, infill_max_dur_sec, samplerate, unknown_value = 0):\n",
    "    # First pass: create a list of label durations, together with a list of the associated classes\n",
    "    current_value = 0\n",
    "    current_dur = 0\n",
    "    list_of_durs = []\n",
    "    list_of_labels = []\n",
    "    for i in x:\n",
    "        if i == current_value:\n",
    "            current_dur += 1\n",
    "        elif i != current_value:\n",
    "            list_of_durs.append(current_dur / samplerate)\n",
    "            list_of_labels.append(current_value)\n",
    "            current_dur = 1\n",
    "            current_value = i\n",
    "            \n",
    "    list_of_durs.append(current_dur)\n",
    "    list_of_labels.append(current_value)\n",
    "            \n",
    "    # repeatedly merge similar labels if they are seperated by unknowns of short duration\n",
    "    # This is mainly to deal with duty cycling of observations\n",
    "    infill_max_dur_samples = int(infill_max_dur_sec * samplerate)\n",
    "    \n",
    "    if list_of_labels[0] == unknown_value:\n",
    "        del list_of_labels[0]\n",
    "        del list_of_durs[0]\n",
    "        \n",
    "    if list_of_labels[-1] == unknown_value:\n",
    "        del list_of_labels[-1]\n",
    "        del list_of_durs[-1]\n",
    "    \n",
    "    j = 1\n",
    "    while j<len(list_of_labels)-1:\n",
    "        if list_of_labels[j] != unknown_value:\n",
    "            j+= 1\n",
    "        elif list_of_labels[j-1] == list_of_labels[j+1] and list_of_durs[j] < infill_max_dur_samples:\n",
    "            # merge if it's a short interval of unknowns between two of the same label\n",
    "            list_of_durs[j-1] += list_of_durs[j+1]\n",
    "            del list_of_durs[j+1]\n",
    "            del list_of_durs[j]\n",
    "            del list_of_labels[j+1]\n",
    "            del list_of_labels[j]\n",
    "        else:\n",
    "            # otherwise, drop the unknown segment\n",
    "            del list_of_durs[j]\n",
    "            del list_of_labels[j]\n",
    "\n",
    "    return list_of_labels, list_of_durs # list of annotation durations, in samples.\n",
    "                             \n",
    "durs_sec_by_individual = {i : [] for i in metadata['individual_ids']}\n",
    "overall_durs_sec = []\n",
    "    \n",
    "for fp in tqdm.tqdm(clip_fps):\n",
    "    clip_id = fp.stem\n",
    "    individual_id = metadata['clip_id_to_individual_id'][clip_id]\n",
    "    clip_annotations = list(pd.read_csv(fp, header = None).values[:, -1])\n",
    "    l, d = create_list_of_durations(clip_annotations, infill_max_dur_sec, metadata['sr'])\n",
    "    durs_sec_by_individual[individual_id].extend(d)\n",
    "    overall_durs_sec.extend(d)\n",
    "    \n",
    "mean_dur_sec_by_individual = {i : float(np.mean(durs_sec_by_individual[i])) for i in durs_sec_by_individual}\n",
    "mean_overall_dur_sec = float(np.mean(overall_durs_sec))\n",
    "\n",
    "metadata['mean_dur_sec_by_individual'] = mean_dur_sec_by_individual\n",
    "metadata['mean_overall_dur_sec'] = mean_overall_dur_sec\n",
    "\n",
    "print(\"Mean overall label duration is %0.3f seconds\" % mean_overall_dur_sec)\n",
    "\n",
    "print(\"Re-saving metadata to %s\" % str(dataset_metadata_fp))\n",
    "\n",
    "with open(dataset_metadata_fp, 'w') as file:\n",
    "    yaml.dump(metadata, file)"
   ]
  },
  {
   "cell_type": "code",
   "execution_count": 28,
   "id": "06ff7887-0e70-499e-8ef7-05ed8e8a6f4c",
   "metadata": {},
   "outputs": [],
   "source": [
    "# Save off summary stats\n",
    "\n",
    "summary_fp = '/home/jupyter/BEBE-datasets/summaries.yaml'\n",
    "summary_dict = {}\n",
    "summary_dict['overall_durs_sec'] = overall_durs_sec\n",
    "\n",
    "if not os.path.exists(summary_fp):\n",
    "    with open(summary_fp, 'w') as file:\n",
    "        yaml.dump({}, file)\n",
    "        \n",
    "with open(summary_fp, 'r') as file:\n",
    "    summaries = yaml.safe_load(file)\n",
    "    \n",
    "summaries['Crows'] = summary_dict\n",
    "\n",
    "with open(summary_fp, 'w') as file:\n",
    "    yaml.dump(summaries, file)\n"
   ]
  },
  {
   "cell_type": "code",
   "execution_count": null,
   "id": "7a02a314-7dde-4b18-bb54-99498df366b9",
   "metadata": {},
   "outputs": [],
   "source": []
  }
 ],
 "metadata": {
  "environment": {
   "kernel": "python3",
   "name": "pytorch-gpu.1-9.m82",
   "type": "gcloud",
   "uri": "gcr.io/deeplearning-platform-release/pytorch-gpu.1-9:m82"
  },
  "kernelspec": {
   "display_name": "Python 3",
   "language": "python",
   "name": "python3"
  },
  "language_info": {
   "codemirror_mode": {
    "name": "ipython",
    "version": 3
   },
   "file_extension": ".py",
   "mimetype": "text/x-python",
   "name": "python",
   "nbconvert_exporter": "python",
   "pygments_lexer": "ipython3",
   "version": "3.7.10"
  }
 },
 "nbformat": 4,
 "nbformat_minor": 5
}
