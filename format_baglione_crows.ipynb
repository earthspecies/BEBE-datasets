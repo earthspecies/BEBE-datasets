{
 "cells": [
  {
   "cell_type": "markdown",
   "id": "86ce8245-b923-42ba-b1cf-b0a8bdb804d4",
   "metadata": {},
   "source": [
    "# Notebook to format data provided by Baglione lab. Currently unpublished"
   ]
  },
  {
   "cell_type": "markdown",
   "id": "77461baa-2d89-4ddf-b8b9-283f19b3313e",
   "metadata": {},
   "source": [
    "## Setup"
   ]
  },
  {
   "cell_type": "code",
   "execution_count": 1,
   "id": "a9cd11e9-258b-4304-a21d-f826f276b73b",
   "metadata": {},
   "outputs": [],
   "source": [
    "# Outputs:\n",
    "# formatted dataset directory\n",
    "# dataset_metadata (yaml), includes\n",
    "## sample_rate\n",
    "## dataset_label_names (list)\n",
    "## dataset_feature_names (list)\n",
    "## clip_ids (list)\n",
    "# clip_data (directory), includes\n",
    "## data_files (multiple files)"
   ]
  },
  {
   "cell_type": "code",
   "execution_count": 2,
   "id": "7470e077-e978-495a-b349-27cc5a6b2a40",
   "metadata": {},
   "outputs": [],
   "source": [
    "%load_ext autoreload\n",
    "%autoreload 2"
   ]
  },
  {
   "cell_type": "code",
   "execution_count": 3,
   "id": "ec388900-f0ab-4e41-a56b-9597e4f4911f",
   "metadata": {},
   "outputs": [],
   "source": [
    "import os\n",
    "import numpy as np\n",
    "import pandas as pd\n",
    "from matplotlib import pyplot as plt\n",
    "import glob\n",
    "import yaml\n",
    "import scipy.signal as signal\n",
    "import scipy.io as sio\n",
    "from pathlib import Path\n",
    "import IPython.display as ipd\n",
    "from tqdm import tqdm"
   ]
  },
  {
   "cell_type": "code",
   "execution_count": 4,
   "id": "6bc728a2-a91e-4da2-abea-4b57ceb4e818",
   "metadata": {},
   "outputs": [],
   "source": [
    "# Specify data filepaths\n",
    "\n",
    "#raw_data_dir = Path('/home/jupyter/behavior_data_local/data/raw/baglione_crows')\n",
    "raw_data_dir = Path('/home/jupyter/behavior_data_local/data/raw/baglione_crows')\n",
    "formatted_data_dir = Path('/home/jupyter/behavior_data_local/data/formatted/baglione_crows')\n",
    "\n",
    "if not os.path.exists(formatted_data_dir):\n",
    "    os.makedirs(formatted_data_dir)\n",
    "    \n",
    "#annotations_fp = raw_data_dir.joinpath('labelled_datasets_individual_vocalizations_classification_with_file.csv')\n",
    "annotations_dir = Path(raw_data_dir, 'Behavior_annotations')\n",
    "\n",
    "data_fps = sorted(raw_data_dir.glob('*.csv'))\n",
    "annotations_fps = sorted(annotations_dir.glob('*.csv'))"
   ]
  },
  {
   "cell_type": "code",
   "execution_count": 5,
   "id": "98f244e7-ac03-48e2-868a-1b7f7dd15fea",
   "metadata": {},
   "outputs": [],
   "source": [
    "# Dataset metadata\n",
    "dataset_metadata = {}\n",
    "sr = 50 # They provide up to 1000 Hz, but we use 50\n",
    "dataset_metadata['sr'] = sr ## from dataset documentation\n",
    "dataset_metadata['dataset_name'] = 'baglione_crows'"
   ]
  },
  {
   "cell_type": "code",
   "execution_count": 6,
   "id": "b6e3bfcd-bfdf-4799-b62b-c6a7cee98335",
   "metadata": {},
   "outputs": [],
   "source": [
    "# Convenience functions\n",
    "\n",
    "def data_fp_to_clip_id(x):\n",
    "    return x.stem[:-4]\n",
    "\n",
    "def annotation_fp_to_clip_id(x):\n",
    "    p = x.stem.split('_')\n",
    "    return '_'.join(['19', p[1], p[2], p[3][-2:]])\n",
    "\n",
    "# def clip_id_to_data_fp(y):\n",
    "#     y = y.split('_')\n",
    "#     return raw_data_dir.joinpath('data').joinpath('19').joinpath(y[0]).joinpath(y[1]).joinpath(y[2]+'.swv')\n",
    "\n",
    "def clip_id_to_data_fp(y):\n",
    "    return Path(raw_data_dir, y + '_acc.csv')"
   ]
  },
  {
   "cell_type": "code",
   "execution_count": 7,
   "id": "f9187b43-b220-4b52-8d02-d31dad0681c6",
   "metadata": {},
   "outputs": [],
   "source": [
    "# Get list of clip ids\n",
    "\n",
    "clip_ids = sorted([data_fp_to_clip_id(x) for x in data_fps])\n",
    "\n",
    "# data_fps = [raw_data_dir + '/' + clip_id + '/' +clip_id +'prh_speed.mat' for clip_id in clip_ids]\n",
    "\n",
    "clip_data_dir = os.path.join(formatted_data_dir, 'clip_data')\n",
    "if not os.path.exists(clip_data_dir):\n",
    "    os.makedirs(clip_data_dir)"
   ]
  },
  {
   "cell_type": "code",
   "execution_count": 8,
   "id": "7ea20959-639e-4f2c-8efa-945516302110",
   "metadata": {},
   "outputs": [],
   "source": [
    "## Integer codes for individuals\n",
    "\n",
    "clip_id_to_individual = {}\n",
    "for clip_id in clip_ids:\n",
    "    y = clip_id.split('_')\n",
    "    clip_id_to_individual[clip_id] = y[0] + '_' + y[1] + '_' + y[2]\n",
    "     \n",
    "individuals = sorted(set(clip_id_to_individual[y] for y in clip_ids))\n",
    "\n",
    "## Integer codes for individuals\n",
    "\n",
    "individual_to_individual_id = {individual : i for i, individual in enumerate(individuals)}\n",
    "clip_id_to_individual_id = {clip_id : individual_to_individual_id[clip_id_to_individual[clip_id]] for clip_id in clip_ids}\n",
    "    \n",
    "\n",
    "dataset_metadata['individual_ids'] = [individual_to_individual_id[x] for x in individuals]\n",
    "dataset_metadata['clip_id_to_individual_id'] = clip_id_to_individual_id"
   ]
  },
  {
   "cell_type": "code",
   "execution_count": 9,
   "id": "b719e122-9b2d-4fb1-a519-36f58a545c0c",
   "metadata": {},
   "outputs": [
    {
     "name": "stdout",
     "output_type": "stream",
     "text": [
      "{0: [0, 5, 10], 1: [1, 6], 2: [2, 7], 3: [3, 8], 4: [4, 9]}\n",
      "There are 11 individuals\n"
     ]
    }
   ],
   "source": [
    "# Set up data splits: divide individuals across folds for cross validation\n",
    "\n",
    "n_folds = 5\n",
    "dataset_metadata['n_folds'] = n_folds\n",
    "individuals_per_fold = {i : [] for i in range(n_folds)}\n",
    "\n",
    "for pointer, individual in enumerate(dataset_metadata['individual_ids']):\n",
    "    individuals_per_fold[pointer % n_folds].append(individual)\n",
    "    \n",
    "dataset_metadata['individuals_per_fold'] = individuals_per_fold\n",
    "    \n",
    "print(individuals_per_fold)\n",
    "print(\"There are %d individuals\" % len(individuals))"
   ]
  },
  {
   "cell_type": "code",
   "execution_count": 10,
   "id": "c157d4f6-3dba-4ab8-aa3c-700f5ca3061e",
   "metadata": {},
   "outputs": [],
   "source": [
    "# Set up clip ids \n",
    "\n",
    "clip_ids_per_fold = {i : [] for i in range(n_folds)}\n",
    "for clip_id in clip_ids:\n",
    "    individual = clip_id_to_individual_id[clip_id]\n",
    "    for fold in range(n_folds):\n",
    "        if individual in individuals_per_fold[fold]:\n",
    "            clip_ids_per_fold[fold].append(clip_id)\n",
    "for fold in range(n_folds):\n",
    "    clip_ids_per_fold[fold] = sorted(clip_ids_per_fold[fold])\n",
    "\n",
    "dataset_metadata['clip_ids_per_fold'] = clip_ids_per_fold\n",
    "dataset_metadata['clip_ids'] = clip_ids"
   ]
  },
  {
   "cell_type": "markdown",
   "id": "3fca914b-f4d0-4265-b18c-71cd7aca2dc5",
   "metadata": {},
   "source": [
    "## Create dataset-level metadata"
   ]
  },
  {
   "cell_type": "code",
   "execution_count": 11,
   "id": "444a3dc3-dfb0-4907-833e-8caf3eb4d88d",
   "metadata": {},
   "outputs": [],
   "source": [
    "## Integer codes for specific behaviors\n",
    "\n",
    "beh_names = ['unknown',\n",
    "             'flying',\n",
    "             'in_nest']\n",
    "\n",
    "dataset_metadata['label_names'] = beh_names\n",
    "\n",
    "beh_str_to_int = {name : i for i, name in enumerate(beh_names)}\n",
    "beh_int_to_str = {i : name for i, name in enumerate(beh_names)}\n"
   ]
  },
  {
   "cell_type": "code",
   "execution_count": 12,
   "id": "f438d48f-0596-4a58-8669-358c9a4cec2d",
   "metadata": {},
   "outputs": [],
   "source": [
    "## clip_data column names\n",
    "\n",
    "clip_column_names = ['AccX', 'AccY', 'AccZ', 'individual_id', 'label']\n",
    "dataset_metadata['clip_column_names'] = clip_column_names"
   ]
  },
  {
   "cell_type": "code",
   "execution_count": 13,
   "id": "a560ecfd-2ff8-4aff-a58c-76bb31200b86",
   "metadata": {},
   "outputs": [],
   "source": [
    "## Save off dataset level metadata\n",
    "\n",
    "dataset_metadata_fp = os.path.join(formatted_data_dir, 'dataset_metadata.yaml')\n",
    "\n",
    "with open(dataset_metadata_fp, 'w') as file:\n",
    "    yaml.dump(dataset_metadata, file)"
   ]
  },
  {
   "cell_type": "markdown",
   "id": "f964b042-2a2b-4690-bdd1-1685991ca77f",
   "metadata": {},
   "source": [
    "## Format Clip Data"
   ]
  },
  {
   "cell_type": "code",
   "execution_count": 14,
   "id": "e4ae21e9-df06-469e-8ee8-afb811f6b909",
   "metadata": {},
   "outputs": [],
   "source": [
    "# Convenience function to detect nans.\n",
    "def nan_helper(y):\n",
    "    return np.isnan(y), lambda z: z.nonzero()[0]\n",
    "\n",
    "#Interpolates all nan values of given array\n",
    "def interpolate_nan(y):\n",
    "    nans, x= nan_helper(y)\n",
    "    y[nans]= np.interp(x(nans), x(~nans), y[~nans])\n",
    "    return y"
   ]
  },
  {
   "cell_type": "code",
   "execution_count": 15,
   "id": "226d618a-e1ac-4b91-993b-2c1b50e1f7a0",
   "metadata": {},
   "outputs": [
    {
     "name": "stderr",
     "output_type": "stream",
     "text": [
      "100%|██████████| 20/20 [01:44<00:00,  5.22s/it]\n"
     ]
    }
   ],
   "source": [
    "# For each clip, create and save the data in the correct format\n",
    "\n",
    "total_dur_samples = 0\n",
    "total_annotation_dur_samples = 0\n",
    "\n",
    "for annotation_fp in tqdm(annotations_fps):\n",
    "    clip_id = annotation_fp_to_clip_id(annotation_fp)\n",
    "    \n",
    "    # load features\n",
    "    data_fp = clip_id_to_data_fp(clip_id)\n",
    "    data  = pd.read_csv(data_fp, header = None).values\n",
    "    \n",
    "    dur = np.shape(data)[0]\n",
    "    clip_data = np.zeros((dur, 5))\n",
    "    total_dur_samples += dur\n",
    "    \n",
    "    # correct for gravity\n",
    "    for i in [0, 1, 2]: \n",
    "        x = data[:, i]\n",
    "        x = interpolate_nan(x)\n",
    "        clip_data[:, i] = x\n",
    "    \n",
    "    # load annotations\n",
    "    annotations = pd.read_csv(annotation_fp)\n",
    "    \n",
    "    # reformat annotations\n",
    "    per_frame_annotations = np.zeros(dur) # populate with 0's, aka \"unknown\"\n",
    "    for i, row in annotations.iterrows():\n",
    "        int_label = row['label']\n",
    "        start_sample = int(row['start_sec'] *sr)\n",
    "        end_sample = int(row['end_sec'] *sr)\n",
    "        per_frame_annotations[start_sample: end_sample] = int_label\n",
    "\n",
    "    clip_data[:, -1] = per_frame_annotations\n",
    "\n",
    "    # insert individual id\n",
    "    individual_id = clip_id_to_individual_id[clip_id]\n",
    "    clip_data[:, -2] = individual_id\n",
    "    \n",
    "    clip_data_fp = os.path.join(clip_data_dir, clip_id + '.csv')\n",
    "    np.savetxt(clip_data_fp, clip_data, delimiter=\",\", fmt='%.9e')\n",
    "    \n",
    "    clip_annotation_dur_samples = np.sum(per_frame_annotations > 0)\n",
    "    total_annotation_dur_samples += clip_annotation_dur_samples\n",
    "    "
   ]
  },
  {
   "cell_type": "code",
   "execution_count": 16,
   "id": "6b0da2c9-2013-4a6c-94d9-0a4408f65fbe",
   "metadata": {},
   "outputs": [
    {
     "name": "stdout",
     "output_type": "stream",
     "text": [
      "total duration is 280873.380000 seconds, i.e. 78.020383 hours\n",
      "total annotation duration is 12085.000000 seconds, i.e. 3.356944 hours\n"
     ]
    }
   ],
   "source": [
    "total_dur_sec = total_dur_samples / sr\n",
    "total_dur_hours = total_dur_sec / 3600\n",
    "print(\"total duration is %f seconds, i.e. %f hours\" % (total_dur_sec, total_dur_hours))\n",
    "\n",
    "total_annotation_dur_sec = total_annotation_dur_samples / sr\n",
    "total_annotation_dur_hours = total_annotation_dur_sec / 3600\n",
    "print(\"total annotation duration is %f seconds, i.e. %f hours\" % (total_annotation_dur_sec, total_annotation_dur_hours))"
   ]
  },
  {
   "cell_type": "markdown",
   "id": "c9844300-e520-49a9-b975-210caa20a21f",
   "metadata": {},
   "source": [
    "## Check it all looks ok"
   ]
  },
  {
   "cell_type": "code",
   "execution_count": 17,
   "id": "717812e0-af4e-4bd0-96db-5ce83ece61c3",
   "metadata": {},
   "outputs": [],
   "source": [
    "clip_id = clip_ids[-1]\n",
    "clip_data_fp = os.path.join(clip_data_dir, clip_id + '.csv')\n",
    "data = np.array(pd.read_csv(clip_data_fp, delimiter = ',', header = None))\n",
    "#data = np.load(clip_data_fp)"
   ]
  },
  {
   "cell_type": "code",
   "execution_count": 18,
   "id": "77164f71-4257-43b1-ae76-49f1438c836e",
   "metadata": {},
   "outputs": [
    {
     "data": {
      "text/plain": [
       "(353684, 5)"
      ]
     },
     "execution_count": 18,
     "metadata": {},
     "output_type": "execute_result"
    }
   ],
   "source": [
    "np.shape(data)"
   ]
  },
  {
   "cell_type": "code",
   "execution_count": 19,
   "id": "b1d243b7-ec2e-4bc5-8239-400cc7241953",
   "metadata": {},
   "outputs": [
    {
     "data": {
      "image/png": "[encoded data removed]",
      "text/plain": [
       "<Figure size 432x288 with 1 Axes>"
      ]
     },
     "metadata": {
      "needs_background": "light"
     },
     "output_type": "display_data"
    }
   ],
   "source": [
    "for i in range(np.shape(data)[1]):\n",
    "    plt.plot(data[:300000, i])"
   ]
  },
  {
   "cell_type": "markdown",
   "id": "a6c4b9bd-8f21-49c0-9668-0cc6ae9ccd7a",
   "metadata": {},
   "source": [
    "## Plot Dataset Summary"
   ]
  },
  {
   "cell_type": "code",
   "execution_count": 20,
   "id": "236593e6-2ca4-46c2-a424-b848d01da90a",
   "metadata": {},
   "outputs": [],
   "source": [
    "# Count class representation\n",
    "\n",
    "beh_names = dataset_metadata['label_names']\n",
    "label_count = {fold : {name : 0 for name in beh_names} for fold in range(n_folds)}\n",
    "\n",
    "for clip_id in clip_ids:\n",
    "    clip_data_fp = os.path.join(clip_data_dir, clip_id + '.csv')\n",
    "    data = pd.read_csv(clip_data_fp, delimiter = ',', header = None)\n",
    "    counts = data[data.keys()[-1]].astype(int).value_counts()\n",
    "    for key in counts.keys():\n",
    "        name = beh_names[key]\n",
    "        for fold in range(n_folds):\n",
    "            if clip_id in dataset_metadata['clip_ids_per_fold'][fold]:\n",
    "                label_count[fold][name] += counts[key]\n",
    "                \n",
    "label_perc = {fold : {name : 0 for name in beh_names[1:]} for fold in range(n_folds)}\n",
    "\n",
    "for name in beh_names[1:]:\n",
    "    for fold in range(n_folds):\n",
    "        label_perc[fold][name] = label_count[fold][name] / sum([label_count[fold][j] for j in beh_names[1:]])\n"
   ]
  },
  {
   "cell_type": "code",
   "execution_count": 21,
   "id": "f3a805c7-00a7-44dd-9494-2fdd66a00620",
   "metadata": {},
   "outputs": [
    {
     "data": {
      "image/png": "[encoded data removed]",
      "text/plain": [
       "<Figure size 640x480 with 1 Axes>"
      ]
     },
     "metadata": {
      "needs_background": "light"
     },
     "output_type": "display_data"
    }
   ],
   "source": [
    "# Plot class representation\n",
    "\n",
    "# https://gist.github.com/thriveth/8560036#file-cbcolors-py\n",
    "CB_color_cycle = ['#377eb8', '#ff7f00', '#4daf4a',\n",
    "                  '#f781bf', '#a65628', '#984ea3',\n",
    "                  '#999999', '#e41a1c', '#dede00']\n",
    "\n",
    "keys = np.arange(len(beh_names))[1:]\n",
    "offset = 0.1\n",
    "width = 0.1\n",
    "plt.figure(figsize=(8, 6), dpi=80)\n",
    "\n",
    "for fold in range(n_folds):\n",
    "    current_offset = -(fold - n_folds // 2)*offset\n",
    "    plt.barh(keys +current_offset, [label_perc[fold][beh_names[key]] for key in keys], height=width, align='center', label = fold, color = CB_color_cycle[fold])\n",
    "    \n",
    "plt.title(\"Class representation across folds\")\n",
    "plt.yticks(keys, beh_names[1:], fontsize = 7, rotation = 60)\n",
    "plt.xlabel('Percent of known labels')\n",
    "plt.legend()\n",
    "target_fp = os.path.join(formatted_data_dir, 'class_rep.png')\n",
    "\n",
    "plt.savefig(target_fp)\n",
    "plt.show()\n",
    "\n",
    "numerical_target_fp = os.path.join(formatted_data_dir, 'class_rep.yaml')\n",
    "with open(numerical_target_fp, 'w') as file:\n",
    "    yaml.dump(label_perc, file)"
   ]
  },
  {
   "cell_type": "code",
   "execution_count": 22,
   "id": "1031e026-0e74-4952-9a83-573d7427b52e",
   "metadata": {},
   "outputs": [
    {
     "data": {
      "image/png": "[encoded data removed]",
      "text/plain": [
       "<Figure size 1080x144 with 5 Axes>"
      ]
     },
     "metadata": {},
     "output_type": "display_data"
    }
   ],
   "source": [
    "# Pie chart, of known vs unknown samples \n",
    "\n",
    "labels = 'Known', 'Unknown'\n",
    "sizes = {fold : [sum([label_count[fold][j] for j in beh_names[1:]]), label_count[fold]['unknown']] for fold in range(n_folds)}\n",
    "# train_sizes = [sum([train_label_count[j] for j in beh_names[1:]]), train_label_count['unknown']]\n",
    "# val_sizes = [sum([val_label_count[j] for j in beh_names[1:]]), val_label_count['unknown']]\n",
    "# test_sizes = [sum([test_label_count[j] for j in beh_names[1:]]), test_label_count['unknown']]\n",
    "\n",
    "fig, ax = plt.subplots(1,n_folds, figsize = (3*n_folds,2))\n",
    "\n",
    "for fold in range(n_folds):\n",
    "    ax[fold].pie(sizes[fold], labels=labels, autopct='%1.1f%%', startangle=90)\n",
    "    ax[fold].axis('equal')  # Equal aspect ratio ensures that pie is drawn as a circle.\n",
    "    ax[fold].set_title(fold)\n",
    "\n",
    "target_fp = os.path.join(formatted_data_dir, 'perc_known.png')\n",
    "\n",
    "plt.savefig(target_fp)\n",
    "\n",
    "plt.show()\n"
   ]
  },
  {
   "cell_type": "markdown",
   "id": "db0ac044-fb90-4b5b-9b90-ed1a54736833",
   "metadata": {},
   "source": [
    "## Temporal Statistics"
   ]
  },
  {
   "cell_type": "code",
   "execution_count": 23,
   "id": "5e7740a0-1c09-414c-bcf7-9de9f6458773",
   "metadata": {},
   "outputs": [
    {
     "name": "stderr",
     "output_type": "stream",
     "text": [
      "100%|██████████| 20/20 [00:20<00:00,  1.00s/it]"
     ]
    },
    {
     "name": "stdout",
     "output_type": "stream",
     "text": [
      "Mean overall label duration is 14.135 seconds\n",
      "Re-saving metadata to /home/jupyter/behavior_data_local/data/formatted/baglione_crows/dataset_metadata.yaml\n"
     ]
    },
    {
     "name": "stderr",
     "output_type": "stream",
     "text": [
      "\n"
     ]
    }
   ],
   "source": [
    "####################################\n",
    "infill_max_dur_sec = 0 # If annotations are nnnnn0000000nnnnn, where 0=unknown, do we fill in 0's with n's?\n",
    "####################################\n",
    "\n",
    "# This cell runs almost as a stand alone, but requires the first few cells of this notebook to be run first\n",
    "\n",
    "import tqdm\n",
    "from pathlib import Path\n",
    "\n",
    "dataset_metadata_fp = os.path.join(formatted_data_dir, 'dataset_metadata.yaml')\n",
    "\n",
    "with open(dataset_metadata_fp, 'r') as file:\n",
    "    metadata = yaml.safe_load(file)\n",
    "\n",
    "clip_fps = list(Path(clip_data_dir).glob('*.csv'))\n",
    "\n",
    "def create_list_of_durations(x, infill_max_dur_sec, samplerate, unknown_value = 0):\n",
    "    # First pass: create a list of label durations, together with a list of the associated classes\n",
    "    current_value = 0\n",
    "    current_dur = 0\n",
    "    list_of_durs = []\n",
    "    list_of_labels = []\n",
    "    for i in x:\n",
    "        if i == current_value:\n",
    "            current_dur += 1\n",
    "        elif i != current_value:\n",
    "            list_of_durs.append(current_dur / samplerate)\n",
    "            list_of_labels.append(current_value)\n",
    "            current_dur = 1\n",
    "            current_value = i\n",
    "            \n",
    "    list_of_durs.append(current_dur)\n",
    "    list_of_labels.append(current_value)\n",
    "            \n",
    "    # repeatedly merge similar labels if they are seperated by unknowns of short duration\n",
    "    # This is mainly to deal with duty cycling of observations\n",
    "    infill_max_dur_samples = int(infill_max_dur_sec * samplerate)\n",
    "    \n",
    "    if list_of_labels[0] == unknown_value:\n",
    "        del list_of_labels[0]\n",
    "        del list_of_durs[0]\n",
    "        \n",
    "    if len(list_of_labels) > 0:\n",
    "        if list_of_labels[-1] == unknown_value:\n",
    "            del list_of_labels[-1]\n",
    "            del list_of_durs[-1]\n",
    "    \n",
    "    j = 1\n",
    "    while j<len(list_of_labels)-1:\n",
    "        if list_of_labels[j] != unknown_value:\n",
    "            j+= 1\n",
    "        elif list_of_labels[j-1] == list_of_labels[j+1] and list_of_durs[j] < infill_max_dur_samples:\n",
    "            # merge if it's a short interval of unknowns between two of the same label\n",
    "            list_of_durs[j-1] += list_of_durs[j+1]\n",
    "            del list_of_durs[j+1]\n",
    "            del list_of_durs[j]\n",
    "            del list_of_labels[j+1]\n",
    "            del list_of_labels[j]\n",
    "        else:\n",
    "            # otherwise, drop the unknown segment\n",
    "            del list_of_durs[j]\n",
    "            del list_of_labels[j]\n",
    "\n",
    "    return list_of_labels, list_of_durs # list of annotation durations, in samples.\n",
    "                             \n",
    "durs_sec_by_individual = {i : [] for i in metadata['individual_ids']}\n",
    "overall_durs_sec = []\n",
    "    \n",
    "for fp in tqdm.tqdm(clip_fps):\n",
    "    clip_id = fp.stem\n",
    "    individual_id = metadata['clip_id_to_individual_id'][clip_id]\n",
    "    clip_annotations = list(pd.read_csv(fp, header = None).values[:, -1])\n",
    "    l, d = create_list_of_durations(clip_annotations, infill_max_dur_sec, metadata['sr'])\n",
    "    durs_sec_by_individual[individual_id].extend(d)\n",
    "    overall_durs_sec.extend(d)\n",
    "    \n",
    "mean_dur_sec_by_individual = {i : float(np.mean(durs_sec_by_individual[i])) for i in durs_sec_by_individual}\n",
    "mean_overall_dur_sec = float(np.mean(overall_durs_sec))\n",
    "\n",
    "metadata['mean_dur_sec_by_individual'] = mean_dur_sec_by_individual\n",
    "metadata['mean_overall_dur_sec'] = mean_overall_dur_sec\n",
    "\n",
    "print(\"Mean overall label duration is %0.3f seconds\" % mean_overall_dur_sec)\n",
    "\n",
    "print(\"Re-saving metadata to %s\" % str(dataset_metadata_fp))\n",
    "\n",
    "with open(dataset_metadata_fp, 'w') as file:\n",
    "    yaml.dump(metadata, file)"
   ]
  },
  {
   "cell_type": "code",
   "execution_count": null,
   "id": "7a02a314-7dde-4b18-bb54-99498df366b9",
   "metadata": {},
   "outputs": [],
   "source": []
  }
 ],
 "metadata": {
  "environment": {
   "kernel": "python3",
   "name": "pytorch-gpu.1-11.m94",
   "type": "gcloud",
   "uri": "gcr.io/deeplearning-platform-release/pytorch-gpu.1-11:m94"
  },
  "kernelspec": {
   "display_name": "Python 3",
   "language": "python",
   "name": "python3"
  },
  "language_info": {
   "codemirror_mode": {
    "name": "ipython",
    "version": 3
   },
   "file_extension": ".py",
   "mimetype": "text/x-python",
   "name": "python",
   "nbconvert_exporter": "python",
   "pygments_lexer": "ipython3",
   "version": "3.7.12"
  }
 },
 "nbformat": 4,
 "nbformat_minor": 5
}
