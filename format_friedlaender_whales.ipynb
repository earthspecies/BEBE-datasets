{
 "cells": [
  {
   "cell_type": "markdown",
   "id": "86ce8245-b923-42ba-b1cf-b0a8bdb804d4",
   "metadata": {},
   "source": [
    "# Notebook to format data from \"Extreme Diel Variation in the feeding behavior of humpback whales along the western Antarctic Peninsula during autumn\", Friedlaender et al (2013).\n",
    "\n",
    "Paper can be found [here](https://www.researchgate.net/publication/260209964_Extreme_diel_variation_in_the_feeding_behavior_of_humpback_whales_along_the_western_Antarctic_Peninsula_during_autumn).\n",
    "\n",
    "Data was supplied by Ari Friedlaender directly, he agreed to have it posted publicly"
   ]
  },
  {
   "cell_type": "markdown",
   "id": "77461baa-2d89-4ddf-b8b9-283f19b3313e",
   "metadata": {},
   "source": [
    "## Setup"
   ]
  },
  {
   "cell_type": "code",
   "execution_count": 1,
   "id": "a9cd11e9-258b-4304-a21d-f826f276b73b",
   "metadata": {},
   "outputs": [],
   "source": [
    "# Outputs:\n",
    "# formatted dataset directory\n",
    "# dataset_metadata (yaml), includes\n",
    "## sample_rate\n",
    "## dataset_label_names (list)\n",
    "## dataset_feature_names (list)\n",
    "## clip_ids (list)\n",
    "# clip_data (directory), includes\n",
    "## data_files (multiple files)"
   ]
  },
  {
   "cell_type": "code",
   "execution_count": 2,
   "id": "7470e077-e978-495a-b349-27cc5a6b2a40",
   "metadata": {},
   "outputs": [],
   "source": [
    "%load_ext autoreload\n",
    "%autoreload 2"
   ]
  },
  {
   "cell_type": "code",
   "execution_count": 3,
   "id": "ec388900-f0ab-4e41-a56b-9597e4f4911f",
   "metadata": {},
   "outputs": [],
   "source": [
    "import os\n",
    "import numpy as np\n",
    "import pandas as pd\n",
    "from matplotlib import pyplot as plt\n",
    "import glob\n",
    "import yaml\n",
    "import scipy.signal as signal\n",
    "import scipy.io as sio"
   ]
  },
  {
   "cell_type": "code",
   "execution_count": 4,
   "id": "6bc728a2-a91e-4da2-abea-4b57ceb4e818",
   "metadata": {},
   "outputs": [],
   "source": [
    "# Specify data filepaths\n",
    "\n",
    "raw_data_dir = '/home/jupyter/behavior_data_local/data/raw/friedlaender_whales'\n",
    "formatted_data_dir = '/home/jupyter/behavior_data_local/data/formatted/friedlaender_whales'\n",
    "\n",
    "if not os.path.exists(formatted_data_dir):\n",
    "    os.makedirs(formatted_data_dir)\n",
    "    \n",
    "# features_fps = glob.glob(raw_data_dir + '/*.h5')\n",
    "annotations_fps = glob.glob(raw_data_dir + '/annotations/*.csv')\n",
    "\n",
    "# Currently missing this processed data file:\n",
    "annotations_fps.remove('/home/jupyter/behavior_data_local/data/raw/friedlaender_whales/annotations/DiveInfo-mn09_122b.csv')\n",
    "\n",
    "clip_ids = sorted([x.split('/')[-1].split('.')[0].split('-')[-1] for x in annotations_fps])\n",
    "data_fps = [raw_data_dir + '/' + clip_id + '/' +clip_id +'prh_speed.mat' for clip_id in clip_ids]\n",
    "\n",
    "clip_data_dir = os.path.join(formatted_data_dir, 'clip_data')\n",
    "if not os.path.exists(clip_data_dir):\n",
    "    os.makedirs(clip_data_dir)"
   ]
  },
  {
   "cell_type": "code",
   "execution_count": 5,
   "id": "9714c1e3-2bc5-49a0-8ac6-62c21e63e83a",
   "metadata": {},
   "outputs": [
    {
     "name": "stdout",
     "output_type": "stream",
     "text": [
      "checked all data files exist!\n"
     ]
    }
   ],
   "source": [
    "for fp in data_fps:\n",
    "    if not os.path.exists(fp):\n",
    "        print(fp)\n",
    "        \n",
    "print('checked all data files exist!')"
   ]
  },
  {
   "cell_type": "code",
   "execution_count": 6,
   "id": "98f244e7-ac03-48e2-868a-1b7f7dd15fea",
   "metadata": {},
   "outputs": [],
   "source": [
    "# Dataset metadata\n",
    "dataset_metadata = {}\n",
    "sr = 5\n",
    "dataset_metadata['sr'] = sr ## from dataset documentation\n",
    "dataset_metadata['dataset_name'] = 'friedlaender_whales'"
   ]
  },
  {
   "cell_type": "code",
   "execution_count": 7,
   "id": "7ea20959-639e-4f2c-8efa-945516302110",
   "metadata": {},
   "outputs": [],
   "source": [
    "## Integer codes for individuals\n",
    "\n",
    "individual_ids = []\n",
    "clip_id_to_individual_id = {}\n",
    "for i, clip_id in enumerate(clip_ids):\n",
    "    clip_id_to_individual_id[clip_id] = i\n",
    "    individual_ids.append(i)\n",
    "\n",
    "dataset_metadata['individual_ids'] = individual_ids\n",
    "dataset_metadata['clip_id_to_individual_id'] = clip_id_to_individual_id\n",
    "dataset_metadata['clip_ids'] = clip_ids\n",
    "\n",
    "individuals = sorted({clip_id_to_individual_id[key] for key in clip_id_to_individual_id})"
   ]
  },
  {
   "cell_type": "code",
   "execution_count": 8,
   "id": "b96c5e03-a8d2-437b-8fe5-6178a978484c",
   "metadata": {},
   "outputs": [
    {
     "data": {
      "text/plain": [
       "{'mn09_127a': 0,\n",
       " 'mn09_148a': 1,\n",
       " 'mn09_152a': 2,\n",
       " 'mn10_132a': 3,\n",
       " 'mn10_133a': 4,\n",
       " 'mn10_139a': 5,\n",
       " 'mn10_144a': 6,\n",
       " 'mn10_151a': 7}"
      ]
     },
     "execution_count": 8,
     "metadata": {},
     "output_type": "execute_result"
    }
   ],
   "source": [
    "clip_id_to_individual_id"
   ]
  },
  {
   "cell_type": "code",
   "execution_count": 9,
   "id": "ad16f36f-6b6f-4d26-8092-347234015fc0",
   "metadata": {},
   "outputs": [
    {
     "name": "stdout",
     "output_type": "stream",
     "text": [
      "{0: [0, 5], 1: [1, 6], 2: [2, 7], 3: [3], 4: [4]}\n",
      "There are 8 individuals\n"
     ]
    }
   ],
   "source": [
    "# Set up data splits: divide individuals across folds for cross validation\n",
    "\n",
    "n_folds = 5\n",
    "dataset_metadata['n_folds'] = n_folds\n",
    "individuals_per_fold = {i : [] for i in range(n_folds)}\n",
    "\n",
    "for pointer, individual in enumerate(individuals):\n",
    "    individuals_per_fold[pointer % n_folds].append(individual)\n",
    "    \n",
    "dataset_metadata['individuals_per_fold'] = individuals_per_fold\n",
    "    \n",
    "print(individuals_per_fold)\n",
    "print(\"There are %d individuals\" % len(individuals))"
   ]
  },
  {
   "cell_type": "code",
   "execution_count": 10,
   "id": "b719e122-9b2d-4fb1-a519-36f58a545c0c",
   "metadata": {},
   "outputs": [],
   "source": [
    "# Set up clip ids \n",
    "\n",
    "clip_ids_per_fold = {i : [] for i in range(n_folds)}\n",
    "for clip_id in clip_ids:\n",
    "    individual = clip_id_to_individual_id[clip_id]\n",
    "    for fold in range(n_folds):\n",
    "        if individual in individuals_per_fold[fold]:\n",
    "            clip_ids_per_fold[fold].append(clip_id)\n",
    "for fold in range(n_folds):\n",
    "    clip_ids_per_fold[fold] = sorted(clip_ids_per_fold[fold])\n",
    "\n",
    "dataset_metadata['clip_ids_per_fold'] = clip_ids_per_fold"
   ]
  },
  {
   "cell_type": "markdown",
   "id": "3fca914b-f4d0-4265-b18c-71cd7aca2dc5",
   "metadata": {},
   "source": [
    "## Create dataset-level metadata"
   ]
  },
  {
   "cell_type": "code",
   "execution_count": 11,
   "id": "444a3dc3-dfb0-4907-833e-8caf3eb4d88d",
   "metadata": {},
   "outputs": [
    {
     "data": {
      "text/html": [
       "<div>\n",
       "<style scoped>\n",
       "    .dataframe tbody tr th:only-of-type {\n",
       "        vertical-align: middle;\n",
       "    }\n",
       "\n",
       "    .dataframe tbody tr th {\n",
       "        vertical-align: top;\n",
       "    }\n",
       "\n",
       "    .dataframe thead th {\n",
       "        text-align: right;\n",
       "    }\n",
       "</style>\n",
       "<table border=\"1\" class=\"dataframe\">\n",
       "  <thead>\n",
       "    <tr style=\"text-align: right;\">\n",
       "      <th></th>\n",
       "      <th>index</th>\n",
       "      <th>start_cue</th>\n",
       "      <th>end_cue</th>\n",
       "      <th>max_depth</th>\n",
       "      <th>cue_at_max_depth</th>\n",
       "      <th>mean_depth</th>\n",
       "      <th>mean_compression</th>\n",
       "      <th>dive_ID</th>\n",
       "      <th>Tdown</th>\n",
       "      <th>Tup</th>\n",
       "      <th>numLun</th>\n",
       "      <th>behav_state</th>\n",
       "      <th>clip_id</th>\n",
       "      <th>individual</th>\n",
       "    </tr>\n",
       "  </thead>\n",
       "  <tbody>\n",
       "    <tr>\n",
       "      <th>0</th>\n",
       "      <td>0</td>\n",
       "      <td>11.6</td>\n",
       "      <td>199.0</td>\n",
       "      <td>52.298188</td>\n",
       "      <td>91.8</td>\n",
       "      <td>27.113664</td>\n",
       "      <td>0.328362</td>\n",
       "      <td>1</td>\n",
       "      <td>187.4</td>\n",
       "      <td>9.0</td>\n",
       "      <td>0</td>\n",
       "      <td>3</td>\n",
       "      <td>mn10_132a</td>\n",
       "      <td>3</td>\n",
       "    </tr>\n",
       "    <tr>\n",
       "      <th>1</th>\n",
       "      <td>1</td>\n",
       "      <td>208.0</td>\n",
       "      <td>264.0</td>\n",
       "      <td>6.705480</td>\n",
       "      <td>222.6</td>\n",
       "      <td>4.462636</td>\n",
       "      <td>0.705906</td>\n",
       "      <td>2</td>\n",
       "      <td>56.0</td>\n",
       "      <td>4.6</td>\n",
       "      <td>0</td>\n",
       "      <td>1</td>\n",
       "      <td>mn10_132a</td>\n",
       "      <td>3</td>\n",
       "    </tr>\n",
       "    <tr>\n",
       "      <th>2</th>\n",
       "      <td>2</td>\n",
       "      <td>268.6</td>\n",
       "      <td>293.4</td>\n",
       "      <td>3.403496</td>\n",
       "      <td>281.0</td>\n",
       "      <td>2.133435</td>\n",
       "      <td>0.831859</td>\n",
       "      <td>3</td>\n",
       "      <td>24.8</td>\n",
       "      <td>21.2</td>\n",
       "      <td>0</td>\n",
       "      <td>1</td>\n",
       "      <td>mn10_132a</td>\n",
       "      <td>3</td>\n",
       "    </tr>\n",
       "    <tr>\n",
       "      <th>3</th>\n",
       "      <td>3</td>\n",
       "      <td>314.6</td>\n",
       "      <td>422.2</td>\n",
       "      <td>8.240935</td>\n",
       "      <td>398.4</td>\n",
       "      <td>4.571292</td>\n",
       "      <td>0.699902</td>\n",
       "      <td>4</td>\n",
       "      <td>107.6</td>\n",
       "      <td>39.0</td>\n",
       "      <td>0</td>\n",
       "      <td>1</td>\n",
       "      <td>mn10_132a</td>\n",
       "      <td>3</td>\n",
       "    </tr>\n",
       "    <tr>\n",
       "      <th>4</th>\n",
       "      <td>4</td>\n",
       "      <td>461.2</td>\n",
       "      <td>614.8</td>\n",
       "      <td>10.256281</td>\n",
       "      <td>556.8</td>\n",
       "      <td>6.535076</td>\n",
       "      <td>0.619816</td>\n",
       "      <td>5</td>\n",
       "      <td>153.6</td>\n",
       "      <td>88.6</td>\n",
       "      <td>0</td>\n",
       "      <td>2</td>\n",
       "      <td>mn10_132a</td>\n",
       "      <td>3</td>\n",
       "    </tr>\n",
       "    <tr>\n",
       "      <th>...</th>\n",
       "      <td>...</td>\n",
       "      <td>...</td>\n",
       "      <td>...</td>\n",
       "      <td>...</td>\n",
       "      <td>...</td>\n",
       "      <td>...</td>\n",
       "      <td>...</td>\n",
       "      <td>...</td>\n",
       "      <td>...</td>\n",
       "      <td>...</td>\n",
       "      <td>...</td>\n",
       "      <td>...</td>\n",
       "      <td>...</td>\n",
       "      <td>...</td>\n",
       "    </tr>\n",
       "    <tr>\n",
       "      <th>3422</th>\n",
       "      <td>185</td>\n",
       "      <td>85350.0</td>\n",
       "      <td>85498.8</td>\n",
       "      <td>10.947011</td>\n",
       "      <td>85432.2</td>\n",
       "      <td>5.557030</td>\n",
       "      <td>0.672250</td>\n",
       "      <td>186</td>\n",
       "      <td>148.8</td>\n",
       "      <td>465.4</td>\n",
       "      <td>0</td>\n",
       "      <td>2</td>\n",
       "      <td>mn09_127a</td>\n",
       "      <td>0</td>\n",
       "    </tr>\n",
       "    <tr>\n",
       "      <th>3423</th>\n",
       "      <td>186</td>\n",
       "      <td>85964.2</td>\n",
       "      <td>86371.0</td>\n",
       "      <td>65.303663</td>\n",
       "      <td>86124.0</td>\n",
       "      <td>29.227690</td>\n",
       "      <td>0.360925</td>\n",
       "      <td>187</td>\n",
       "      <td>406.8</td>\n",
       "      <td>275.6</td>\n",
       "      <td>0</td>\n",
       "      <td>3</td>\n",
       "      <td>mn09_127a</td>\n",
       "      <td>0</td>\n",
       "    </tr>\n",
       "    <tr>\n",
       "      <th>3424</th>\n",
       "      <td>187</td>\n",
       "      <td>86646.6</td>\n",
       "      <td>86879.4</td>\n",
       "      <td>22.524228</td>\n",
       "      <td>86796.0</td>\n",
       "      <td>14.454175</td>\n",
       "      <td>0.453717</td>\n",
       "      <td>188</td>\n",
       "      <td>232.8</td>\n",
       "      <td>2275.8</td>\n",
       "      <td>0</td>\n",
       "      <td>2</td>\n",
       "      <td>mn09_127a</td>\n",
       "      <td>0</td>\n",
       "    </tr>\n",
       "    <tr>\n",
       "      <th>3425</th>\n",
       "      <td>188</td>\n",
       "      <td>89155.2</td>\n",
       "      <td>89704.2</td>\n",
       "      <td>85.142815</td>\n",
       "      <td>89316.4</td>\n",
       "      <td>47.743034</td>\n",
       "      <td>0.228532</td>\n",
       "      <td>189</td>\n",
       "      <td>549.0</td>\n",
       "      <td>125.6</td>\n",
       "      <td>0</td>\n",
       "      <td>3</td>\n",
       "      <td>mn09_127a</td>\n",
       "      <td>0</td>\n",
       "    </tr>\n",
       "    <tr>\n",
       "      <th>3426</th>\n",
       "      <td>189</td>\n",
       "      <td>89829.8</td>\n",
       "      <td>90137.8</td>\n",
       "      <td>30.970460</td>\n",
       "      <td>89983.6</td>\n",
       "      <td>20.083323</td>\n",
       "      <td>0.383172</td>\n",
       "      <td>190</td>\n",
       "      <td>308.0</td>\n",
       "      <td>0.0</td>\n",
       "      <td>0</td>\n",
       "      <td>2</td>\n",
       "      <td>mn09_127a</td>\n",
       "      <td>0</td>\n",
       "    </tr>\n",
       "  </tbody>\n",
       "</table>\n",
       "<p>3427 rows × 14 columns</p>\n",
       "</div>"
      ],
      "text/plain": [
       "      index  start_cue  end_cue  max_depth  cue_at_max_depth  mean_depth  \\\n",
       "0         0       11.6    199.0  52.298188              91.8   27.113664   \n",
       "1         1      208.0    264.0   6.705480             222.6    4.462636   \n",
       "2         2      268.6    293.4   3.403496             281.0    2.133435   \n",
       "3         3      314.6    422.2   8.240935             398.4    4.571292   \n",
       "4         4      461.2    614.8  10.256281             556.8    6.535076   \n",
       "...     ...        ...      ...        ...               ...         ...   \n",
       "3422    185    85350.0  85498.8  10.947011           85432.2    5.557030   \n",
       "3423    186    85964.2  86371.0  65.303663           86124.0   29.227690   \n",
       "3424    187    86646.6  86879.4  22.524228           86796.0   14.454175   \n",
       "3425    188    89155.2  89704.2  85.142815           89316.4   47.743034   \n",
       "3426    189    89829.8  90137.8  30.970460           89983.6   20.083323   \n",
       "\n",
       "      mean_compression  dive_ID  Tdown     Tup  numLun  behav_state  \\\n",
       "0             0.328362        1  187.4     9.0       0            3   \n",
       "1             0.705906        2   56.0     4.6       0            1   \n",
       "2             0.831859        3   24.8    21.2       0            1   \n",
       "3             0.699902        4  107.6    39.0       0            1   \n",
       "4             0.619816        5  153.6    88.6       0            2   \n",
       "...                ...      ...    ...     ...     ...          ...   \n",
       "3422          0.672250      186  148.8   465.4       0            2   \n",
       "3423          0.360925      187  406.8   275.6       0            3   \n",
       "3424          0.453717      188  232.8  2275.8       0            2   \n",
       "3425          0.228532      189  549.0   125.6       0            3   \n",
       "3426          0.383172      190  308.0     0.0       0            2   \n",
       "\n",
       "        clip_id  individual  \n",
       "0     mn10_132a           3  \n",
       "1     mn10_132a           3  \n",
       "2     mn10_132a           3  \n",
       "3     mn10_132a           3  \n",
       "4     mn10_132a           3  \n",
       "...         ...         ...  \n",
       "3422  mn09_127a           0  \n",
       "3423  mn09_127a           0  \n",
       "3424  mn09_127a           0  \n",
       "3425  mn09_127a           0  \n",
       "3426  mn09_127a           0  \n",
       "\n",
       "[3427 rows x 14 columns]"
      ]
     },
     "execution_count": 11,
     "metadata": {},
     "output_type": "execute_result"
    }
   ],
   "source": [
    "## Integer codes for specific behaviors\n",
    "\n",
    "# list of behaviors (from metadata sent by Ari)\n",
    "beh_names = ['unknown', \n",
    "             'rest', \n",
    "             'travel', \n",
    "             'exploratory', \n",
    "             'feed']\n",
    "\n",
    "dataset_metadata['label_names'] = beh_names\n",
    "\n",
    "beh_str_to_int = {name : i for i, name in enumerate(beh_names)}\n",
    "beh_int_to_str = {i : name for i, name in enumerate(beh_names)}\n",
    "\n",
    "# extract directly from the annotations\n",
    "fp = annotations_fps[0]\n",
    "individual_annotations = pd.read_csv(fp)\n",
    "clip_id = fp.split('/')[-1].split('.')[0].split('-')[-1]\n",
    "individual_annotations['clip_id'] = clip_id\n",
    "individual_annotations['individual'] = clip_id_to_individual_id[clip_id]\n",
    "all_annotations = individual_annotations\n",
    "\n",
    "for fp in annotations_fps[1:]:\n",
    "    individual_annotations = pd.read_csv(fp)\n",
    "    clip_id = fp.split('/')[-1].split('.')[0].split('-')[-1]\n",
    "    individual_annotations['clip_id'] = clip_id\n",
    "    individual_annotations['individual'] = clip_id_to_individual_id[clip_id]\n",
    "    all_annotations = all_annotations.append(individual_annotations)\n",
    "    \n",
    "all_annotations.reset_index(inplace = True)\n",
    "\n",
    "all_annotations"
   ]
  },
  {
   "cell_type": "code",
   "execution_count": 12,
   "id": "218803e8-5f53-42b7-ad50-f74bd20265cb",
   "metadata": {},
   "outputs": [
    {
     "data": {
      "text/plain": [
       "4    1819\n",
       "1     876\n",
       "2     572\n",
       "3     160\n",
       "Name: behav_state, dtype: int64"
      ]
     },
     "execution_count": 12,
     "metadata": {},
     "output_type": "execute_result"
    }
   ],
   "source": [
    "# What are the observed labels?\n",
    "\n",
    "all_annotations['behav_state'].value_counts()"
   ]
  },
  {
   "cell_type": "code",
   "execution_count": 13,
   "id": "f438d48f-0596-4a58-8669-358c9a4cec2d",
   "metadata": {},
   "outputs": [],
   "source": [
    "## clip_data column names\n",
    "## Use derivative of head to reflect change in direction\n",
    "\n",
    "clip_column_names = ['AccX', 'AccY', 'AccZ', 'Depth', 'Speed', 'individual_id', 'label']\n",
    "dataset_metadata['clip_column_names'] = clip_column_names"
   ]
  },
  {
   "cell_type": "code",
   "execution_count": 14,
   "id": "a560ecfd-2ff8-4aff-a58c-76bb31200b86",
   "metadata": {},
   "outputs": [],
   "source": [
    "## Save off dataset level metadata\n",
    "\n",
    "dataset_metadata_fp = os.path.join(formatted_data_dir, 'dataset_metadata.yaml')\n",
    "\n",
    "with open(dataset_metadata_fp, 'w') as file:\n",
    "    yaml.dump(dataset_metadata, file)"
   ]
  },
  {
   "cell_type": "markdown",
   "id": "f964b042-2a2b-4690-bdd1-1685991ca77f",
   "metadata": {},
   "source": [
    "## Format Clip Data"
   ]
  },
  {
   "cell_type": "code",
   "execution_count": 15,
   "id": "e4ae21e9-df06-469e-8ee8-afb811f6b909",
   "metadata": {},
   "outputs": [],
   "source": [
    "# Convenience function to detect nans.\n",
    "def nan_helper(y):\n",
    "    return np.isnan(y), lambda z: z.nonzero()[0]\n",
    "\n",
    "#Interpolates all nan values of given array\n",
    "def interpolate_nan(y):\n",
    "    nans, x= nan_helper(y)\n",
    "    y[nans]= np.interp(x(nans), x(~nans), y[~nans])\n",
    "    return y"
   ]
  },
  {
   "cell_type": "code",
   "execution_count": 16,
   "id": "226d618a-e1ac-4b91-993b-2c1b50e1f7a0",
   "metadata": {},
   "outputs": [
    {
     "name": "stderr",
     "output_type": "stream",
     "text": [
      "/opt/conda/lib/python3.7/site-packages/scipy/io/matlab/mio.py:226: MatReadWarning: Duplicate variable name \"None\" in stream - replacing previous with new\n",
      "Consider mio5.varmats_from_mat to split file into single variable files\n",
      "  matfile_dict = MR.get_variables(variable_names)\n"
     ]
    }
   ],
   "source": [
    "# For each clip, create and save the data in the correct format\n",
    "\n",
    "total_dur_samples = 0\n",
    "total_annotation_dur_samples = 0\n",
    "\n",
    "for clip_id in clip_ids:\n",
    "    # load features\n",
    "    data_fp = raw_data_dir + '/' + clip_id + '/' +clip_id +'prh_speed.mat'\n",
    "    data = sio.loadmat(data_fp)\n",
    "    Aw = data['Aw']\n",
    "    for i in range(3):\n",
    "        Aw[:,i] = interpolate_nan(Aw[:, i])\n",
    "    speed = data['speedJJ']\n",
    "    speed = interpolate_nan(speed)\n",
    "    depth = data['p']\n",
    "    depth = interpolate_nan(depth)\n",
    "    \n",
    "    clip_dur_samples = np.shape(Aw)[0]\n",
    "    total_dur_samples += clip_dur_samples\n",
    "    \n",
    "    # load annotations\n",
    "    annotations_sub = all_annotations[all_annotations['clip_id'] == clip_id]\n",
    "    \n",
    "    # reformat annotations\n",
    "    per_frame_annotations = np.zeros([clip_dur_samples, 1]) # populate with 0's, aka \"unkown\"\n",
    "    for i, row in annotations_sub.iterrows():\n",
    "        int_label = row['behav_state']\n",
    "        start_sample = int(row['start_cue']*sr)\n",
    "        end_sample = int(row['end_cue'] * sr)\n",
    "        per_frame_annotations[start_sample: end_sample, :] = int_label\n",
    "        \n",
    "    # insert individual id\n",
    "    individual_id = clip_id_to_individual_id[clip_id]\n",
    "    per_frame_individual_id = np.full_like(per_frame_annotations, individual_id)\n",
    "    \n",
    "    clip_data = np.concatenate([Aw, depth, speed, per_frame_individual_id, per_frame_annotations], axis = 1)\n",
    "    clip_data = clip_data[:end_sample+1, :] # drop samples after last annotation to avoid artifacts\n",
    "    \n",
    "    clip_annotation_dur_samples = np.sum(per_frame_annotations > 0)\n",
    "    total_annotation_dur_samples += clip_annotation_dur_samples\n",
    "    \n",
    "    clip_data_fp = os.path.join(clip_data_dir, clip_id + '.csv')\n",
    "    \n",
    "    np.savetxt(clip_data_fp, clip_data, delimiter=\",\")\n",
    "    "
   ]
  },
  {
   "cell_type": "code",
   "execution_count": 17,
   "id": "06d5c774-43be-42eb-98f8-2b625509c78b",
   "metadata": {},
   "outputs": [
    {
     "name": "stdout",
     "output_type": "stream",
     "text": [
      "total duration is 712412.200000 seconds, i.e. 197.892278 hours\n",
      "total annotation duration is 410595.200000 seconds, i.e. 114.054222 hours\n"
     ]
    }
   ],
   "source": [
    "total_dur_sec = total_dur_samples / sr\n",
    "total_dur_hours = total_dur_sec / 3600\n",
    "print(\"total duration is %f seconds, i.e. %f hours\" % (total_dur_sec, total_dur_hours))\n",
    "\n",
    "total_annotation_dur_sec = total_annotation_dur_samples / sr\n",
    "total_annotation_dur_hours = total_annotation_dur_sec / 3600\n",
    "print(\"total annotation duration is %f seconds, i.e. %f hours\" % (total_annotation_dur_sec, total_annotation_dur_hours))"
   ]
  },
  {
   "cell_type": "markdown",
   "id": "c9844300-e520-49a9-b975-210caa20a21f",
   "metadata": {},
   "source": [
    "## Check it all looks ok"
   ]
  },
  {
   "cell_type": "code",
   "execution_count": 18,
   "id": "717812e0-af4e-4bd0-96db-5ce83ece61c3",
   "metadata": {},
   "outputs": [],
   "source": [
    "clip_id = clip_ids[7]\n",
    "clip_data_fp = os.path.join(clip_data_dir, clip_id + '.csv')\n",
    "data = np.genfromtxt(clip_data_fp, delimiter = ',')\n",
    "#data = np.load(clip_data_fp)"
   ]
  },
  {
   "cell_type": "code",
   "execution_count": 19,
   "id": "77164f71-4257-43b1-ae76-49f1438c836e",
   "metadata": {},
   "outputs": [
    {
     "data": {
      "text/plain": [
       "(448491, 7)"
      ]
     },
     "execution_count": 19,
     "metadata": {},
     "output_type": "execute_result"
    }
   ],
   "source": [
    "np.shape(data)"
   ]
  },
  {
   "cell_type": "code",
   "execution_count": 20,
   "id": "b1d243b7-ec2e-4bc5-8239-400cc7241953",
   "metadata": {},
   "outputs": [
    {
     "data": {
      "image/png": "[encoded data removed]",
      "text/plain": [
       "<Figure size 432x288 with 1 Axes>"
      ]
     },
     "metadata": {
      "needs_background": "light"
     },
     "output_type": "display_data"
    }
   ],
   "source": [
    "for i in range(np.shape(data)[1]):\n",
    "    plt.plot(data[:, -1])"
   ]
  },
  {
   "cell_type": "markdown",
   "id": "a6c4b9bd-8f21-49c0-9668-0cc6ae9ccd7a",
   "metadata": {},
   "source": [
    "## Plot Dataset Summary"
   ]
  },
  {
   "cell_type": "code",
   "execution_count": 21,
   "id": "236593e6-2ca4-46c2-a424-b848d01da90a",
   "metadata": {},
   "outputs": [],
   "source": [
    "# Count class representation\n",
    "\n",
    "beh_names = dataset_metadata['label_names']\n",
    "label_count = {fold : {name : 0 for name in beh_names} for fold in range(n_folds)}\n",
    "\n",
    "for clip_id in clip_ids:\n",
    "    clip_data_fp = os.path.join(clip_data_dir, clip_id + '.csv')\n",
    "    data = pd.read_csv(clip_data_fp, delimiter = ',', header = None)\n",
    "    counts = data[data.keys()[-1]].astype(int).value_counts()\n",
    "    for key in counts.keys():\n",
    "        name = beh_names[key]\n",
    "        for fold in range(n_folds):\n",
    "            if clip_id in dataset_metadata['clip_ids_per_fold'][fold]:\n",
    "                label_count[fold][name] += counts[key]\n",
    "                \n",
    "label_perc = {fold : {name : 0 for name in beh_names[1:]} for fold in range(n_folds)}\n",
    "\n",
    "for name in beh_names[1:]:\n",
    "    for fold in range(n_folds):\n",
    "        label_perc[fold][name] = label_count[fold][name] / sum([label_count[fold][j] for j in beh_names[1:]])\n"
   ]
  },
  {
   "cell_type": "code",
   "execution_count": 22,
   "id": "f3a805c7-00a7-44dd-9494-2fdd66a00620",
   "metadata": {},
   "outputs": [
    {
     "data": {
      "image/png": "[encoded data removed]",
      "text/plain": [
       "<Figure size 640x480 with 1 Axes>"
      ]
     },
     "metadata": {
      "needs_background": "light"
     },
     "output_type": "display_data"
    }
   ],
   "source": [
    "# Plot class representation\n",
    "\n",
    "# https://gist.github.com/thriveth/8560036#file-cbcolors-py\n",
    "CB_color_cycle = ['#377eb8', '#ff7f00', '#4daf4a',\n",
    "                  '#f781bf', '#a65628', '#984ea3',\n",
    "                  '#999999', '#e41a1c', '#dede00']\n",
    "\n",
    "keys = np.arange(len(beh_names))[1:]\n",
    "offset = 0.1\n",
    "width = 0.1\n",
    "plt.figure(figsize=(8, 6), dpi=80)\n",
    "\n",
    "for fold in range(n_folds):\n",
    "    current_offset = -(fold - n_folds // 2)*offset\n",
    "    plt.barh(keys +current_offset, [label_perc[fold][beh_names[key]] for key in keys], height=width, align='center', label = fold, color = CB_color_cycle[fold])\n",
    "    \n",
    "plt.title(\"Class representation across folds\")\n",
    "plt.yticks(keys, beh_names[1:], fontsize = 7, rotation = 60)\n",
    "plt.xlabel('Percent of known labels')\n",
    "plt.legend()\n",
    "target_fp = os.path.join(formatted_data_dir, 'class_rep.png')\n",
    "\n",
    "plt.savefig(target_fp)\n",
    "plt.show()\n",
    "\n",
    "numerical_target_fp = os.path.join(formatted_data_dir, 'class_rep.yaml')\n",
    "with open(numerical_target_fp, 'w') as file:\n",
    "    yaml.dump(label_perc, file)"
   ]
  },
  {
   "cell_type": "code",
   "execution_count": 23,
   "id": "1031e026-0e74-4952-9a83-573d7427b52e",
   "metadata": {},
   "outputs": [
    {
     "data": {
      "image/png": "[encoded data removed]",
      "text/plain": [
       "<Figure size 1080x144 with 5 Axes>"
      ]
     },
     "metadata": {},
     "output_type": "display_data"
    }
   ],
   "source": [
    "# Pie chart, of known vs unknown samples \n",
    "\n",
    "labels = 'Known', 'Unknown'\n",
    "sizes = {fold : [sum([label_count[fold][j] for j in beh_names[1:]]), label_count[fold]['unknown']] for fold in range(n_folds)}\n",
    "# train_sizes = [sum([train_label_count[j] for j in beh_names[1:]]), train_label_count['unknown']]\n",
    "# val_sizes = [sum([val_label_count[j] for j in beh_names[1:]]), val_label_count['unknown']]\n",
    "# test_sizes = [sum([test_label_count[j] for j in beh_names[1:]]), test_label_count['unknown']]\n",
    "\n",
    "fig, ax = plt.subplots(1,n_folds, figsize = (3*n_folds,2))\n",
    "\n",
    "for fold in range(n_folds):\n",
    "    ax[fold].pie(sizes[fold], labels=labels, autopct='%1.1f%%', startangle=90)\n",
    "    ax[fold].axis('equal')  # Equal aspect ratio ensures that pie is drawn as a circle.\n",
    "    ax[fold].set_title(fold)\n",
    "\n",
    "target_fp = os.path.join(formatted_data_dir, 'perc_known.png')\n",
    "\n",
    "plt.savefig(target_fp)\n",
    "\n",
    "plt.show()\n"
   ]
  },
  {
   "cell_type": "markdown",
   "id": "db0ac044-fb90-4b5b-9b90-ed1a54736833",
   "metadata": {},
   "source": [
    "## Temporal Statistics"
   ]
  },
  {
   "cell_type": "code",
   "execution_count": 24,
   "id": "5e7740a0-1c09-414c-bcf7-9de9f6458773",
   "metadata": {},
   "outputs": [
    {
     "name": "stderr",
     "output_type": "stream",
     "text": [
      "100%|██████████| 8/8 [00:05<00:00,  1.47it/s]"
     ]
    },
    {
     "name": "stdout",
     "output_type": "stream",
     "text": [
      "Mean overall label duration is 119.812 seconds\n",
      "Re-saving metadata to /home/jupyter/behavior_data_local/data/formatted/friedlaender_whales/dataset_metadata.yaml\n"
     ]
    },
    {
     "name": "stderr",
     "output_type": "stream",
     "text": [
      "\n"
     ]
    }
   ],
   "source": [
    "####################################\n",
    "infill_max_dur_sec = 0 # If annotations are nnnnn0000000nnnnn, where 0=unknown, do we fill in 0's with n's?\n",
    "####################################\n",
    "\n",
    "# This cell runs almost as a stand alone, but requires the first few cells of this notebook to be run first\n",
    "\n",
    "import tqdm\n",
    "from pathlib import Path\n",
    "\n",
    "dataset_metadata_fp = os.path.join(formatted_data_dir, 'dataset_metadata.yaml')\n",
    "\n",
    "with open(dataset_metadata_fp, 'r') as file:\n",
    "    metadata = yaml.safe_load(file)\n",
    "\n",
    "clip_fps = list(Path(clip_data_dir).glob('*.csv'))\n",
    "\n",
    "def create_list_of_durations(x, infill_max_dur_sec, samplerate, unknown_value = 0):\n",
    "    # First pass: create a list of label durations, together with a list of the associated classes\n",
    "    current_value = 0\n",
    "    current_dur = 0\n",
    "    list_of_durs = []\n",
    "    list_of_labels = []\n",
    "    for i in x:\n",
    "        if i == current_value:\n",
    "            current_dur += 1\n",
    "        elif i != current_value:\n",
    "            list_of_durs.append(current_dur / samplerate)\n",
    "            list_of_labels.append(current_value)\n",
    "            current_dur = 1\n",
    "            current_value = i\n",
    "            \n",
    "    list_of_durs.append(current_dur)\n",
    "    list_of_labels.append(current_value)\n",
    "            \n",
    "    # repeatedly merge similar labels if they are seperated by unknowns of short duration\n",
    "    # This is mainly to deal with duty cycling of observations\n",
    "    infill_max_dur_samples = int(infill_max_dur_sec * samplerate)\n",
    "    \n",
    "    if list_of_labels[0] == unknown_value:\n",
    "        del list_of_labels[0]\n",
    "        del list_of_durs[0]\n",
    "        \n",
    "    if list_of_labels[-1] == unknown_value:\n",
    "        del list_of_labels[-1]\n",
    "        del list_of_durs[-1]\n",
    "    \n",
    "    j = 1\n",
    "    while j<len(list_of_labels)-1:\n",
    "        if list_of_labels[j] != unknown_value:\n",
    "            j+= 1\n",
    "        elif list_of_labels[j-1] == list_of_labels[j+1] and list_of_durs[j] < infill_max_dur_samples:\n",
    "            # merge if it's a short interval of unknowns between two of the same label\n",
    "            list_of_durs[j-1] += list_of_durs[j+1]\n",
    "            del list_of_durs[j+1]\n",
    "            del list_of_durs[j]\n",
    "            del list_of_labels[j+1]\n",
    "            del list_of_labels[j]\n",
    "        else:\n",
    "            # otherwise, drop the unknown segment\n",
    "            del list_of_durs[j]\n",
    "            del list_of_labels[j]\n",
    "\n",
    "    return list_of_labels, list_of_durs # list of annotation durations, in samples.\n",
    "                             \n",
    "durs_sec_by_individual = {i : [] for i in metadata['individual_ids']}\n",
    "overall_durs_sec = []\n",
    "    \n",
    "for fp in tqdm.tqdm(clip_fps):\n",
    "    clip_id = fp.stem\n",
    "    individual_id = metadata['clip_id_to_individual_id'][clip_id]\n",
    "    clip_annotations = list(pd.read_csv(fp, header = None).values[:, -1])\n",
    "    l, d = create_list_of_durations(clip_annotations, infill_max_dur_sec, metadata['sr'])\n",
    "    durs_sec_by_individual[individual_id].extend(d)\n",
    "    overall_durs_sec.extend(d)\n",
    "    \n",
    "mean_dur_sec_by_individual = {i : float(np.mean(durs_sec_by_individual[i])) for i in durs_sec_by_individual}\n",
    "mean_overall_dur_sec = float(np.mean(overall_durs_sec))\n",
    "\n",
    "metadata['mean_dur_sec_by_individual'] = mean_dur_sec_by_individual\n",
    "metadata['mean_overall_dur_sec'] = mean_overall_dur_sec\n",
    "\n",
    "print(\"Mean overall label duration is %0.3f seconds\" % mean_overall_dur_sec)\n",
    "\n",
    "print(\"Re-saving metadata to %s\" % str(dataset_metadata_fp))\n",
    "\n",
    "with open(dataset_metadata_fp, 'w') as file:\n",
    "    yaml.dump(metadata, file)"
   ]
  },
  {
   "cell_type": "code",
   "execution_count": null,
   "id": "7a02a314-7dde-4b18-bb54-99498df366b9",
   "metadata": {},
   "outputs": [],
   "source": []
  }
 ],
 "metadata": {
  "environment": {
   "kernel": "python3",
   "name": "pytorch-gpu.1-11.m94",
   "type": "gcloud",
   "uri": "gcr.io/deeplearning-platform-release/pytorch-gpu.1-11:m94"
  },
  "kernelspec": {
   "display_name": "Python 3",
   "language": "python",
   "name": "python3"
  },
  "language_info": {
   "codemirror_mode": {
    "name": "ipython",
    "version": 3
   },
   "file_extension": ".py",
   "mimetype": "text/x-python",
   "name": "python",
   "nbconvert_exporter": "python",
   "pygments_lexer": "ipython3",
   "version": "3.7.12"
  }
 },
 "nbformat": 4,
 "nbformat_minor": 5
}
