{
 "cells": [
  {
   "cell_type": "markdown",
   "id": "86ce8245-b923-42ba-b1cf-b0a8bdb804d4",
   "metadata": {},
   "source": [
    "# Notebook to format data from \"Extreme Diel Variation in the feeding behavior of humpback whales along the western Antarctic Peninsula during autumn\", Friedlaender et al (2013).\n",
    "\n",
    "Paper can be found [here](https://www.researchgate.net/publication/260209964_Extreme_diel_variation_in_the_feeding_behavior_of_humpback_whales_along_the_western_Antarctic_Peninsula_during_autumn).\n",
    "\n",
    "Data was supplied by Ari Friedlaender directly, he agreed to have it posted publicly"
   ]
  },
  {
   "cell_type": "markdown",
   "id": "77461baa-2d89-4ddf-b8b9-283f19b3313e",
   "metadata": {},
   "source": [
    "## Setup"
   ]
  },
  {
   "cell_type": "code",
   "execution_count": 1,
   "id": "a9cd11e9-258b-4304-a21d-f826f276b73b",
   "metadata": {},
   "outputs": [],
   "source": [
    "# Outputs:\n",
    "# formatted dataset directory\n",
    "# dataset_metadata (yaml), includes\n",
    "## sample_rate\n",
    "## dataset_label_names (list)\n",
    "## dataset_feature_names (list)\n",
    "## clip_ids (list)\n",
    "# clip_data (directory), includes\n",
    "## data_files (multiple files)"
   ]
  },
  {
   "cell_type": "code",
   "execution_count": 2,
   "id": "7470e077-e978-495a-b349-27cc5a6b2a40",
   "metadata": {},
   "outputs": [],
   "source": [
    "%load_ext autoreload\n",
    "%autoreload 2"
   ]
  },
  {
   "cell_type": "code",
   "execution_count": 3,
   "id": "ec388900-f0ab-4e41-a56b-9597e4f4911f",
   "metadata": {},
   "outputs": [],
   "source": [
    "import os\n",
    "import numpy as np\n",
    "import pandas as pd\n",
    "from matplotlib import pyplot as plt\n",
    "import glob\n",
    "import yaml\n",
    "import scipy.signal as signal\n",
    "import scipy.io as sio"
   ]
  },
  {
   "cell_type": "code",
   "execution_count": 4,
   "id": "6bc728a2-a91e-4da2-abea-4b57ceb4e818",
   "metadata": {},
   "outputs": [],
   "source": [
    "# Specify data filepaths\n",
    "\n",
    "raw_data_dir = '/home/jupyter/behavior_data_local/data/raw/friedlaender_whales'\n",
    "formatted_data_dir = '/home/jupyter/behavior_data_local/data/formatted/friedlaender_whales'\n",
    "\n",
    "if not os.path.exists(formatted_data_dir):\n",
    "    os.makedirs(formatted_data_dir)\n",
    "    \n",
    "# features_fps = glob.glob(raw_data_dir + '/*.h5')\n",
    "annotations_fps = glob.glob(raw_data_dir + '/annotations/*.csv')\n",
    "\n",
    "# Currently missing this processed data file:\n",
    "annotations_fps.remove('/home/jupyter/behavior_data_local/data/raw/friedlaender_whales/annotations/DiveInfo-mn09_122b.csv')\n",
    "\n",
    "clip_ids = sorted([x.split('/')[-1].split('.')[0].split('-')[-1] for x in annotations_fps])\n",
    "data_fps = [raw_data_dir + '/' + clip_id + '/' +clip_id +'prh_speed.mat' for clip_id in clip_ids]\n",
    "\n",
    "clip_data_dir = os.path.join(formatted_data_dir, 'clip_data')\n",
    "if not os.path.exists(clip_data_dir):\n",
    "    os.makedirs(clip_data_dir)"
   ]
  },
  {
   "cell_type": "code",
   "execution_count": 5,
   "id": "9714c1e3-2bc5-49a0-8ac6-62c21e63e83a",
   "metadata": {},
   "outputs": [
    {
     "name": "stdout",
     "output_type": "stream",
     "text": [
      "checked all data files exist!\n"
     ]
    }
   ],
   "source": [
    "for fp in data_fps:\n",
    "    if not os.path.exists(fp):\n",
    "        print(fp)\n",
    "        \n",
    "print('checked all data files exist!')"
   ]
  },
  {
   "cell_type": "code",
   "execution_count": 6,
   "id": "98f244e7-ac03-48e2-868a-1b7f7dd15fea",
   "metadata": {},
   "outputs": [],
   "source": [
    "# Dataset metadata\n",
    "dataset_metadata = {}\n",
    "sr = 5\n",
    "dataset_metadata['sr'] = sr ## from dataset documentation\n",
    "dataset_metadata['dataset_name'] = 'friedlaender_whales'"
   ]
  },
  {
   "cell_type": "code",
   "execution_count": 7,
   "id": "7ea20959-639e-4f2c-8efa-945516302110",
   "metadata": {},
   "outputs": [],
   "source": [
    "## Integer codes for individuals\n",
    "\n",
    "individual_ids = []\n",
    "clip_id_to_individual_id = {}\n",
    "for i, clip_id in enumerate(clip_ids):\n",
    "    clip_id_to_individual_id[clip_id] = i\n",
    "    individual_ids.append(i)\n",
    "\n",
    "dataset_metadata['individual_ids'] = individual_ids\n",
    "dataset_metadata['clip_id_to_individual_id'] = clip_id_to_individual_id\n",
    "\n",
    "individuals = sorted({clip_id_to_individual_id[key] for key in clip_id_to_individual_id})"
   ]
  },
  {
   "cell_type": "code",
   "execution_count": 8,
   "id": "b96c5e03-a8d2-437b-8fe5-6178a978484c",
   "metadata": {},
   "outputs": [
    {
     "data": {
      "text/plain": [
       "{'mn09_127a': 0,\n",
       " 'mn09_148a': 1,\n",
       " 'mn09_152a': 2,\n",
       " 'mn10_132a': 3,\n",
       " 'mn10_133a': 4,\n",
       " 'mn10_139a': 5,\n",
       " 'mn10_144a': 6,\n",
       " 'mn10_151a': 7}"
      ]
     },
     "execution_count": 8,
     "metadata": {},
     "output_type": "execute_result"
    }
   ],
   "source": [
    "clip_id_to_individual_id"
   ]
  },
  {
   "cell_type": "code",
   "execution_count": 9,
   "id": "b719e122-9b2d-4fb1-a519-36f58a545c0c",
   "metadata": {},
   "outputs": [
    {
     "name": "stdout",
     "output_type": "stream",
     "text": [
      "[0, 1, 3, 4, 6]\n",
      "[5]\n",
      "[0, 1, 3, 4, 5, 6]\n",
      "[2, 7]\n"
     ]
    }
   ],
   "source": [
    "# Set up data splits by individual\n",
    "\n",
    "test_proportion = .25\n",
    "val_proportion = .2\n",
    "num_individuals = len(individuals)\n",
    "\n",
    "test_num_individuals = int(test_proportion * num_individuals)\n",
    "val_num_individuals = int(val_proportion * num_individuals)\n",
    "\n",
    "rng = np.random.default_rng(61) #60\n",
    "test_individuals = list(rng.choice(individuals, size = test_num_individuals, replace = False))\n",
    "test_individuals.sort()\n",
    "\n",
    "dev_individuals = individuals.copy()\n",
    "for i in test_individuals:\n",
    "    dev_individuals.remove(i)\n",
    "    \n",
    "val_individuals = list(rng.choice(dev_individuals, size = val_num_individuals, replace = False))\n",
    "val_individuals.sort()\n",
    "    \n",
    "train_individuals = dev_individuals.copy()\n",
    "for i in val_individuals:\n",
    "    train_individuals.remove(i)\n",
    "    \n",
    "print(train_individuals)\n",
    "print(val_individuals)\n",
    "print(dev_individuals)\n",
    "print(test_individuals)"
   ]
  },
  {
   "cell_type": "code",
   "execution_count": 10,
   "id": "ed6d55ef-3574-4052-9506-6c2d9af412cf",
   "metadata": {},
   "outputs": [],
   "source": [
    "# Set up clip ids \n",
    "\n",
    "# Clip ids\n",
    "test_clip_ids = []\n",
    "train_clip_ids = []\n",
    "val_clip_ids = []\n",
    "dev_clip_ids = []\n",
    "for clip_id in clip_ids:\n",
    "    individual = clip_id_to_individual_id[clip_id]\n",
    "    if individual in train_individuals:\n",
    "        train_clip_ids.append(clip_id)\n",
    "        dev_clip_ids.append(clip_id)\n",
    "    elif individual in val_individuals:\n",
    "        val_clip_ids.append(clip_id)\n",
    "        dev_clip_ids.append(clip_id)\n",
    "    elif individual in test_individuals:\n",
    "        test_clip_ids.append(clip_id)\n",
    "    \n",
    "train_clip_ids.sort()\n",
    "val_clip_ids.sort()\n",
    "dev_clip_ids.sort()\n",
    "test_clip_ids.sort()\n",
    "    \n",
    "dataset_metadata['clip_ids'] = clip_ids\n",
    "dataset_metadata['train_clip_ids'] = train_clip_ids\n",
    "dataset_metadata['test_clip_ids'] = test_clip_ids\n",
    "dataset_metadata['val_clip_ids'] = val_clip_ids\n",
    "dataset_metadata['dev_clip_ids'] = dev_clip_ids"
   ]
  },
  {
   "cell_type": "markdown",
   "id": "3fca914b-f4d0-4265-b18c-71cd7aca2dc5",
   "metadata": {},
   "source": [
    "## Create dataset-level metadata"
   ]
  },
  {
   "cell_type": "code",
   "execution_count": 11,
   "id": "444a3dc3-dfb0-4907-833e-8caf3eb4d88d",
   "metadata": {},
   "outputs": [
    {
     "data": {
      "text/html": [
       "<div>\n",
       "<style scoped>\n",
       "    .dataframe tbody tr th:only-of-type {\n",
       "        vertical-align: middle;\n",
       "    }\n",
       "\n",
       "    .dataframe tbody tr th {\n",
       "        vertical-align: top;\n",
       "    }\n",
       "\n",
       "    .dataframe thead th {\n",
       "        text-align: right;\n",
       "    }\n",
       "</style>\n",
       "<table border=\"1\" class=\"dataframe\">\n",
       "  <thead>\n",
       "    <tr style=\"text-align: right;\">\n",
       "      <th></th>\n",
       "      <th>index</th>\n",
       "      <th>start_cue</th>\n",
       "      <th>end_cue</th>\n",
       "      <th>max_depth</th>\n",
       "      <th>cue_at_max_depth</th>\n",
       "      <th>mean_depth</th>\n",
       "      <th>mean_compression</th>\n",
       "      <th>dive_ID</th>\n",
       "      <th>Tdown</th>\n",
       "      <th>Tup</th>\n",
       "      <th>numLun</th>\n",
       "      <th>behav_state</th>\n",
       "      <th>clip_id</th>\n",
       "      <th>individual</th>\n",
       "    </tr>\n",
       "  </thead>\n",
       "  <tbody>\n",
       "    <tr>\n",
       "      <th>0</th>\n",
       "      <td>0</td>\n",
       "      <td>106.0</td>\n",
       "      <td>181.0</td>\n",
       "      <td>15.359074</td>\n",
       "      <td>141.0</td>\n",
       "      <td>9.802582</td>\n",
       "      <td>0.540365</td>\n",
       "      <td>1</td>\n",
       "      <td>75.0</td>\n",
       "      <td>392.6</td>\n",
       "      <td>0</td>\n",
       "      <td>2</td>\n",
       "      <td>mn09_127a</td>\n",
       "      <td>0</td>\n",
       "    </tr>\n",
       "    <tr>\n",
       "      <th>1</th>\n",
       "      <td>1</td>\n",
       "      <td>573.6</td>\n",
       "      <td>723.2</td>\n",
       "      <td>11.587490</td>\n",
       "      <td>656.6</td>\n",
       "      <td>6.564626</td>\n",
       "      <td>0.625480</td>\n",
       "      <td>2</td>\n",
       "      <td>149.6</td>\n",
       "      <td>123.2</td>\n",
       "      <td>0</td>\n",
       "      <td>2</td>\n",
       "      <td>mn09_127a</td>\n",
       "      <td>0</td>\n",
       "    </tr>\n",
       "    <tr>\n",
       "      <th>2</th>\n",
       "      <td>2</td>\n",
       "      <td>846.4</td>\n",
       "      <td>901.4</td>\n",
       "      <td>6.402085</td>\n",
       "      <td>877.4</td>\n",
       "      <td>4.133412</td>\n",
       "      <td>0.720284</td>\n",
       "      <td>3</td>\n",
       "      <td>55.0</td>\n",
       "      <td>116.0</td>\n",
       "      <td>0</td>\n",
       "      <td>1</td>\n",
       "      <td>mn09_127a</td>\n",
       "      <td>0</td>\n",
       "    </tr>\n",
       "    <tr>\n",
       "      <th>3</th>\n",
       "      <td>3</td>\n",
       "      <td>1017.4</td>\n",
       "      <td>1298.8</td>\n",
       "      <td>22.518113</td>\n",
       "      <td>1144.6</td>\n",
       "      <td>13.791122</td>\n",
       "      <td>0.465187</td>\n",
       "      <td>4</td>\n",
       "      <td>281.4</td>\n",
       "      <td>215.8</td>\n",
       "      <td>0</td>\n",
       "      <td>2</td>\n",
       "      <td>mn09_127a</td>\n",
       "      <td>0</td>\n",
       "    </tr>\n",
       "    <tr>\n",
       "      <th>4</th>\n",
       "      <td>4</td>\n",
       "      <td>1514.6</td>\n",
       "      <td>1657.6</td>\n",
       "      <td>18.349076</td>\n",
       "      <td>1591.2</td>\n",
       "      <td>11.715855</td>\n",
       "      <td>0.499743</td>\n",
       "      <td>5</td>\n",
       "      <td>143.0</td>\n",
       "      <td>4.8</td>\n",
       "      <td>0</td>\n",
       "      <td>2</td>\n",
       "      <td>mn09_127a</td>\n",
       "      <td>0</td>\n",
       "    </tr>\n",
       "    <tr>\n",
       "      <th>...</th>\n",
       "      <td>...</td>\n",
       "      <td>...</td>\n",
       "      <td>...</td>\n",
       "      <td>...</td>\n",
       "      <td>...</td>\n",
       "      <td>...</td>\n",
       "      <td>...</td>\n",
       "      <td>...</td>\n",
       "      <td>...</td>\n",
       "      <td>...</td>\n",
       "      <td>...</td>\n",
       "      <td>...</td>\n",
       "      <td>...</td>\n",
       "      <td>...</td>\n",
       "    </tr>\n",
       "    <tr>\n",
       "      <th>3422</th>\n",
       "      <td>218</td>\n",
       "      <td>80043.6</td>\n",
       "      <td>80066.0</td>\n",
       "      <td>3.187540</td>\n",
       "      <td>80057.0</td>\n",
       "      <td>1.936876</td>\n",
       "      <td>0.842695</td>\n",
       "      <td>219</td>\n",
       "      <td>22.4</td>\n",
       "      <td>1.6</td>\n",
       "      <td>0</td>\n",
       "      <td>1</td>\n",
       "      <td>mn10_133a</td>\n",
       "      <td>4</td>\n",
       "    </tr>\n",
       "    <tr>\n",
       "      <th>3423</th>\n",
       "      <td>219</td>\n",
       "      <td>80067.6</td>\n",
       "      <td>80339.4</td>\n",
       "      <td>81.329583</td>\n",
       "      <td>80217.8</td>\n",
       "      <td>55.607474</td>\n",
       "      <td>0.201729</td>\n",
       "      <td>220</td>\n",
       "      <td>271.8</td>\n",
       "      <td>186.4</td>\n",
       "      <td>0</td>\n",
       "      <td>3</td>\n",
       "      <td>mn10_133a</td>\n",
       "      <td>4</td>\n",
       "    </tr>\n",
       "    <tr>\n",
       "      <th>3424</th>\n",
       "      <td>220</td>\n",
       "      <td>80525.8</td>\n",
       "      <td>80826.4</td>\n",
       "      <td>61.945769</td>\n",
       "      <td>80717.8</td>\n",
       "      <td>44.630962</td>\n",
       "      <td>0.232346</td>\n",
       "      <td>221</td>\n",
       "      <td>300.6</td>\n",
       "      <td>300.2</td>\n",
       "      <td>0</td>\n",
       "      <td>3</td>\n",
       "      <td>mn10_133a</td>\n",
       "      <td>4</td>\n",
       "    </tr>\n",
       "    <tr>\n",
       "      <th>3425</th>\n",
       "      <td>221</td>\n",
       "      <td>81126.6</td>\n",
       "      <td>81390.4</td>\n",
       "      <td>49.699096</td>\n",
       "      <td>81268.6</td>\n",
       "      <td>35.763384</td>\n",
       "      <td>0.264418</td>\n",
       "      <td>222</td>\n",
       "      <td>263.8</td>\n",
       "      <td>237.4</td>\n",
       "      <td>0</td>\n",
       "      <td>2</td>\n",
       "      <td>mn10_133a</td>\n",
       "      <td>4</td>\n",
       "    </tr>\n",
       "    <tr>\n",
       "      <th>3426</th>\n",
       "      <td>222</td>\n",
       "      <td>81627.8</td>\n",
       "      <td>81832.6</td>\n",
       "      <td>45.380688</td>\n",
       "      <td>81741.4</td>\n",
       "      <td>30.286725</td>\n",
       "      <td>0.299424</td>\n",
       "      <td>223</td>\n",
       "      <td>204.8</td>\n",
       "      <td>0.0</td>\n",
       "      <td>0</td>\n",
       "      <td>2</td>\n",
       "      <td>mn10_133a</td>\n",
       "      <td>4</td>\n",
       "    </tr>\n",
       "  </tbody>\n",
       "</table>\n",
       "<p>3427 rows × 14 columns</p>\n",
       "</div>"
      ],
      "text/plain": [
       "      index  start_cue  end_cue  max_depth  cue_at_max_depth  mean_depth  \\\n",
       "0         0      106.0    181.0  15.359074             141.0    9.802582   \n",
       "1         1      573.6    723.2  11.587490             656.6    6.564626   \n",
       "2         2      846.4    901.4   6.402085             877.4    4.133412   \n",
       "3         3     1017.4   1298.8  22.518113            1144.6   13.791122   \n",
       "4         4     1514.6   1657.6  18.349076            1591.2   11.715855   \n",
       "...     ...        ...      ...        ...               ...         ...   \n",
       "3422    218    80043.6  80066.0   3.187540           80057.0    1.936876   \n",
       "3423    219    80067.6  80339.4  81.329583           80217.8   55.607474   \n",
       "3424    220    80525.8  80826.4  61.945769           80717.8   44.630962   \n",
       "3425    221    81126.6  81390.4  49.699096           81268.6   35.763384   \n",
       "3426    222    81627.8  81832.6  45.380688           81741.4   30.286725   \n",
       "\n",
       "      mean_compression  dive_ID  Tdown    Tup  numLun  behav_state    clip_id  \\\n",
       "0             0.540365        1   75.0  392.6       0            2  mn09_127a   \n",
       "1             0.625480        2  149.6  123.2       0            2  mn09_127a   \n",
       "2             0.720284        3   55.0  116.0       0            1  mn09_127a   \n",
       "3             0.465187        4  281.4  215.8       0            2  mn09_127a   \n",
       "4             0.499743        5  143.0    4.8       0            2  mn09_127a   \n",
       "...                ...      ...    ...    ...     ...          ...        ...   \n",
       "3422          0.842695      219   22.4    1.6       0            1  mn10_133a   \n",
       "3423          0.201729      220  271.8  186.4       0            3  mn10_133a   \n",
       "3424          0.232346      221  300.6  300.2       0            3  mn10_133a   \n",
       "3425          0.264418      222  263.8  237.4       0            2  mn10_133a   \n",
       "3426          0.299424      223  204.8    0.0       0            2  mn10_133a   \n",
       "\n",
       "      individual  \n",
       "0              0  \n",
       "1              0  \n",
       "2              0  \n",
       "3              0  \n",
       "4              0  \n",
       "...          ...  \n",
       "3422           4  \n",
       "3423           4  \n",
       "3424           4  \n",
       "3425           4  \n",
       "3426           4  \n",
       "\n",
       "[3427 rows x 14 columns]"
      ]
     },
     "execution_count": 11,
     "metadata": {},
     "output_type": "execute_result"
    }
   ],
   "source": [
    "## Integer codes for specific behaviors\n",
    "\n",
    "# list of behaviors (from metadata sent by Ari)\n",
    "beh_names = ['unknown', \n",
    "             'rest', \n",
    "             'travel', \n",
    "             'exploratory', \n",
    "             'feed']\n",
    "\n",
    "dataset_metadata['label_names'] = beh_names\n",
    "\n",
    "beh_str_to_int = {name : i for i, name in enumerate(beh_names)}\n",
    "beh_int_to_str = {i : name for i, name in enumerate(beh_names)}\n",
    "\n",
    "# extract directly from the annotations\n",
    "fp = annotations_fps[0]\n",
    "individual_annotations = pd.read_csv(fp)\n",
    "clip_id = fp.split('/')[-1].split('.')[0].split('-')[-1]\n",
    "individual_annotations['clip_id'] = clip_id\n",
    "individual_annotations['individual'] = clip_id_to_individual_id[clip_id]\n",
    "all_annotations = individual_annotations\n",
    "\n",
    "for fp in annotations_fps[1:]:\n",
    "    individual_annotations = pd.read_csv(fp)\n",
    "    clip_id = fp.split('/')[-1].split('.')[0].split('-')[-1]\n",
    "    individual_annotations['clip_id'] = clip_id\n",
    "    individual_annotations['individual'] = clip_id_to_individual_id[clip_id]\n",
    "    all_annotations = all_annotations.append(individual_annotations)\n",
    "    \n",
    "all_annotations.reset_index(inplace = True)\n",
    "\n",
    "all_annotations"
   ]
  },
  {
   "cell_type": "code",
   "execution_count": 12,
   "id": "218803e8-5f53-42b7-ad50-f74bd20265cb",
   "metadata": {},
   "outputs": [
    {
     "data": {
      "text/plain": [
       "4    1819\n",
       "1     876\n",
       "2     572\n",
       "3     160\n",
       "Name: behav_state, dtype: int64"
      ]
     },
     "execution_count": 12,
     "metadata": {},
     "output_type": "execute_result"
    }
   ],
   "source": [
    "# What are the observed labels?\n",
    "\n",
    "all_annotations['behav_state'].value_counts()"
   ]
  },
  {
   "cell_type": "code",
   "execution_count": 13,
   "id": "f438d48f-0596-4a58-8669-358c9a4cec2d",
   "metadata": {},
   "outputs": [],
   "source": [
    "## clip_data column names\n",
    "## Since Pitch and Roll are provided, we include them\n",
    "## Omit Head, likely irrelevant\n",
    "\n",
    "clip_column_names = ['AccX', 'AccY', 'AccZ', 'StaticAccX', 'StaticAccY', 'StaticAccZ', 'Depth', 'Speed', 'Pitch', 'Roll', 'individual_id', 'label']\n",
    "dataset_metadata['clip_column_names'] = clip_column_names"
   ]
  },
  {
   "cell_type": "code",
   "execution_count": 14,
   "id": "a560ecfd-2ff8-4aff-a58c-76bb31200b86",
   "metadata": {},
   "outputs": [],
   "source": [
    "## Save off dataset level metadata\n",
    "\n",
    "dataset_metadata_fp = os.path.join(formatted_data_dir, 'dataset_metadata.yaml')\n",
    "\n",
    "with open(dataset_metadata_fp, 'w') as file:\n",
    "    yaml.dump(dataset_metadata, file)"
   ]
  },
  {
   "cell_type": "code",
   "execution_count": 15,
   "id": "9181f651-b141-4e91-bfd4-a4a25f5a10c9",
   "metadata": {},
   "outputs": [
    {
     "name": "stderr",
     "output_type": "stream",
     "text": [
      "/opt/conda/lib/python3.7/site-packages/scipy/io/matlab/mio.py:226: MatReadWarning: Duplicate variable name \"None\" in stream - replacing previous with new\n",
      "Consider mio5.varmats_from_mat to split file into single variable files\n",
      "  matfile_dict = MR.get_variables(variable_names)\n"
     ]
    },
    {
     "name": "stdout",
     "output_type": "stream",
     "text": [
      "total duration is 712412.200000 seconds, i.e. 197.892278 hours\n"
     ]
    }
   ],
   "source": [
    "# How many samples?\n",
    "\n",
    "length = 0\n",
    "for fp in data_fps:\n",
    "    # load features\n",
    "    length += np.shape(sio.loadmat(fp)['Aw'])[0]\n",
    "\n",
    "total_dur_sec = length / sr\n",
    "total_dur_hours = total_dur_sec / 3600\n",
    "print(\"total duration is %f seconds, i.e. %f hours\" % (total_dur_sec, total_dur_hours))"
   ]
  },
  {
   "cell_type": "markdown",
   "id": "f964b042-2a2b-4690-bdd1-1685991ca77f",
   "metadata": {},
   "source": [
    "## Format Clip Data"
   ]
  },
  {
   "cell_type": "code",
   "execution_count": 16,
   "id": "e4ae21e9-df06-469e-8ee8-afb811f6b909",
   "metadata": {},
   "outputs": [],
   "source": [
    "# use butterworth filter to extract low and high frequency components\n",
    "def extract_static(series, low_cutoff_freq):\n",
    "    # extract static component\n",
    "    sos = signal.butter(10, low_cutoff_freq, 'low', fs=sr, output='sos')\n",
    "    low_passed_series = signal.sosfilt(sos, series)\n",
    "    remaining_series = series - low_passed_series\n",
    "    return low_passed_series, remaining_series\n",
    "\n",
    "# Convenience function to detect nans.\n",
    "def nan_helper(y):\n",
    "    return np.isnan(y), lambda z: z.nonzero()[0]\n",
    "\n",
    "#Interpolates all nan values of given array\n",
    "def interpolate_nan(y):\n",
    "    nans, x= nan_helper(y)\n",
    "    y[nans]= np.interp(x(nans), x(~nans), y[~nans])\n",
    "    return y"
   ]
  },
  {
   "cell_type": "code",
   "execution_count": 17,
   "id": "226d618a-e1ac-4b91-993b-2c1b50e1f7a0",
   "metadata": {},
   "outputs": [],
   "source": [
    "# For each clip, create and save the data in the correct format\n",
    "\n",
    "for clip_id in clip_ids:\n",
    "    # load features\n",
    "    data_fp = raw_data_dir + '/' + clip_id + '/' +clip_id +'prh_speed.mat'\n",
    "    data = sio.loadmat(data_fp)\n",
    "    Aw = data['Aw']\n",
    "    speed = data['speedJJ']\n",
    "    speed = interpolate_nan(speed)\n",
    "    depth = data['p']\n",
    "    depth = interpolate_nan(depth)\n",
    "    # depth = np.squeeze(depth, axis = 1)\n",
    "    # depth = np.gradient(depth)\n",
    "    # depth = np.expand_dims(depth, axis = 1)\n",
    "    pitch = data['pitch']\n",
    "    pitch = interpolate_nan(pitch)\n",
    "    roll = data['roll']\n",
    "    roll = interpolate_nan(roll)\n",
    "    \n",
    "    clip_dur_samples = np.shape(Aw)[0]\n",
    "    static_components = np.zeros((clip_dur_samples, 3))\n",
    "    \n",
    "    # correct for gravity\n",
    "    for i in range(3): #first 3 channels are acceleration\n",
    "        to_correct = Aw[:, i]\n",
    "        to_correct = interpolate_nan(to_correct)\n",
    "        static, corrected = extract_static(to_correct, 1.)\n",
    "        Aw[:, i] = corrected\n",
    "        static_components[:, i] = static\n",
    "    \n",
    "    # load annotations\n",
    "    annotations_sub = all_annotations[all_annotations['clip_id'] == clip_id]\n",
    "    \n",
    "    # reformat annotations\n",
    "    per_frame_annotations = np.zeros([clip_dur_samples, 1]) # populate with 0's, aka \"unkown\"\n",
    "    for i, row in annotations_sub.iterrows():\n",
    "        int_label = row['behav_state']\n",
    "        start_sample = int(row['start_cue']*sr)\n",
    "        end_sample = int(row['end_cue'] * sr)\n",
    "        per_frame_annotations[start_sample: end_sample, :] = int_label\n",
    "        \n",
    "    # insert individual id\n",
    "    individual_id = clip_id_to_individual_id[clip_id]\n",
    "    per_frame_individual_id = np.full_like(per_frame_annotations, individual_id)\n",
    "    \n",
    "    clip_data = np.concatenate([Aw, static_components, depth, speed, pitch, roll, per_frame_individual_id, per_frame_annotations], axis = 1)\n",
    "    \n",
    "    clip_data_fp = os.path.join(clip_data_dir, clip_id + '.csv')\n",
    "    \n",
    "    np.savetxt(clip_data_fp, clip_data, delimiter=\",\")\n",
    "    "
   ]
  },
  {
   "cell_type": "markdown",
   "id": "c9844300-e520-49a9-b975-210caa20a21f",
   "metadata": {},
   "source": [
    "## Check it all looks ok"
   ]
  },
  {
   "cell_type": "code",
   "execution_count": 18,
   "id": "717812e0-af4e-4bd0-96db-5ce83ece61c3",
   "metadata": {},
   "outputs": [],
   "source": [
    "clip_id = clip_ids[0]\n",
    "clip_data_fp = os.path.join(clip_data_dir, clip_id + '.csv')\n",
    "data = np.genfromtxt(clip_data_fp, delimiter = ',')\n",
    "#data = np.load(clip_data_fp)"
   ]
  },
  {
   "cell_type": "code",
   "execution_count": 19,
   "id": "77164f71-4257-43b1-ae76-49f1438c836e",
   "metadata": {},
   "outputs": [
    {
     "data": {
      "text/plain": [
       "(464648, 12)"
      ]
     },
     "execution_count": 19,
     "metadata": {},
     "output_type": "execute_result"
    }
   ],
   "source": [
    "np.shape(data)"
   ]
  },
  {
   "cell_type": "code",
   "execution_count": 20,
   "id": "b1d243b7-ec2e-4bc5-8239-400cc7241953",
   "metadata": {},
   "outputs": [
    {
     "data": {
      "image/png": "[encoded data removed]",
      "text/plain": [
       "<Figure size 432x288 with 1 Axes>"
      ]
     },
     "metadata": {
      "needs_background": "light"
     },
     "output_type": "display_data"
    }
   ],
   "source": [
    "for i in range(np.shape(data)[1]):\n",
    "    plt.plot(data[:, i])"
   ]
  },
  {
   "cell_type": "markdown",
   "id": "a6c4b9bd-8f21-49c0-9668-0cc6ae9ccd7a",
   "metadata": {},
   "source": [
    "## Plot Dataset Summary"
   ]
  },
  {
   "cell_type": "code",
   "execution_count": 24,
   "id": "236593e6-2ca4-46c2-a424-b848d01da90a",
   "metadata": {},
   "outputs": [],
   "source": [
    "# Count class representation\n",
    "\n",
    "beh_names = dataset_metadata['label_names']\n",
    "train_label_count = {name : 0 for name in beh_names}\n",
    "val_label_count = {name : 0 for name in beh_names}\n",
    "dev_label_count = {name : 0 for name in beh_names}\n",
    "test_label_count = {name : 0 for name in beh_names}\n",
    "\n",
    "for clip_id in clip_ids:\n",
    "    clip_data_fp = os.path.join(clip_data_dir, clip_id + '.csv')\n",
    "    data = pd.read_csv(clip_data_fp, delimiter = ',', header = None)\n",
    "    counts = data[data.keys()[-1]].astype(int).value_counts()\n",
    "    for key in counts.keys():\n",
    "        name = beh_names[key]\n",
    "        if clip_id in dataset_metadata['train_clip_ids']:\n",
    "            train_label_count[name] += counts[key]\n",
    "            dev_label_count[name] += counts[key]\n",
    "        elif clip_id in dataset_metadata['val_clip_ids']:\n",
    "            val_label_count[name] += counts[key]\n",
    "            dev_label_count[name] += counts[key]\n",
    "        elif clip_id in dataset_metadata['test_clip_ids']:\n",
    "            test_label_count[name] += counts[key]\n",
    "\n",
    "train_label_perc = {name : 0 for name in beh_names[1:]}\n",
    "val_label_perc = {name : 0 for name in beh_names[1:]}\n",
    "dev_label_perc = {name : 0 for name in beh_names[1:]}\n",
    "test_label_perc = {name : 0 for name in beh_names[1:]}\n",
    "\n",
    "for name in beh_names[1:]:\n",
    "    train_label_perc[name] = float(train_label_count[name] / sum([train_label_count[j] for j in beh_names[1:]]))\n",
    "    val_label_perc[name] = float(val_label_count[name] / sum([val_label_count[j] for j in beh_names[1:]]))\n",
    "    dev_label_perc[name] = float(dev_label_count[name] / sum([dev_label_count[j] for j in beh_names[1:]]))\n",
    "    test_label_perc[name] = float(test_label_count[name] / sum([test_label_count[j] for j in beh_names[1:]]))"
   ]
  },
  {
   "cell_type": "code",
   "execution_count": 25,
   "id": "f3a805c7-00a7-44dd-9494-2fdd66a00620",
   "metadata": {},
   "outputs": [
    {
     "data": {
      "image/png": "[encoded data removed]",
      "text/plain": [
       "<Figure size 640x480 with 1 Axes>"
      ]
     },
     "metadata": {
      "needs_background": "light"
     },
     "output_type": "display_data"
    }
   ],
   "source": [
    "# Plot class representation\n",
    "\n",
    "keys = np.arange(len(beh_names))[1:]\n",
    "offset = 0.1\n",
    "width = 0.2\n",
    "plt.figure(figsize=(8, 6), dpi=80)\n",
    "\n",
    "plt.barh(keys - offset, [dev_label_perc[beh_names[key]] for key in keys], height=width, align='center', label = 'train') #We call dev set 'train' in the paper\n",
    "#plt.barh(keys, [val_label_perc[beh_names[key]] for key in keys], height=width, align='center', label = 'val')\n",
    "plt.barh(keys + offset, [test_label_perc[beh_names[key]] for key in keys], height=width, align='center', label = 'test')\n",
    "plt.title(\"Class representation across data splits\")\n",
    "plt.yticks(keys, beh_names[1:], fontsize = 7, rotation = 60)\n",
    "plt.xlabel('Percent of known labels')\n",
    "plt.legend()\n",
    "target_fp = os.path.join(formatted_data_dir, 'class_rep.png')\n",
    "\n",
    "plt.savefig(target_fp)\n",
    "plt.show()\n",
    "\n",
    "numerical_target_fp = os.path.join(formatted_data_dir, 'class_rep.yaml')\n",
    "class_rep_dict = {'train_label_perc' : train_label_perc,\n",
    "                  'val_label_perc' : val_label_perc,\n",
    "                  'dev_label_perc' : dev_label_perc,\n",
    "                  'test_label_perc' : test_label_perc}\n",
    "with open(numerical_target_fp, 'w') as file:\n",
    "    yaml.dump(class_rep_dict, file)"
   ]
  },
  {
   "cell_type": "code",
   "execution_count": 23,
   "id": "1031e026-0e74-4952-9a83-573d7427b52e",
   "metadata": {},
   "outputs": [
    {
     "data": {
      "image/png": "[encoded data removed]",
      "text/plain": [
       "<Figure size 648x144 with 3 Axes>"
      ]
     },
     "metadata": {},
     "output_type": "display_data"
    }
   ],
   "source": [
    "# Pie chart, of known vs unknown samples \n",
    "\n",
    "labels = 'Known', 'Unknown'\n",
    "train_sizes = [sum([train_label_count[j] for j in beh_names[1:]]), train_label_count['unknown']]\n",
    "val_sizes = [sum([val_label_count[j] for j in beh_names[1:]]), val_label_count['unknown']]\n",
    "test_sizes = [sum([test_label_count[j] for j in beh_names[1:]]), test_label_count['unknown']]\n",
    "\n",
    "fig, ax = plt.subplots(1,3, figsize = (9,2))\n",
    "plt.title(\"blah\")\n",
    "\n",
    "ax[0].pie(train_sizes, labels=labels, autopct='%1.1f%%', startangle=90)\n",
    "ax[0].axis('equal')  # Equal aspect ratio ensures that pie is drawn as a circle.\n",
    "ax[0].set_title('Train')\n",
    "\n",
    "ax[1].pie(val_sizes, labels=labels, autopct='%1.1f%%', startangle=90)\n",
    "ax[1].axis('equal')  # Equal aspect ratio ensures that pie is drawn as a circle.\n",
    "ax[1].set_title('Val')\n",
    "\n",
    "ax[2].pie(test_sizes, labels=labels, autopct='%1.1f%%', startangle=90)\n",
    "ax[2].axis('equal')  # Equal aspect ratio ensures that pie is drawn as a circle.\n",
    "ax[2].set_title('Test')\n",
    "\n",
    "target_fp = os.path.join(formatted_data_dir, 'perc_known.png')\n",
    "\n",
    "plt.savefig(target_fp)\n",
    "\n",
    "plt.show()\n"
   ]
  },
  {
   "cell_type": "code",
   "execution_count": null,
   "id": "a65de0de-4b58-48fb-ad5e-44f166fd8164",
   "metadata": {},
   "outputs": [],
   "source": []
  }
 ],
 "metadata": {
  "environment": {
   "kernel": "python3",
   "name": "pytorch-gpu.1-9.m82",
   "type": "gcloud",
   "uri": "gcr.io/deeplearning-platform-release/pytorch-gpu.1-9:m82"
  },
  "kernelspec": {
   "display_name": "Python 3",
   "language": "python",
   "name": "python3"
  },
  "language_info": {
   "codemirror_mode": {
    "name": "ipython",
    "version": 3
   },
   "file_extension": ".py",
   "mimetype": "text/x-python",
   "name": "python",
   "nbconvert_exporter": "python",
   "pygments_lexer": "ipython3",
   "version": "3.7.10"
  }
 },
 "nbformat": 4,
 "nbformat_minor": 5
}
