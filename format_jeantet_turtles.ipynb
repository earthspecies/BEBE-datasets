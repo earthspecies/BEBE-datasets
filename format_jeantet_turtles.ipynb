{
 "cells": [
  {
   "cell_type": "markdown",
   "id": "86ce8245-b923-42ba-b1cf-b0a8bdb804d4",
   "metadata": {},
   "source": [
    "# Notebook to format data from \"Behavioural inference from signal processing using animal-borne multi-sensor loggers: a novel solution to extend the knowledge of sea turtle ecology\", Jeantet et al (2020).\n",
    "\n",
    "Data can be found [here](https://datadryad.org/stash/dataset/doi:10.5061/dryad.hhmgqnkd9).\n",
    "\n",
    "[Supplementary material](https://rs.figshare.com/articles/journal_contribution/Supplementary_Tables_and_Figure_from_Behavioural_inference_from_signal_processing_using_animal-borne_multi-sensor_loggers_a_novel_solution_to_extend_the_knowledge_of_sea_turtle_ecology/12279848?backTo=/collections/Supplementary_material_from_Behavioural_inference_from_signal_processing_using_animal-borne_multi-sensor_loggers_a_novel_solution_to_extend_the_knowledge_of_sea_turtle_ecology_/4971233)"
   ]
  },
  {
   "cell_type": "markdown",
   "id": "77461baa-2d89-4ddf-b8b9-283f19b3313e",
   "metadata": {},
   "source": [
    "## Setup"
   ]
  },
  {
   "cell_type": "code",
   "execution_count": 1,
   "id": "a9cd11e9-258b-4304-a21d-f826f276b73b",
   "metadata": {},
   "outputs": [],
   "source": [
    "# Outputs:\n",
    "# formatted dataset directory\n",
    "# dataset_metadata (yaml), includes\n",
    "## sample_rate\n",
    "## dataset_label_names (list)\n",
    "## dataset_feature_names (list)\n",
    "## clip_ids (list)\n",
    "# clip_data (directory), includes\n",
    "## data_files (multiple files)"
   ]
  },
  {
   "cell_type": "code",
   "execution_count": 2,
   "id": "7470e077-e978-495a-b349-27cc5a6b2a40",
   "metadata": {},
   "outputs": [],
   "source": [
    "%load_ext autoreload\n",
    "%autoreload 2"
   ]
  },
  {
   "cell_type": "code",
   "execution_count": 3,
   "id": "ec388900-f0ab-4e41-a56b-9597e4f4911f",
   "metadata": {},
   "outputs": [],
   "source": [
    "import os\n",
    "import numpy as np\n",
    "import pandas as pd\n",
    "import h5py\n",
    "from matplotlib import pyplot as plt\n",
    "import glob\n",
    "import yaml\n",
    "import scipy.signal as signal"
   ]
  },
  {
   "cell_type": "code",
   "execution_count": 4,
   "id": "6bc728a2-a91e-4da2-abea-4b57ceb4e818",
   "metadata": {},
   "outputs": [],
   "source": [
    "# Specify data filepaths\n",
    "\n",
    "raw_data_dir = '/home/jupyter/behavior_data_local/data/raw/jeantet_turtles'\n",
    "formatted_data_dir = '/home/jupyter/behavior_data_local/data/formatted/jeantet_turtles'\n",
    "\n",
    "if not os.path.exists(formatted_data_dir):\n",
    "    os.makedirs(formatted_data_dir)\n",
    "    \n",
    "features_fps = glob.glob(raw_data_dir + '/*.h5')\n",
    "annotations_fps = glob.glob(raw_data_dir + '/*.csv')\n",
    "\n",
    "clip_data_dir = os.path.join(formatted_data_dir, 'clip_data')\n",
    "if not os.path.exists(clip_data_dir):\n",
    "    os.makedirs(clip_data_dir)"
   ]
  },
  {
   "cell_type": "code",
   "execution_count": 5,
   "id": "98f244e7-ac03-48e2-868a-1b7f7dd15fea",
   "metadata": {},
   "outputs": [],
   "source": [
    "# Dataset metadata\n",
    "dataset_metadata = {}\n",
    "sr = 20\n",
    "dataset_metadata['sr'] = sr ## from dataset documentation\n",
    "dataset_metadata['dataset_name'] = 'jeantet_turtles'"
   ]
  },
  {
   "cell_type": "code",
   "execution_count": 6,
   "id": "7ea20959-639e-4f2c-8efa-945516302110",
   "metadata": {},
   "outputs": [],
   "source": [
    "## Integer codes for individuals\n",
    "\n",
    "clip_id_to_individual_id = {'CC-07-107_11-02-2019' : 0,\n",
    " 'CC-07-108_11-02-2019' : 1,\n",
    " 'CC-07-115_13-05-2019' : 2,\n",
    " 'CC-07-115_14-05-2019' : 3,\n",
    " 'CC-07-47_14-02-2018' : 4,\n",
    " 'CC-07-48_04-10-2018' : 5,\n",
    " 'CC-07-48_06-10-2018' : 6,\n",
    " 'CC-07-48_08-04-2019_1' : 7,\n",
    " 'CC-07-48_08-04-2019_2' : 7,\n",
    " 'CC-07-48_08-04-2019_3' : 7,\n",
    " 'CC-07-48_08-10-2018' : 8,\n",
    " 'CC-07-48_10-10-2018' : 9,\n",
    " 'CC-07-48_18-02-2019' : 10,\n",
    " 'CC-07-48_22-05-2018' : 11,\n",
    " 'CC-07-48_26-05-2018' : 12,\n",
    " 'CC-07-59_20-05-2018' : 13}\n",
    "\n",
    "dataset_metadata['individual_ids'] = [i for i in range(14)] # There are 14 individuals but only 13 mentioned in the paper\n",
    "dataset_metadata['clip_id_to_individual_id'] = clip_id_to_individual_id\n",
    "\n",
    "individuals = sorted({clip_id_to_individual_id[key] for key in clip_id_to_individual_id})"
   ]
  },
  {
   "cell_type": "code",
   "execution_count": 7,
   "id": "b719e122-9b2d-4fb1-a519-36f58a545c0c",
   "metadata": {},
   "outputs": [
    {
     "name": "stdout",
     "output_type": "stream",
     "text": [
      "[0, 1, 5, 7, 8, 9, 10, 11, 12]\n",
      "[2, 13]\n",
      "[0, 1, 2, 5, 7, 8, 9, 10, 11, 12, 13]\n",
      "[3, 4, 6]\n"
     ]
    }
   ],
   "source": [
    "# Set up data splits by individual\n",
    "\n",
    "test_proportion = .25\n",
    "val_proportion = .2\n",
    "num_individuals = len(individuals)\n",
    "\n",
    "test_num_individuals = int(test_proportion * num_individuals)\n",
    "val_num_individuals = int(val_proportion * num_individuals)\n",
    "\n",
    "rng = np.random.default_rng(608)\n",
    "test_individuals = list(rng.choice(individuals, size = test_num_individuals, replace = False))\n",
    "test_individuals.sort()\n",
    "\n",
    "dev_individuals = individuals.copy()\n",
    "for i in test_individuals:\n",
    "    dev_individuals.remove(i)\n",
    "    \n",
    "val_individuals = list(rng.choice(dev_individuals, size = val_num_individuals, replace = False))\n",
    "val_individuals.sort()\n",
    "    \n",
    "train_individuals = dev_individuals.copy()\n",
    "for i in val_individuals:\n",
    "    train_individuals.remove(i)\n",
    "    \n",
    "print(train_individuals)\n",
    "print(val_individuals)\n",
    "print(dev_individuals)\n",
    "print(test_individuals)"
   ]
  },
  {
   "cell_type": "code",
   "execution_count": 8,
   "id": "ed6d55ef-3574-4052-9506-6c2d9af412cf",
   "metadata": {},
   "outputs": [],
   "source": [
    "# Set up clip ids \n",
    "\n",
    "# Clip ids\n",
    "clip_ids = []\n",
    "test_clip_ids = []\n",
    "train_clip_ids = []\n",
    "val_clip_ids = []\n",
    "dev_clip_ids = []\n",
    "for fp in features_fps:\n",
    "    fn = fp.split('/')[-1]\n",
    "    clip_id = fn.split('.')[0]\n",
    "    individual = clip_id_to_individual_id[clip_id]\n",
    "    clip_ids.append(clip_id)\n",
    "    if individual in train_individuals:\n",
    "        train_clip_ids.append(clip_id)\n",
    "        dev_clip_ids.append(clip_id)\n",
    "    elif individual in val_individuals:\n",
    "        val_clip_ids.append(clip_id)\n",
    "        dev_clip_ids.append(clip_id)\n",
    "    elif individual in test_individuals:\n",
    "        test_clip_ids.append(clip_id)\n",
    "    \n",
    "train_clip_ids.sort()\n",
    "val_clip_ids.sort()\n",
    "dev_clip_ids.sort()\n",
    "test_clip_ids.sort()\n",
    "    \n",
    "dataset_metadata['clip_ids'] = clip_ids\n",
    "dataset_metadata['train_clip_ids'] = train_clip_ids\n",
    "dataset_metadata['test_clip_ids'] = test_clip_ids\n",
    "dataset_metadata['val_clip_ids'] = val_clip_ids\n",
    "dataset_metadata['dev_clip_ids'] = dev_clip_ids"
   ]
  },
  {
   "cell_type": "code",
   "execution_count": 9,
   "id": "0de8ef91-1e10-407e-9162-7742d3b22b41",
   "metadata": {},
   "outputs": [
    {
     "name": "stdout",
     "output_type": "stream",
     "text": [
      "Checked that all clips have corresponding annotations\n"
     ]
    }
   ],
   "source": [
    "# Check that each clip has a corresponding annotation file\n",
    "for clip_id in clip_ids:\n",
    "    if not os.path.join(raw_data_dir, 'Behaviors_' + clip_id +'.csv') in annotations_fps:\n",
    "        print('clip id %s does not have corresponding annotations' % clip_id)\n",
    "        \n",
    "print(\"Checked that all clips have corresponding annotations\")"
   ]
  },
  {
   "cell_type": "markdown",
   "id": "3fca914b-f4d0-4265-b18c-71cd7aca2dc5",
   "metadata": {},
   "source": [
    "## Create dataset-level metadata"
   ]
  },
  {
   "cell_type": "code",
   "execution_count": 10,
   "id": "444a3dc3-dfb0-4907-833e-8caf3eb4d88d",
   "metadata": {},
   "outputs": [],
   "source": [
    "## Integer codes for specific behaviors\n",
    "\n",
    "# list of behaviors (from Jeantet et al 2020)\n",
    "beh_names = ['unknown', \n",
    "            'breathing', \n",
    "            'feeding', \n",
    "            'gliding', \n",
    "            'resting', \n",
    "            'scratching', \n",
    "            'staying_at_surface', \n",
    "            'swimming']\n",
    "\n",
    "dataset_metadata['label_names'] = beh_names\n",
    "\n",
    "beh_str_to_int = {name : i for i, name in enumerate(beh_names)}\n",
    "beh_int_to_str = {i : name for i, name in enumerate(beh_names)}\n",
    "\n",
    "# extract directly from the annotations\n",
    "fp = annotations_fps[0]\n",
    "all_annotations = pd.read_csv(fp, delimiter = ';')\n",
    "\n",
    "for fp in annotations_fps[1:]:\n",
    "    all_annotations = all_annotations.append(pd.read_csv(fp, delimiter = ';'))"
   ]
  },
  {
   "cell_type": "code",
   "execution_count": 11,
   "id": "1ed7a11e-5510-4010-89d1-ccf095e2d83a",
   "metadata": {},
   "outputs": [
    {
     "data": {
      "text/plain": [
       "Swimming ascent               774\n",
       "Swimming descent              773\n",
       "Swimming horizontally         601\n",
       "Swimming on the bottom        536\n",
       "Gliding ascent                497\n",
       "Right U-turn                  470\n",
       "Stay in surface               427\n",
       "Resting                       408\n",
       "Left U-turn                   403\n",
       "Gliding descent               403\n",
       "Breathing                     389\n",
       "Grabbing stationary           350\n",
       "Swimming 1 ascent             336\n",
       "Chewing stationary            303\n",
       "Resting in flow               271\n",
       "Swimming 1 horizontally       268\n",
       "Swimming 1 descent            235\n",
       "Shaking                       146\n",
       "Foraging                      145\n",
       "Prospection                   130\n",
       "Chewing on movement           127\n",
       "Grabbing on movement          121\n",
       "Scratching                    117\n",
       "Shaking head                   98\n",
       "Resting watching               89\n",
       "Obstacle                       53\n",
       "Watching                       48\n",
       "Scratching head                47\n",
       "Sand                           46\n",
       "Flipper beat                   46\n",
       "Interaction                    36\n",
       "Swimming fast descent          32\n",
       "Catching                       28\n",
       "Landing                        25\n",
       "Resting active                 17\n",
       "New video                      11\n",
       "Swimming fast ascent           11\n",
       "Escape                          9\n",
       "Scratching camera               8\n",
       "Catching jellyfish              8\n",
       "Swimming in place               8\n",
       "Swimming fast horizontally      6\n",
       "Pursuit                         5\n",
       "Grabbing the wall               4\n",
       "Stepping back                   4\n",
       "Time mark                       1\n",
       "Regurgitating                   1\n",
       "Chewing jellyfish               1\n",
       "Hunting jellyfish               1\n",
       "Name: Behavior, dtype: int64"
      ]
     },
     "execution_count": 11,
     "metadata": {},
     "output_type": "execute_result"
    }
   ],
   "source": [
    "# What are the observed labels?\n",
    "\n",
    "all_annotations['Behavior'].value_counts()"
   ]
  },
  {
   "cell_type": "code",
   "execution_count": 12,
   "id": "f337e108-e812-43b5-8bd9-614c45e9508c",
   "metadata": {},
   "outputs": [],
   "source": [
    "# Map to beh_labels following supplementary material\n",
    "\n",
    "observed_labels_to_beh_label = {'Swimming ascent' : 'swimming',\n",
    "                                'Swimming descent' : 'swimming',\n",
    "                                'Swimming horizontally' : 'swimming',\n",
    "                                'Swimming on the bottom' : 'swimming',\n",
    "                                'Gliding ascent' : 'gliding',\n",
    "                                'Right U-turn' : 'swimming',\n",
    "                                'Stay in surface' : 'staying_at_surface',\n",
    "                                'Resting' : 'resting',\n",
    "                                'Left U-turn' : 'swimming',\n",
    "                                'Gliding descent' : 'gliding',\n",
    "                                'Breathing' : 'breathing',\n",
    "                                'Grabbing stationary' : 'feeding',\n",
    "                                'Swimming 1 ascent' : 'swimming',\n",
    "                                'Chewing stationary' : 'feeding',\n",
    "                                'Resting in flow' : 'resting',\n",
    "                                'Swimming 1 horizontally' : 'swimming',\n",
    "                                'Swimming 1 descent' : 'swimming',\n",
    "                                'Shaking' : 'unknown',\n",
    "                                'Foraging' : 'unknown',\n",
    "                                'Prospection' : 'swimming',\n",
    "                                'Chewing on movement' : 'feeding',\n",
    "                                'Grabbing on movement' : 'feeding',\n",
    "                                'Scratching' : 'scratching',\n",
    "                                'Shaking head' : 'unknown',\n",
    "                                'Resting watching' : 'resting',\n",
    "                                'Obstacle' : 'unknown',\n",
    "                                'Watching' : 'unknown',\n",
    "                                'Scratching head' : 'scratching',\n",
    "                                'Sand' : 'unknown',\n",
    "                                'Flipper beat' : 'unknown',\n",
    "                                'Interaction' : 'unknown',\n",
    "                                'Swimming fast descent' : 'swimming',\n",
    "                                'Catching' : 'feeding',\n",
    "                                'Landing' : 'unknown',\n",
    "                                'Resting active' : 'resting',\n",
    "                                'New video' : 'unknown',\n",
    "                                'Swimming fast ascent' : 'swimming',\n",
    "                                'Escape' : 'unknown',\n",
    "                                'Scratching camera' : 'scratching',\n",
    "                                'Catching jellyfish' : 'feeding', \n",
    "                                'Swimming in place' : 'swimming',\n",
    "                                'Swimming fast horizontally' : 'swimming',\n",
    "                                'Pursuit' : 'unknown',\n",
    "                                'Grabbing the wall' : 'feeding', \n",
    "                                'Stepping back' : 'swimming',\n",
    "                                'Time mark' : 'unknown',\n",
    "                                'Regurgitating' : 'unknown',\n",
    "                                'Chewing jellyfish' : 'feeding',\n",
    "                                'Hunting jellyfish' : 'unknown'\n",
    "                               }"
   ]
  },
  {
   "cell_type": "code",
   "execution_count": 13,
   "id": "f438d48f-0596-4a58-8669-358c9a4cec2d",
   "metadata": {},
   "outputs": [],
   "source": [
    "## clip_data column names\n",
    "\n",
    "clip_column_names = ['AccX', 'AccY', 'AccZ', 'StaticAccX', 'StaticAccY', 'StaticAccZ', 'GyrX', 'GyrY', 'GyrZ', 'Depth', 'individual_id', 'label']\n",
    "dataset_metadata['clip_column_names'] = clip_column_names"
   ]
  },
  {
   "cell_type": "code",
   "execution_count": 14,
   "id": "a560ecfd-2ff8-4aff-a58c-76bb31200b86",
   "metadata": {},
   "outputs": [],
   "source": [
    "## Save off dataset level metadata\n",
    "\n",
    "dataset_metadata_fp = os.path.join(formatted_data_dir, 'dataset_metadata.yaml')\n",
    "\n",
    "with open(dataset_metadata_fp, 'w') as file:\n",
    "    yaml.dump(dataset_metadata, file)"
   ]
  },
  {
   "cell_type": "code",
   "execution_count": 15,
   "id": "9181f651-b141-4e91-bfd4-a4a25f5a10c9",
   "metadata": {},
   "outputs": [
    {
     "name": "stdout",
     "output_type": "stream",
     "text": [
      "total duration is 277597.150000 seconds, i.e. 77.110319 hours\n"
     ]
    }
   ],
   "source": [
    "# How much time is represented?\n",
    "\n",
    "length = 0\n",
    "for clip_id in clip_ids:\n",
    "    # load features\n",
    "    features_fp = os.path.join(raw_data_dir, clip_id + '.h5')\n",
    "    features_hf = h5py.File(features_fp, 'r')\n",
    "    features = np.array(features_hf.get('data'))\n",
    "    length += np.shape(features)[0]\n",
    "total_dur_sec = length / sr\n",
    "total_dur_hours = total_dur_sec / 3600\n",
    "print(\"total duration is %f seconds, i.e. %f hours\" % (total_dur_sec, total_dur_hours))"
   ]
  },
  {
   "cell_type": "markdown",
   "id": "f964b042-2a2b-4690-bdd1-1685991ca77f",
   "metadata": {},
   "source": [
    "## Format Clip Data"
   ]
  },
  {
   "cell_type": "code",
   "execution_count": 16,
   "id": "e4ae21e9-df06-469e-8ee8-afb811f6b909",
   "metadata": {},
   "outputs": [],
   "source": [
    "# use butterworth filter to extract low and high frequency components\n",
    "def extract_static(series, low_cutoff_freq):\n",
    "    # extract static component\n",
    "    sos = signal.butter(10, low_cutoff_freq, 'low', fs=sr, output='sos')\n",
    "    low_passed_series = signal.sosfilt(sos, series)\n",
    "    remaining_series = series - low_passed_series\n",
    "    return low_passed_series, remaining_series"
   ]
  },
  {
   "cell_type": "code",
   "execution_count": 17,
   "id": "226d618a-e1ac-4b91-993b-2c1b50e1f7a0",
   "metadata": {},
   "outputs": [],
   "source": [
    "# For each clip, create and save the data in the correct format\n",
    "\n",
    "for clip_id in clip_ids:\n",
    "    # load features\n",
    "    features_fp = os.path.join(raw_data_dir, clip_id + '.h5')\n",
    "    features_hf = h5py.File(features_fp, 'r')\n",
    "    features = np.array(features_hf.get('data'))\n",
    "    static_components = np.zeros((np.shape(features)[0], 3))\n",
    "    clip_dur_samples = np.shape(features)[0]\n",
    "    \n",
    "    # correct for gravity\n",
    "    for i in range(3): #first 3 channels are acceleration\n",
    "        to_correct = features[:, i]\n",
    "        static, corrected = extract_static(to_correct, 0.3)\n",
    "        features[:, i] = corrected\n",
    "        static_components[:, i] = static\n",
    "        \n",
    "    # should we correct for sensor placement?\n",
    "    # for now, no. they do this correction in the article, but it seems very sensitive to hand-chosen reference\n",
    "    # and similar articles do not correct for sensor placement        \n",
    "    \n",
    "    # load annotations\n",
    "    annotations_fp = os.path.join(raw_data_dir, 'Behaviors_' + clip_id + '.csv')\n",
    "    annotations_df = pd.read_csv(annotations_fp, delimiter = ';')\n",
    "    annotations_df = annotations_df[['Behavior', 'Start (s)', 'Stop (s)']]\n",
    "    \n",
    "    # reformat annotations\n",
    "    per_frame_annotations = np.zeros([clip_dur_samples, 1]) # populate with 0's, aka \"unkown\"\n",
    "    for i, row in annotations_df.iterrows():\n",
    "        beh_label = observed_labels_to_beh_label[row['Behavior']]\n",
    "        int_label = beh_str_to_int[beh_label]\n",
    "        start_sec = row['Start (s)']\n",
    "        end_sec = row['Stop (s)']\n",
    "        start_sample = int(start_sec * sr)\n",
    "        end_sample = int(end_sec * sr)\n",
    "        per_frame_annotations[start_sample: end_sample, :] = int_label\n",
    "        \n",
    "    # insert individual id\n",
    "    individual_id = clip_id_to_individual_id[clip_id]\n",
    "    per_frame_individual_id = np.full_like(per_frame_annotations, individual_id)\n",
    "    \n",
    "    depth = features[:, -1]\n",
    "    # depth = np.gradient(depth)\n",
    "    depth = np.expand_dims(depth, axis = 1)\n",
    "    \n",
    "    clip_data = np.concatenate([features[:, :3], static_components, features[:, 3:6], depth, per_frame_individual_id, per_frame_annotations], axis = 1)\n",
    "    \n",
    "    clip_data_fp = os.path.join(clip_data_dir, clip_id + '.csv')\n",
    "    #\n",
    "    #np.save(clip_data_fp, clip_data)\n",
    "    np.savetxt(clip_data_fp, clip_data, delimiter=\",\")\n",
    "    "
   ]
  },
  {
   "cell_type": "markdown",
   "id": "c9844300-e520-49a9-b975-210caa20a21f",
   "metadata": {},
   "source": [
    "## Check it all looks ok"
   ]
  },
  {
   "cell_type": "code",
   "execution_count": 18,
   "id": "717812e0-af4e-4bd0-96db-5ce83ece61c3",
   "metadata": {},
   "outputs": [],
   "source": [
    "clip_id = clip_ids[4]\n",
    "clip_data_fp = os.path.join(clip_data_dir, clip_id + '.csv')\n",
    "data = np.genfromtxt(clip_data_fp, delimiter = ',')"
   ]
  },
  {
   "cell_type": "code",
   "execution_count": 19,
   "id": "b1d243b7-ec2e-4bc5-8239-400cc7241953",
   "metadata": {},
   "outputs": [
    {
     "data": {
      "image/png": "[encoded data removed]",
      "text/plain": [
       "<Figure size 432x288 with 1 Axes>"
      ]
     },
     "metadata": {
      "needs_background": "light"
     },
     "output_type": "display_data"
    }
   ],
   "source": [
    "for i in range(np.shape(data)[1]):\n",
    "    plt.plot(data[1000:1100, i])"
   ]
  },
  {
   "cell_type": "code",
   "execution_count": 20,
   "id": "ff4e9c59-9f68-4ee9-9cfd-0d1ca21b5900",
   "metadata": {},
   "outputs": [
    {
     "data": {
      "text/plain": [
       "[<matplotlib.lines.Line2D at 0x7fe1e9fac4d0>]"
      ]
     },
     "execution_count": 20,
     "metadata": {},
     "output_type": "execute_result"
    },
    {
     "data": {
      "image/png": "[encoded data removed]",
      "text/plain": [
       "<Figure size 432x288 with 1 Axes>"
      ]
     },
     "metadata": {
      "needs_background": "light"
     },
     "output_type": "display_data"
    }
   ],
   "source": [
    "plt.plot(data[:, 9])"
   ]
  },
  {
   "cell_type": "markdown",
   "id": "fa1685a0-006b-4157-9ac1-144dd501be3c",
   "metadata": {},
   "source": [
    "## Plot Dataset Summary"
   ]
  },
  {
   "cell_type": "code",
   "execution_count": 21,
   "id": "98ce221d-258c-4c74-96d3-82d855e4388c",
   "metadata": {},
   "outputs": [],
   "source": [
    "# Count class representation\n",
    "\n",
    "beh_names = dataset_metadata['label_names']\n",
    "train_label_count = {name : 0 for name in beh_names}\n",
    "val_label_count = {name : 0 for name in beh_names}\n",
    "dev_label_count = {name : 0 for name in beh_names}\n",
    "test_label_count = {name : 0 for name in beh_names}\n",
    "\n",
    "for clip_id in clip_ids:\n",
    "    clip_data_fp = os.path.join(clip_data_dir, clip_id + '.csv')\n",
    "    data = pd.read_csv(clip_data_fp, delimiter = ',', header = None)\n",
    "    counts = data[data.keys()[-1]].astype(int).value_counts()\n",
    "    for key in counts.keys():\n",
    "        name = beh_names[key]\n",
    "        if clip_id in dataset_metadata['train_clip_ids']:\n",
    "            train_label_count[name] += counts[key]\n",
    "            dev_label_count[name] += counts[key]\n",
    "        elif clip_id in dataset_metadata['val_clip_ids']:\n",
    "            val_label_count[name] += counts[key]\n",
    "            dev_label_count[name] += counts[key]\n",
    "        elif clip_id in dataset_metadata['test_clip_ids']:\n",
    "            test_label_count[name] += counts[key]\n",
    "\n",
    "train_label_perc = {name : 0 for name in beh_names[1:]}\n",
    "val_label_perc = {name : 0 for name in beh_names[1:]}\n",
    "dev_label_perc = {name : 0 for name in beh_names[1:]}\n",
    "test_label_perc = {name : 0 for name in beh_names[1:]}\n",
    "\n",
    "for name in beh_names[1:]:\n",
    "    train_label_perc[name] = float(train_label_count[name] / sum([train_label_count[j] for j in beh_names[1:]]))\n",
    "    val_label_perc[name] = float(val_label_count[name] / sum([val_label_count[j] for j in beh_names[1:]]))\n",
    "    dev_label_perc[name] = float(dev_label_count[name] / sum([dev_label_count[j] for j in beh_names[1:]]))\n",
    "    test_label_perc[name] = float(test_label_count[name] / sum([test_label_count[j] for j in beh_names[1:]]))"
   ]
  },
  {
   "cell_type": "code",
   "execution_count": 22,
   "id": "9c852a5d-d31b-4e75-95e4-005bc7ab9b8c",
   "metadata": {},
   "outputs": [
    {
     "data": {
      "image/png": "[encoded data removed]",
      "text/plain": [
       "<Figure size 640x480 with 1 Axes>"
      ]
     },
     "metadata": {
      "needs_background": "light"
     },
     "output_type": "display_data"
    }
   ],
   "source": [
    "# Plot class representation\n",
    "\n",
    "keys = np.arange(len(beh_names))[1:]\n",
    "offset = 0.1\n",
    "width = 0.2\n",
    "plt.figure(figsize=(8, 6), dpi=80)\n",
    "\n",
    "plt.barh(keys - offset, [dev_label_perc[beh_names[key]] for key in keys], height=width, align='center', label = 'train') #We call dev set 'train' in the paper\n",
    "#plt.barh(keys, [val_label_perc[beh_names[key]] for key in keys], height=width, align='center', label = 'val')\n",
    "plt.barh(keys + offset, [test_label_perc[beh_names[key]] for key in keys], height=width, align='center', label = 'test')\n",
    "plt.title(\"Class representation across data splits\")\n",
    "plt.yticks(keys, beh_names[1:], fontsize = 7, rotation = 60)\n",
    "plt.xlabel('Percent of known labels')\n",
    "plt.legend()\n",
    "target_fp = os.path.join(formatted_data_dir, 'class_rep.png')\n",
    "\n",
    "plt.savefig(target_fp)\n",
    "plt.show()\n",
    "\n",
    "numerical_target_fp = os.path.join(formatted_data_dir, 'class_rep.yaml')\n",
    "class_rep_dict = {'train_label_perc' : train_label_perc,\n",
    "                  'val_label_perc' : val_label_perc,\n",
    "                  'dev_label_perc' : dev_label_perc,\n",
    "                  'test_label_perc' : test_label_perc}\n",
    "with open(numerical_target_fp, 'w') as file:\n",
    "    yaml.dump(class_rep_dict, file)"
   ]
  },
  {
   "cell_type": "code",
   "execution_count": 23,
   "id": "7bba46c8-f27f-4ec1-8d13-94c46e35cca2",
   "metadata": {},
   "outputs": [
    {
     "data": {
      "image/png": "[encoded data removed]",
      "text/plain": [
       "<Figure size 648x144 with 3 Axes>"
      ]
     },
     "metadata": {},
     "output_type": "display_data"
    }
   ],
   "source": [
    "# Pie chart, of known vs unknown samples \n",
    "\n",
    "labels = 'Known', 'Unknown'\n",
    "train_sizes = [sum([train_label_count[j] for j in beh_names[1:]]), train_label_count['unknown']]\n",
    "val_sizes = [sum([val_label_count[j] for j in beh_names[1:]]), val_label_count['unknown']]\n",
    "test_sizes = [sum([test_label_count[j] for j in beh_names[1:]]), test_label_count['unknown']]\n",
    "\n",
    "fig, ax = plt.subplots(1,3, figsize = (9,2))\n",
    "plt.title(\"blah\")\n",
    "\n",
    "ax[0].pie(train_sizes, labels=labels, autopct='%1.1f%%', startangle=90)\n",
    "ax[0].axis('equal')  # Equal aspect ratio ensures that pie is drawn as a circle.\n",
    "ax[0].set_title('Train')\n",
    "\n",
    "ax[1].pie(val_sizes, labels=labels, autopct='%1.1f%%', startangle=90)\n",
    "ax[1].axis('equal')  # Equal aspect ratio ensures that pie is drawn as a circle.\n",
    "ax[1].set_title('Val')\n",
    "\n",
    "ax[2].pie(test_sizes, labels=labels, autopct='%1.1f%%', startangle=90)\n",
    "ax[2].axis('equal')  # Equal aspect ratio ensures that pie is drawn as a circle.\n",
    "ax[2].set_title('Test')\n",
    "\n",
    "target_fp = os.path.join(formatted_data_dir, 'perc_known.png')\n",
    "\n",
    "plt.savefig(target_fp)\n",
    "\n",
    "plt.show()\n"
   ]
  },
  {
   "cell_type": "code",
   "execution_count": null,
   "id": "da5f6aab-d2e3-476b-aa95-642f8bcd072c",
   "metadata": {},
   "outputs": [],
   "source": []
  }
 ],
 "metadata": {
  "environment": {
   "kernel": "python3",
   "name": "pytorch-gpu.1-9.m82",
   "type": "gcloud",
   "uri": "gcr.io/deeplearning-platform-release/pytorch-gpu.1-9:m82"
  },
  "kernelspec": {
   "display_name": "Python 3",
   "language": "python",
   "name": "python3"
  },
  "language_info": {
   "codemirror_mode": {
    "name": "ipython",
    "version": 3
   },
   "file_extension": ".py",
   "mimetype": "text/x-python",
   "name": "python",
   "nbconvert_exporter": "python",
   "pygments_lexer": "ipython3",
   "version": "3.7.10"
  }
 },
 "nbformat": 4,
 "nbformat_minor": 5
}
