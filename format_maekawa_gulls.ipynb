{
 "cells": [
  {
   "cell_type": "markdown",
   "id": "86ce8245-b923-42ba-b1cf-b0a8bdb804d4",
   "metadata": {},
   "source": [
    "# Notebook to format data from \"Machine learning enables improved runtime and precision for bio-loggers on seabirds\", Korpela et al (2020).\n",
    "\n",
    "Data was shared by Takuya Maekawa over email.\n",
    "\n",
    "[Paper](https://www.nature.com/articles/s42003-020-01356-8)"
   ]
  },
  {
   "cell_type": "markdown",
   "id": "77461baa-2d89-4ddf-b8b9-283f19b3313e",
   "metadata": {},
   "source": [
    "## Setup"
   ]
  },
  {
   "cell_type": "code",
   "execution_count": 1,
   "id": "a9cd11e9-258b-4304-a21d-f826f276b73b",
   "metadata": {},
   "outputs": [],
   "source": [
    "# Outputs:\n",
    "# formatted dataset directory\n",
    "# dataset_metadata (yaml), includes\n",
    "## sample_rate\n",
    "## dataset_label_names (list)\n",
    "## dataset_feature_names (list)\n",
    "## clip_ids (list)\n",
    "# clip_data (directory), includes\n",
    "## data_files (multiple files)"
   ]
  },
  {
   "cell_type": "code",
   "execution_count": 2,
   "id": "7470e077-e978-495a-b349-27cc5a6b2a40",
   "metadata": {},
   "outputs": [],
   "source": [
    "%load_ext autoreload\n",
    "%autoreload 2"
   ]
  },
  {
   "cell_type": "code",
   "execution_count": 3,
   "id": "ec388900-f0ab-4e41-a56b-9597e4f4911f",
   "metadata": {},
   "outputs": [],
   "source": [
    "import os\n",
    "import numpy as np\n",
    "import pandas as pd\n",
    "import h5py\n",
    "from matplotlib import pyplot as plt\n",
    "import glob\n",
    "import yaml\n",
    "import scipy.signal as signal\n",
    "import datetime\n",
    "import tqdm"
   ]
  },
  {
   "cell_type": "code",
   "execution_count": 4,
   "id": "6bc728a2-a91e-4da2-abea-4b57ceb4e818",
   "metadata": {},
   "outputs": [],
   "source": [
    "# Specify data filepaths\n",
    "\n",
    "raw_data_dir = '/home/jupyter/behavior_data_local/data/raw/maekawa_gulls'\n",
    "formatted_data_dir = '/home/jupyter/behavior_data_local/data/formatted/maekawa_gulls'\n",
    "\n",
    "if not os.path.exists(formatted_data_dir):\n",
    "    os.makedirs(formatted_data_dir)\n",
    "    \n",
    "data_fp = os.path.join(raw_data_dir, 'raw_data.csv')\n",
    "annotations_fp = os.path.join(raw_data_dir, 'labels.csv')\n",
    "\n",
    "clip_data_dir = os.path.join(formatted_data_dir, 'clip_data')\n",
    "if not os.path.exists(clip_data_dir):\n",
    "    os.makedirs(clip_data_dir)"
   ]
  },
  {
   "cell_type": "code",
   "execution_count": 5,
   "id": "98f244e7-ac03-48e2-868a-1b7f7dd15fea",
   "metadata": {},
   "outputs": [],
   "source": [
    "# Dataset metadata\n",
    "dataset_metadata = {}\n",
    "sr = 25\n",
    "dataset_metadata['sr'] = sr ## from dataset documentation\n",
    "dataset_metadata['dataset_name'] = 'maekawa_gulls'"
   ]
  },
  {
   "cell_type": "code",
   "execution_count": 6,
   "id": "3d7268ea-93a0-4179-b9ae-0b79e586cb6b",
   "metadata": {},
   "outputs": [],
   "source": [
    "# Load data and annotations\n",
    "\n",
    "data = pd.read_csv(data_fp)\n",
    "annotations = pd.read_csv(annotations_fp)\n",
    "\n",
    "data['datetime'] = pd.to_datetime(data['timestamp'], infer_datetime_format=True)\n",
    "annotations['stt_datetime'] = pd.to_datetime(annotations['stt_timestamp'], infer_datetime_format=True)\n",
    "annotations['stp_datetime'] = pd.to_datetime(annotations['stp_timestamp'], infer_datetime_format=True)"
   ]
  },
  {
   "cell_type": "code",
   "execution_count": 7,
   "id": "51967ee2-d990-4783-8264-c45760616ce9",
   "metadata": {},
   "outputs": [],
   "source": [
    "# Specify individuals\n",
    "\n",
    "individuals = sorted([int(x) for x in data['logger_id'].unique()])\n",
    "data['individual_id'] = data['logger_id']\n",
    "\n",
    "animal_tag_to_ind_id = {}\n",
    "for tag in data['animal_tag'].unique():\n",
    "    data_sub = data[data['animal_tag'] == tag]\n",
    "    assert len(data_sub['individual_id'].unique()) == 1\n",
    "    ind_id = data_sub['individual_id'].unique()[0]\n",
    "    animal_tag_to_ind_id[tag] = ind_id\n",
    "    \n",
    "annotations['individual_id'] = annotations['animal_tag'].map(lambda x : animal_tag_to_ind_id[x])"
   ]
  },
  {
   "cell_type": "code",
   "execution_count": 8,
   "id": "7c986ade-64f6-4162-88fc-0f0e9b771683",
   "metadata": {},
   "outputs": [],
   "source": [
    "# Specify behavior labels\n",
    "\n",
    "beh_names = ['unknown', \n",
    "             'flying',\n",
    "             'foraging',\n",
    "             'stationary']\n",
    "\n",
    "dataset_metadata['label_names'] = beh_names\n",
    "\n",
    "beh_str_to_int = {name : i for i, name in enumerate(beh_names)}\n",
    "beh_int_to_str = {i : name for i, name in enumerate(beh_names)}"
   ]
  },
  {
   "cell_type": "code",
   "execution_count": 9,
   "id": "4aacdeb1-03b8-4b75-9db0-ba383f4a08df",
   "metadata": {},
   "outputs": [
    {
     "name": "stderr",
     "output_type": "stream",
     "text": [
      "100%|██████████| 11/11 [00:21<00:00,  1.96s/it]\n"
     ]
    }
   ],
   "source": [
    "# Populate data df with annotations\n",
    "\n",
    "data['beh_label'] = 0\n",
    "\n",
    "for individual in tqdm.tqdm(individuals):\n",
    "    annotations_sub = annotations[annotations['individual_id'] == individual]\n",
    "    for i, row in annotations_sub.iterrows():\n",
    "        start = row['stt_datetime']\n",
    "        end = row['stp_datetime']\n",
    "        label = beh_str_to_int[row['activity']]\n",
    "        data.loc[(data['individual_id'] == individual)&(data['datetime'] >= start) & (data['datetime'] <= end), 'beh_label'] = label"
   ]
  },
  {
   "cell_type": "code",
   "execution_count": 10,
   "id": "8153d4ef-068c-4f3f-9727-d0317b19dbae",
   "metadata": {},
   "outputs": [
    {
     "name": "stderr",
     "output_type": "stream",
     "text": [
      "100%|██████████| 174/174 [00:12<00:00, 14.38it/s]\n"
     ]
    },
    {
     "name": "stdout",
     "output_type": "stream",
     "text": [
      "Each clip is associated with a unique individual\n"
     ]
    }
   ],
   "source": [
    "# Split into clips where there are time gaps\n",
    "\n",
    "data['diff'] = data['datetime'].diff().dt.total_seconds()\n",
    "data['diff'] = (data['diff'] != 0.04)\n",
    "current_clip_id = -1\n",
    "clip_id_to_individual_id = {}\n",
    "data['clip_id'] = 0\n",
    "for index in tqdm.tqdm(data['diff'][data['diff']].index):\n",
    "    current_clip_id += data.loc[index, 'diff']\n",
    "    clip_id_to_individual_id['clip_' + str(current_clip_id)] = int(data.loc[index, 'individual_id'])\n",
    "    data.loc[index:, 'clip_id'] = current_clip_id\n",
    "    \n",
    "## check that each clip is associated with a unique individual\n",
    "\n",
    "for i in data['clip_id'].unique():\n",
    "    assert len(data[data['clip_id'] == i]['individual_id'].unique()) == 1\n",
    "    \n",
    "print(\"Each clip is associated with a unique individual\")\n",
    "\n",
    "## convention is that clip id's are strings\n",
    "    \n",
    "data['clip_id'] = data['clip_id'].map(lambda x : \"clip_\" + str(x))"
   ]
  },
  {
   "cell_type": "code",
   "execution_count": 11,
   "id": "7e6f6ec3-9158-4f65-96b2-ab0ed44e0c12",
   "metadata": {},
   "outputs": [],
   "source": [
    "# Omit short clips (fewer than 120 seconds)\n",
    "# Recreate list of individuals, just in case any were dropped in this process\n",
    "\n",
    "long_clips = list(data['clip_id'].value_counts()[data['clip_id'].value_counts() >= 120 * sr].keys())\n",
    "data = data[data['clip_id'].isin(long_clips)].copy()\n",
    "\n",
    "individuals = sorted([int(x) for x in data['individual_id'].unique()])\n",
    "clip_ids = sorted([x for x in data['clip_id'].unique()])\n",
    "\n",
    "tocheck = list(clip_id_to_individual_id)\n",
    "for k in tocheck:\n",
    "    if k not in clip_ids:\n",
    "        clip_id_to_individual_id.pop(k)"
   ]
  },
  {
   "cell_type": "code",
   "execution_count": 12,
   "id": "bbba4963-16ae-4884-bdc5-50c6bb2bf6d0",
   "metadata": {},
   "outputs": [],
   "source": [
    "## Save clip ids\n",
    "\n",
    "dataset_metadata['clip_ids'] = clip_ids\n",
    "dataset_metadata['individual_ids'] = individuals\n",
    "dataset_metadata['clip_id_to_individual_id'] = clip_id_to_individual_id"
   ]
  },
  {
   "cell_type": "code",
   "execution_count": 13,
   "id": "8340f2e1-8fc6-4fbd-863d-acfb868b492f",
   "metadata": {},
   "outputs": [
    {
     "data": {
      "text/plain": [
       "6     1688775\n",
       "11    1671525\n",
       "8     1481625\n",
       "2      778525\n",
       "3      732400\n",
       "1      718300\n",
       "4      668850\n",
       "7      328200\n",
       "9      273950\n",
       "10     137425\n",
       "5       60750\n",
       "Name: individual_id, dtype: int64"
      ]
     },
     "execution_count": 13,
     "metadata": {},
     "output_type": "execute_result"
    }
   ],
   "source": [
    "data['individual_id'].value_counts()"
   ]
  },
  {
   "cell_type": "code",
   "execution_count": 14,
   "id": "b719e122-9b2d-4fb1-a519-36f58a545c0c",
   "metadata": {},
   "outputs": [
    {
     "name": "stdout",
     "output_type": "stream",
     "text": [
      "[1, 2, 3, 5, 6, 8]\n",
      "[7, 11]\n",
      "[1, 2, 3, 5, 6, 7, 8, 11]\n",
      "[4, 9, 10]\n"
     ]
    }
   ],
   "source": [
    "# Set up data splits by individual\n",
    "\n",
    "test_proportion = .34\n",
    "val_proportion = .2\n",
    "num_individuals = len(individuals)\n",
    "\n",
    "test_num_individuals = int(test_proportion * num_individuals)\n",
    "val_num_individuals = int(val_proportion * num_individuals)\n",
    "\n",
    "rng = np.random.default_rng(613) #611\n",
    "test_individuals = list(rng.choice(individuals, size = test_num_individuals, replace = False))\n",
    "test_individuals.sort()\n",
    "\n",
    "dev_individuals = individuals.copy()\n",
    "for i in test_individuals:\n",
    "    dev_individuals.remove(i)\n",
    "    \n",
    "val_individuals = list(rng.choice(dev_individuals, size = val_num_individuals, replace = False))\n",
    "val_individuals.sort()\n",
    "    \n",
    "train_individuals = dev_individuals.copy()\n",
    "for i in val_individuals:\n",
    "    train_individuals.remove(i)\n",
    "    \n",
    "print(train_individuals)\n",
    "print(val_individuals)\n",
    "print(dev_individuals)\n",
    "print(test_individuals)"
   ]
  },
  {
   "cell_type": "code",
   "execution_count": 15,
   "id": "491913bf-e714-44a7-946e-5a20d19cad83",
   "metadata": {},
   "outputs": [],
   "source": [
    "# Set up clip ids by split\n",
    "\n",
    "test_clip_ids = []\n",
    "train_clip_ids = []\n",
    "val_clip_ids = []\n",
    "dev_clip_ids = []\n",
    "for clip_id in clip_ids:\n",
    "    individual = clip_id_to_individual_id[clip_id]\n",
    "    if individual in train_individuals:\n",
    "        train_clip_ids.append(clip_id)\n",
    "        dev_clip_ids.append(clip_id)\n",
    "    elif individual in val_individuals:\n",
    "        val_clip_ids.append(clip_id)\n",
    "        dev_clip_ids.append(clip_id)\n",
    "    elif individual in test_individuals:\n",
    "        test_clip_ids.append(clip_id)\n",
    "    \n",
    "train_clip_ids.sort()\n",
    "val_clip_ids.sort()\n",
    "dev_clip_ids.sort()\n",
    "test_clip_ids.sort()\n",
    "    \n",
    "dataset_metadata['clip_ids'] = clip_ids\n",
    "dataset_metadata['train_clip_ids'] = train_clip_ids\n",
    "dataset_metadata['test_clip_ids'] = test_clip_ids\n",
    "dataset_metadata['val_clip_ids'] = val_clip_ids\n",
    "dataset_metadata['dev_clip_ids'] = dev_clip_ids"
   ]
  },
  {
   "cell_type": "code",
   "execution_count": 16,
   "id": "1c94f194-2d3d-48e1-ae1e-3b5cc7428ff4",
   "metadata": {},
   "outputs": [
    {
     "name": "stdout",
     "output_type": "stream",
     "text": [
      "There are 11 individuals\n",
      "total duration is 341613.000000 seconds, i.e. 94.892500 hours\n"
     ]
    }
   ],
   "source": [
    "print(\"There are %d individuals\" % len(individuals))\n",
    "\n",
    "total_dur_sec = len(data) / sr\n",
    "total_dur_hours = total_dur_sec / 3600\n",
    "print(\"total duration is %f seconds, i.e. %f hours\" % (total_dur_sec, total_dur_hours))"
   ]
  },
  {
   "cell_type": "markdown",
   "id": "3fca914b-f4d0-4265-b18c-71cd7aca2dc5",
   "metadata": {},
   "source": [
    "## Create dataset-level metadata"
   ]
  },
  {
   "cell_type": "code",
   "execution_count": 17,
   "id": "f438d48f-0596-4a58-8669-358c9a4cec2d",
   "metadata": {},
   "outputs": [],
   "source": [
    "## clip_data column names\n",
    "\n",
    "clip_column_names = ['AccX', 'AccY', 'AccZ', 'StaticAccX', 'StaticAccY', 'StaticAccZ', 'individual_id', 'label']\n",
    "dataset_metadata['clip_column_names'] = clip_column_names"
   ]
  },
  {
   "cell_type": "code",
   "execution_count": 18,
   "id": "a560ecfd-2ff8-4aff-a58c-76bb31200b86",
   "metadata": {},
   "outputs": [],
   "source": [
    "## Save off dataset level metadata\n",
    "\n",
    "dataset_metadata_fp = os.path.join(formatted_data_dir, 'dataset_metadata.yaml')\n",
    "\n",
    "with open(dataset_metadata_fp, 'w') as file:\n",
    "    yaml.dump(dataset_metadata, file)"
   ]
  },
  {
   "cell_type": "markdown",
   "id": "f964b042-2a2b-4690-bdd1-1685991ca77f",
   "metadata": {},
   "source": [
    "## Format Clip Data"
   ]
  },
  {
   "cell_type": "code",
   "execution_count": 19,
   "id": "e4ae21e9-df06-469e-8ee8-afb811f6b909",
   "metadata": {},
   "outputs": [],
   "source": [
    "# We remove gravitational bias from each accel channel by applying a \n",
    "# butterworth filter with cutoff frequency of 0.3 Hz, then subtract the result\n",
    "\n",
    "def smooth(series, smoothing_cutoff_freq):\n",
    "    # smooth\n",
    "    sos = signal.butter(10, smoothing_cutoff_freq, 'low', fs = sr, output = 'sos')\n",
    "    series = signal.sosfilt(sos, series)\n",
    "    return series\n",
    "\n",
    "def extract_static(series, low_cutoff_freq):\n",
    "    # extract static component\n",
    "    sos = signal.butter(10, low_cutoff_freq, 'low', fs=sr, output='sos')\n",
    "    low_passed_series = signal.sosfilt(sos, series)\n",
    "    remaining_series = series - low_passed_series\n",
    "    return low_passed_series, remaining_series"
   ]
  },
  {
   "cell_type": "code",
   "execution_count": 20,
   "id": "8364298c-7752-460e-aaa1-359b415a2acc",
   "metadata": {},
   "outputs": [
    {
     "name": "stderr",
     "output_type": "stream",
     "text": [
      "100%|██████████| 24/24 [01:33<00:00,  3.88s/it]\n"
     ]
    }
   ],
   "source": [
    "# Save off individual clips in csv files\n",
    "\n",
    "for clip_id in tqdm.tqdm(clip_ids):\n",
    "    data_sub = data[data['clip_id'] == clip_id].copy()\n",
    "\n",
    "    acc_data = np.array(data_sub[['acc_x', 'acc_y', 'acc_z']]) \n",
    "    static_acc_data = acc_data.copy()\n",
    "    clip_dur_samples = np.shape(acc_data)[0]\n",
    "    \n",
    "    # correct for gravity\n",
    "    for i in range(3): \n",
    "        to_correct = np.array(acc_data[:, i])\n",
    "        static, corrected = extract_static(to_correct, 0.3)\n",
    "        acc_data[:, i] = corrected\n",
    "        static_acc_data[:, i] = static\n",
    "\n",
    "    per_frame_annotations = np.array(data_sub[['individual_id', 'beh_label']])\n",
    "\n",
    "    clip_data = np.concatenate([acc_data, static_acc_data, per_frame_annotations], axis = 1)\n",
    "\n",
    "    clip_data_fp = os.path.join(clip_data_dir, clip_id + '.csv')\n",
    "    np.savetxt(clip_data_fp, clip_data, delimiter=\",\")"
   ]
  },
  {
   "cell_type": "markdown",
   "id": "c9844300-e520-49a9-b975-210caa20a21f",
   "metadata": {},
   "source": [
    "## Check it all looks ok"
   ]
  },
  {
   "cell_type": "code",
   "execution_count": 21,
   "id": "717812e0-af4e-4bd0-96db-5ce83ece61c3",
   "metadata": {},
   "outputs": [],
   "source": [
    "clip_id = clip_ids[10]\n",
    "clip_data_fp = os.path.join(clip_data_dir, clip_id + '.csv')\n",
    "data = np.genfromtxt(clip_data_fp, delimiter = ',')\n",
    "#data = np.load(clip_data_fp)"
   ]
  },
  {
   "cell_type": "code",
   "execution_count": 22,
   "id": "77164f71-4257-43b1-ae76-49f1438c836e",
   "metadata": {},
   "outputs": [
    {
     "data": {
      "text/plain": [
       "(137850, 8)"
      ]
     },
     "execution_count": 22,
     "metadata": {},
     "output_type": "execute_result"
    }
   ],
   "source": [
    "np.shape(data)"
   ]
  },
  {
   "cell_type": "code",
   "execution_count": 23,
   "id": "b1d243b7-ec2e-4bc5-8239-400cc7241953",
   "metadata": {},
   "outputs": [
    {
     "data": {
      "image/png": "[encoded data removed]",
      "text/plain": [
       "<Figure size 432x288 with 1 Axes>"
      ]
     },
     "metadata": {
      "needs_background": "light"
     },
     "output_type": "display_data"
    }
   ],
   "source": [
    "for i in range(np.shape(data)[1]):\n",
    "    plt.plot(data[:, i])"
   ]
  },
  {
   "cell_type": "code",
   "execution_count": 24,
   "id": "ff4e9c59-9f68-4ee9-9cfd-0d1ca21b5900",
   "metadata": {},
   "outputs": [
    {
     "data": {
      "text/plain": [
       "[<matplotlib.lines.Line2D at 0x7fa701b11f50>]"
      ]
     },
     "execution_count": 24,
     "metadata": {},
     "output_type": "execute_result"
    },
    {
     "data": {
      "image/png": "[encoded data removed]",
      "text/plain": [
       "<Figure size 432x288 with 1 Axes>"
      ]
     },
     "metadata": {
      "needs_background": "light"
     },
     "output_type": "display_data"
    }
   ],
   "source": [
    "plt.plot(data[:,1])"
   ]
  },
  {
   "cell_type": "markdown",
   "id": "ee76f97f-7d96-48fc-a9c2-f3ec377837a6",
   "metadata": {},
   "source": [
    "## Plot Dataset Summary"
   ]
  },
  {
   "cell_type": "code",
   "execution_count": 25,
   "id": "bc4d237a-2684-4db3-9a08-7b81652d9371",
   "metadata": {},
   "outputs": [],
   "source": [
    "# Count class representation\n",
    "\n",
    "beh_names = dataset_metadata['label_names']\n",
    "train_label_count = {name : 0 for name in beh_names}\n",
    "val_label_count = {name : 0 for name in beh_names}\n",
    "dev_label_count = {name : 0 for name in beh_names}\n",
    "test_label_count = {name : 0 for name in beh_names}\n",
    "\n",
    "for clip_id in clip_ids:\n",
    "    clip_data_fp = os.path.join(clip_data_dir, clip_id + '.csv')\n",
    "    data = pd.read_csv(clip_data_fp, delimiter = ',', header = None)\n",
    "    counts = data[data.keys()[-1]].astype(int).value_counts()\n",
    "    for key in counts.keys():\n",
    "        name = beh_names[key]\n",
    "        if clip_id in dataset_metadata['train_clip_ids']:\n",
    "            train_label_count[name] += counts[key]\n",
    "            dev_label_count[name] += counts[key]\n",
    "        elif clip_id in dataset_metadata['val_clip_ids']:\n",
    "            val_label_count[name] += counts[key]\n",
    "            dev_label_count[name] += counts[key]\n",
    "        elif clip_id in dataset_metadata['test_clip_ids']:\n",
    "            test_label_count[name] += counts[key]\n",
    "\n",
    "train_label_perc = {name : 0 for name in beh_names[1:]}\n",
    "val_label_perc = {name : 0 for name in beh_names[1:]}\n",
    "dev_label_perc = {name : 0 for name in beh_names[1:]}\n",
    "test_label_perc = {name : 0 for name in beh_names[1:]}\n",
    "\n",
    "for name in beh_names[1:]:\n",
    "    train_label_perc[name] = float(train_label_count[name] / sum([train_label_count[j] for j in beh_names[1:]]))\n",
    "    val_label_perc[name] = float(val_label_count[name] / sum([val_label_count[j] for j in beh_names[1:]]))\n",
    "    dev_label_perc[name] = float(dev_label_count[name] / sum([dev_label_count[j] for j in beh_names[1:]]))\n",
    "    test_label_perc[name] = float(test_label_count[name] / sum([test_label_count[j] for j in beh_names[1:]]))"
   ]
  },
  {
   "cell_type": "code",
   "execution_count": 26,
   "id": "9c515788-245b-42f2-95ef-c439c9fe121d",
   "metadata": {},
   "outputs": [
    {
     "data": {
      "image/png": "[encoded data removed]",
      "text/plain": [
       "<Figure size 640x480 with 1 Axes>"
      ]
     },
     "metadata": {
      "needs_background": "light"
     },
     "output_type": "display_data"
    }
   ],
   "source": [
    "# Plot class representation\n",
    "\n",
    "keys = np.arange(len(beh_names))[1:]\n",
    "offset = 0.1\n",
    "width = 0.2\n",
    "plt.figure(figsize=(8, 6), dpi=80)\n",
    "\n",
    "plt.barh(keys - offset, [dev_label_perc[beh_names[key]] for key in keys], height=width, align='center', label = 'train') #We call dev set 'train' in the paper\n",
    "#plt.barh(keys, [val_label_perc[beh_names[key]] for key in keys], height=width, align='center', label = 'val')\n",
    "plt.barh(keys + offset, [test_label_perc[beh_names[key]] for key in keys], height=width, align='center', label = 'test')\n",
    "plt.title(\"Class representation across data splits\")\n",
    "plt.yticks(keys, beh_names[1:], fontsize = 7, rotation = 60)\n",
    "plt.xlabel('Percent of known labels')\n",
    "plt.legend()\n",
    "target_fp = os.path.join(formatted_data_dir, 'class_rep.png')\n",
    "\n",
    "plt.savefig(target_fp)\n",
    "plt.show()\n",
    "\n",
    "numerical_target_fp = os.path.join(formatted_data_dir, 'class_rep.yaml')\n",
    "class_rep_dict = {'train_label_perc' : train_label_perc,\n",
    "                  'val_label_perc' : val_label_perc,\n",
    "                  'dev_label_perc' : dev_label_perc,\n",
    "                  'test_label_perc' : test_label_perc}\n",
    "with open(numerical_target_fp, 'w') as file:\n",
    "    yaml.dump(class_rep_dict, file)"
   ]
  },
  {
   "cell_type": "code",
   "execution_count": 27,
   "id": "2375043d-2ff7-4cfa-a509-4fc6d5fe2c7f",
   "metadata": {},
   "outputs": [
    {
     "data": {
      "image/png": "[encoded data removed]",
      "text/plain": [
       "<Figure size 648x144 with 3 Axes>"
      ]
     },
     "metadata": {},
     "output_type": "display_data"
    }
   ],
   "source": [
    "# Pie chart, of known vs unknown samples \n",
    "\n",
    "labels = 'Known', 'Unknown'\n",
    "train_sizes = [sum([train_label_count[j] for j in beh_names[1:]]), train_label_count['unknown']]\n",
    "val_sizes = [sum([val_label_count[j] for j in beh_names[1:]]), val_label_count['unknown']]\n",
    "test_sizes = [sum([test_label_count[j] for j in beh_names[1:]]), test_label_count['unknown']]\n",
    "\n",
    "fig, ax = plt.subplots(1,3, figsize = (9,2))\n",
    "plt.title(\"blah\")\n",
    "\n",
    "ax[0].pie(train_sizes, labels=labels, autopct='%1.1f%%', startangle=90)\n",
    "ax[0].axis('equal')  # Equal aspect ratio ensures that pie is drawn as a circle.\n",
    "ax[0].set_title('Train')\n",
    "\n",
    "ax[1].pie(val_sizes, labels=labels, autopct='%1.1f%%', startangle=90)\n",
    "ax[1].axis('equal')  # Equal aspect ratio ensures that pie is drawn as a circle.\n",
    "ax[1].set_title('Val')\n",
    "\n",
    "ax[2].pie(test_sizes, labels=labels, autopct='%1.1f%%', startangle=90)\n",
    "ax[2].axis('equal')  # Equal aspect ratio ensures that pie is drawn as a circle.\n",
    "ax[2].set_title('Test')\n",
    "\n",
    "target_fp = os.path.join(formatted_data_dir, 'perc_known.png')\n",
    "\n",
    "plt.savefig(target_fp)\n",
    "\n",
    "plt.show()\n"
   ]
  },
  {
   "cell_type": "markdown",
   "id": "76298d07-82aa-4d8f-88d8-f3d7bd4f56e5",
   "metadata": {},
   "source": [
    "## Temporal Statistics"
   ]
  },
  {
   "cell_type": "code",
   "execution_count": 5,
   "id": "f0b70c4f-62d6-4354-96be-995dda035c12",
   "metadata": {},
   "outputs": [
    {
     "name": "stderr",
     "output_type": "stream",
     "text": [
      "100%|██████████| 24/24 [00:13<00:00,  1.82it/s]"
     ]
    },
    {
     "name": "stdout",
     "output_type": "stream",
     "text": [
      "Mean overall label duration is 2971.092 seconds\n",
      "Re-saving metadata to /home/jupyter/behavior_data_local/data/formatted/maekawa_gulls/dataset_metadata.yaml\n"
     ]
    },
    {
     "name": "stderr",
     "output_type": "stream",
     "text": [
      "\n"
     ]
    }
   ],
   "source": [
    "####################################\n",
    "infill_max_dur_sec = 0 # If annotations are nnnnn0000000nnnnn, where 0=unknown, do we fill in 0's with n's?\n",
    "####################################\n",
    "\n",
    "# This cell runs almost as a stand alone, but requires the first few cells of this notebook to be run first\n",
    "\n",
    "import tqdm\n",
    "from pathlib import Path\n",
    "\n",
    "dataset_metadata_fp = os.path.join(formatted_data_dir, 'dataset_metadata.yaml')\n",
    "\n",
    "with open(dataset_metadata_fp, 'r') as file:\n",
    "    metadata = yaml.safe_load(file)\n",
    "\n",
    "clip_fps = list(Path(clip_data_dir).glob('*.csv'))\n",
    "\n",
    "def create_list_of_durations(x, infill_max_dur_sec, samplerate, unknown_value = 0):\n",
    "    # First pass: create a list of label durations, together with a list of the associated classes\n",
    "    current_value = 0\n",
    "    current_dur = 0\n",
    "    list_of_durs = []\n",
    "    list_of_labels = []\n",
    "    for i in x:\n",
    "        if i == current_value:\n",
    "            current_dur += 1\n",
    "        elif i != current_value:\n",
    "            list_of_durs.append(current_dur / samplerate)\n",
    "            list_of_labels.append(current_value)\n",
    "            current_dur = 1\n",
    "            current_value = i\n",
    "            \n",
    "    list_of_durs.append(current_dur)\n",
    "    list_of_labels.append(current_value)\n",
    "            \n",
    "    # repeatedly merge similar labels if they are seperated by unknowns of short duration\n",
    "    # This is mainly to deal with duty cycling of observations\n",
    "    infill_max_dur_samples = int(infill_max_dur_sec * samplerate)\n",
    "    \n",
    "    if list_of_labels[0] == unknown_value:\n",
    "        del list_of_labels[0]\n",
    "        del list_of_durs[0]\n",
    "        \n",
    "    if len(list_of_labels) > 0:\n",
    "        if list_of_labels[-1] == unknown_value:\n",
    "            del list_of_labels[-1]\n",
    "            del list_of_durs[-1]\n",
    "    \n",
    "    j = 1\n",
    "    while j<len(list_of_labels)-1:\n",
    "        if list_of_labels[j] != unknown_value:\n",
    "            j+= 1\n",
    "        elif list_of_labels[j-1] == list_of_labels[j+1] and list_of_durs[j] < infill_max_dur_samples:\n",
    "            # merge if it's a short interval of unknowns between two of the same label\n",
    "            list_of_durs[j-1] += list_of_durs[j+1]\n",
    "            del list_of_durs[j+1]\n",
    "            del list_of_durs[j]\n",
    "            del list_of_labels[j+1]\n",
    "            del list_of_labels[j]\n",
    "        else:\n",
    "            # otherwise, drop the unknown segment\n",
    "            del list_of_durs[j]\n",
    "            del list_of_labels[j]\n",
    "\n",
    "    return list_of_labels, list_of_durs # list of annotation durations, in samples.\n",
    "                             \n",
    "durs_sec_by_individual = {i : [] for i in metadata['individual_ids']}\n",
    "overall_durs_sec = []\n",
    "    \n",
    "for fp in tqdm.tqdm(clip_fps):\n",
    "    clip_id = fp.stem\n",
    "    individual_id = metadata['clip_id_to_individual_id'][clip_id]\n",
    "    clip_annotations = list(pd.read_csv(fp, header = None).values[:, -1])\n",
    "    l, d = create_list_of_durations(clip_annotations, infill_max_dur_sec, metadata['sr'])\n",
    "    durs_sec_by_individual[individual_id].extend(d)\n",
    "    overall_durs_sec.extend(d)\n",
    "    \n",
    "mean_dur_sec_by_individual = {i : float(np.mean(durs_sec_by_individual[i])) for i in durs_sec_by_individual}\n",
    "mean_overall_dur_sec = float(np.mean(overall_durs_sec))\n",
    "\n",
    "metadata['mean_dur_sec_by_individual'] = mean_dur_sec_by_individual\n",
    "metadata['mean_overall_dur_sec'] = mean_overall_dur_sec\n",
    "\n",
    "print(\"Mean overall label duration is %0.3f seconds\" % mean_overall_dur_sec)\n",
    "\n",
    "print(\"Re-saving metadata to %s\" % str(dataset_metadata_fp))\n",
    "\n",
    "with open(dataset_metadata_fp, 'w') as file:\n",
    "    yaml.dump(metadata, file)"
   ]
  },
  {
   "cell_type": "code",
   "execution_count": 7,
   "id": "6e3245e8-7540-4324-875a-7735fffdf0e0",
   "metadata": {},
   "outputs": [],
   "source": [
    "# Save off summary stats\n",
    "\n",
    "summary_fp = '/home/jupyter/BEBE-datasets/summaries.yaml'\n",
    "summary_dict = {}\n",
    "summary_dict['overall_durs_sec'] = overall_durs_sec\n",
    "\n",
    "if not os.path.exists(summary_fp):\n",
    "    with open(summary_fp, 'w') as file:\n",
    "        yaml.dump({}, file)\n",
    "        \n",
    "with open(summary_fp, 'r') as file:\n",
    "    summaries = yaml.safe_load(file)\n",
    "    \n",
    "summaries['Gulls'] = summary_dict\n",
    "\n",
    "with open(summary_fp, 'w') as file:\n",
    "    yaml.dump(summaries, file)\n"
   ]
  },
  {
   "cell_type": "code",
   "execution_count": null,
   "id": "7c004b88-2059-40af-8b9f-6746e1c607b4",
   "metadata": {},
   "outputs": [],
   "source": []
  }
 ],
 "metadata": {
  "environment": {
   "kernel": "python3",
   "name": "pytorch-gpu.1-9.m82",
   "type": "gcloud",
   "uri": "gcr.io/deeplearning-platform-release/pytorch-gpu.1-9:m82"
  },
  "kernelspec": {
   "display_name": "Python 3",
   "language": "python",
   "name": "python3"
  },
  "language_info": {
   "codemirror_mode": {
    "name": "ipython",
    "version": 3
   },
   "file_extension": ".py",
   "mimetype": "text/x-python",
   "name": "python",
   "nbconvert_exporter": "python",
   "pygments_lexer": "ipython3",
   "version": "3.7.10"
  }
 },
 "nbformat": 4,
 "nbformat_minor": 5
}
