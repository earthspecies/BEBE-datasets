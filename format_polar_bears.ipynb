{
 "cells": [
  {
   "cell_type": "markdown",
   "id": "86ce8245-b923-42ba-b1cf-b0a8bdb804d4",
   "metadata": {},
   "source": [
    "# Notebook to format data from \"Metabolic Rate, Body Composition, Foraging Success, Behavior, and GPS Locations of Female Polar Bears (Ursus maritimus), Beaufort Sea, Spring, 2014-2016 and Resting Energetics of an Adult Female Polar Bear: U.S. Geological Survey data release\", Pagano (2018).\n",
    "\n",
    "Data can be found [here](https://alaska.usgs.gov/products/data.php?dataid=174).\n",
    "\n",
    "See also [this paper](https://www.int-res.com/articles/esr2017/32/n032p019.pdf).\n",
    "\n",
    "Some awesome [video footage](https://www.youtube.com/watch?v=qXQBjZLNYT0)"
   ]
  },
  {
   "cell_type": "markdown",
   "id": "77461baa-2d89-4ddf-b8b9-283f19b3313e",
   "metadata": {},
   "source": [
    "## Setup"
   ]
  },
  {
   "cell_type": "code",
   "execution_count": 1,
   "id": "a9cd11e9-258b-4304-a21d-f826f276b73b",
   "metadata": {},
   "outputs": [],
   "source": [
    "# Outputs:\n",
    "# formatted dataset directory\n",
    "# dataset_metadata (yaml), includes\n",
    "## sample_rate\n",
    "## dataset_label_names (list)\n",
    "## dataset_feature_names (list)\n",
    "## clip_ids (list)\n",
    "# clip_data (directory), includes\n",
    "## data_files (multiple files)"
   ]
  },
  {
   "cell_type": "code",
   "execution_count": 2,
   "id": "7470e077-e978-495a-b349-27cc5a6b2a40",
   "metadata": {},
   "outputs": [],
   "source": [
    "%load_ext autoreload\n",
    "%autoreload 2"
   ]
  },
  {
   "cell_type": "code",
   "execution_count": 3,
   "id": "ec388900-f0ab-4e41-a56b-9597e4f4911f",
   "metadata": {},
   "outputs": [],
   "source": [
    "import os\n",
    "import numpy as np\n",
    "import pandas as pd\n",
    "import h5py\n",
    "from matplotlib import pyplot as plt\n",
    "import glob\n",
    "import yaml\n",
    "import scipy.signal as signal\n",
    "import datetime\n",
    "import tqdm"
   ]
  },
  {
   "cell_type": "code",
   "execution_count": 4,
   "id": "6bc728a2-a91e-4da2-abea-4b57ceb4e818",
   "metadata": {},
   "outputs": [],
   "source": [
    "# Specify data filepaths\n",
    "\n",
    "raw_data_dir = '/home/jupyter/behavior_data_local/data/raw/pagano_bears'\n",
    "formatted_data_dir = '/home/jupyter/behavior_data_local/data/formatted/pagano_bears'\n",
    "\n",
    "if not os.path.exists(formatted_data_dir):\n",
    "    os.makedirs(formatted_data_dir)\n",
    "    \n",
    "features_fps = os.path.join(raw_data_dir, 'PolarBear_archival_logger_data_southernBeaufortSea_2014_2016_revised.csv')\n",
    "annotations_fps = os.path.join(raw_data_dir, 'PolarBear_video-derived_behaviors_southernBeaufortSea_2014_2016_revised.csv')\n",
    "\n",
    "clip_data_dir = os.path.join(formatted_data_dir, 'clip_data')\n",
    "if not os.path.exists(clip_data_dir):\n",
    "    os.makedirs(clip_data_dir)"
   ]
  },
  {
   "cell_type": "code",
   "execution_count": 5,
   "id": "98f244e7-ac03-48e2-868a-1b7f7dd15fea",
   "metadata": {},
   "outputs": [],
   "source": [
    "# Dataset metadata\n",
    "dataset_metadata = {}\n",
    "sr = 16\n",
    "dataset_metadata['sr'] = sr ## from dataset documentation\n",
    "dataset_metadata['dataset_name'] = 'pagano_bears'"
   ]
  },
  {
   "cell_type": "code",
   "execution_count": 6,
   "id": "3b1891a7-1ff4-4df0-9c00-ecf634c3870a",
   "metadata": {},
   "outputs": [],
   "source": [
    "data = pd.read_csv(features_fps)\n",
    "annotations = pd.read_csv(annotations_fps)"
   ]
  },
  {
   "cell_type": "code",
   "execution_count": 7,
   "id": "7fa104a6-5093-484f-978e-1cb0d65243ee",
   "metadata": {},
   "outputs": [],
   "source": [
    "individuals = sorted(data['Bear'].unique())\n",
    "individuals = [int(x) for x in individuals]"
   ]
  },
  {
   "cell_type": "code",
   "execution_count": 8,
   "id": "ee92f4bf-e469-400e-839c-1939da873bae",
   "metadata": {},
   "outputs": [
    {
     "data": {
      "text/plain": [
       "[3, 5, 6, 7, 8, 9]"
      ]
     },
     "execution_count": 8,
     "metadata": {},
     "output_type": "execute_result"
    }
   ],
   "source": [
    "individuals"
   ]
  },
  {
   "cell_type": "markdown",
   "id": "32181469-4db3-473b-aeb9-4e572327c138",
   "metadata": {},
   "source": [
    "We are going to drop bear 3 from analysis. This bear was recorded in 2014, and the annotations are only at 30 second resolution"
   ]
  },
  {
   "cell_type": "code",
   "execution_count": 9,
   "id": "6e02d3e2-5da6-4351-8774-27f3b4c5bf51",
   "metadata": {},
   "outputs": [
    {
     "data": {
      "text/plain": [
       "[5, 6, 7, 8, 9]"
      ]
     },
     "execution_count": 9,
     "metadata": {},
     "output_type": "execute_result"
    }
   ],
   "source": [
    "data = data[data['Bear'] != 3]\n",
    "individuals.remove(3)\n",
    "individuals"
   ]
  },
  {
   "cell_type": "markdown",
   "id": "77e05657-3c34-477a-ba9b-b6a19758263c",
   "metadata": {},
   "source": [
    "Correct for time offset between video and annotations. Pagano, personal communication: \" Yes, I did have to perform a synchronization between the accelerometer data and the behavior data from the video footage. To avoid confusion, I don't believe any details were provided in the release on that. I typically synchronized the accelerometer data by linking the timing of head shakes from the behavior data with the accelerometer signature which is fairly distinct for that behavior.\"\n",
    "\n",
    "By inspecting the head shakes, we see there is both a shift and rescaling that has to be performed. What follows is a workbook to determine this. We align two headshakes in order to determine the shift and scale factor"
   ]
  },
  {
   "cell_type": "code",
   "execution_count": 10,
   "id": "5ec3c044-7dc5-4c11-a883-6541ab9191b3",
   "metadata": {},
   "outputs": [
    {
     "data": {
      "text/html": [
       "<div>\n",
       "<style scoped>\n",
       "    .dataframe tbody tr th:only-of-type {\n",
       "        vertical-align: middle;\n",
       "    }\n",
       "\n",
       "    .dataframe tbody tr th {\n",
       "        vertical-align: top;\n",
       "    }\n",
       "\n",
       "    .dataframe thead th {\n",
       "        text-align: right;\n",
       "    }\n",
       "</style>\n",
       "<table border=\"1\" class=\"dataframe\">\n",
       "  <thead>\n",
       "    <tr style=\"text-align: right;\">\n",
       "      <th></th>\n",
       "      <th>index</th>\n",
       "      <th>Bear</th>\n",
       "      <th>Datetime_behavior_starts</th>\n",
       "      <th>Datetime_behavior_ends</th>\n",
       "      <th>Behavior</th>\n",
       "      <th>Comments</th>\n",
       "    </tr>\n",
       "  </thead>\n",
       "  <tbody>\n",
       "    <tr>\n",
       "      <th>0</th>\n",
       "      <td>27934</td>\n",
       "      <td>8</td>\n",
       "      <td>2016-04-10 01:01:59</td>\n",
       "      <td>2016-04-10 01:02:01</td>\n",
       "      <td>head shake</td>\n",
       "      <td>NaN</td>\n",
       "    </tr>\n",
       "    <tr>\n",
       "      <th>1</th>\n",
       "      <td>27937</td>\n",
       "      <td>8</td>\n",
       "      <td>2016-04-10 01:05:20</td>\n",
       "      <td>2016-04-10 01:05:21</td>\n",
       "      <td>head shake</td>\n",
       "      <td>NaN</td>\n",
       "    </tr>\n",
       "    <tr>\n",
       "      <th>2</th>\n",
       "      <td>27939</td>\n",
       "      <td>8</td>\n",
       "      <td>2016-04-10 01:05:55</td>\n",
       "      <td>2016-04-10 01:05:57</td>\n",
       "      <td>head shake</td>\n",
       "      <td>NaN</td>\n",
       "    </tr>\n",
       "    <tr>\n",
       "      <th>3</th>\n",
       "      <td>27995</td>\n",
       "      <td>8</td>\n",
       "      <td>2016-04-10 02:33:34</td>\n",
       "      <td>2016-04-10 02:33:35</td>\n",
       "      <td>head shake</td>\n",
       "      <td>NaN</td>\n",
       "    </tr>\n",
       "    <tr>\n",
       "      <th>4</th>\n",
       "      <td>28001</td>\n",
       "      <td>8</td>\n",
       "      <td>2016-04-10 02:39:55</td>\n",
       "      <td>2016-04-10 02:39:57</td>\n",
       "      <td>head shake</td>\n",
       "      <td>NaN</td>\n",
       "    </tr>\n",
       "    <tr>\n",
       "      <th>...</th>\n",
       "      <td>...</td>\n",
       "      <td>...</td>\n",
       "      <td>...</td>\n",
       "      <td>...</td>\n",
       "      <td>...</td>\n",
       "      <td>...</td>\n",
       "    </tr>\n",
       "    <tr>\n",
       "      <th>391</th>\n",
       "      <td>35415</td>\n",
       "      <td>8</td>\n",
       "      <td>2016-04-17 02:33:57</td>\n",
       "      <td>2016-04-17 02:33:59</td>\n",
       "      <td>head shake</td>\n",
       "      <td>NaN</td>\n",
       "    </tr>\n",
       "    <tr>\n",
       "      <th>392</th>\n",
       "      <td>35418</td>\n",
       "      <td>8</td>\n",
       "      <td>2016-04-17 02:35:41</td>\n",
       "      <td>2016-04-17 02:35:43</td>\n",
       "      <td>head shake</td>\n",
       "      <td>NaN</td>\n",
       "    </tr>\n",
       "    <tr>\n",
       "      <th>393</th>\n",
       "      <td>35420</td>\n",
       "      <td>8</td>\n",
       "      <td>2016-04-17 02:35:55</td>\n",
       "      <td>2016-04-17 02:35:57</td>\n",
       "      <td>head shake</td>\n",
       "      <td>NaN</td>\n",
       "    </tr>\n",
       "    <tr>\n",
       "      <th>394</th>\n",
       "      <td>35426</td>\n",
       "      <td>8</td>\n",
       "      <td>2016-04-17 02:39:44</td>\n",
       "      <td>2016-04-17 02:39:46</td>\n",
       "      <td>head shake</td>\n",
       "      <td>NaN</td>\n",
       "    </tr>\n",
       "    <tr>\n",
       "      <th>395</th>\n",
       "      <td>35440</td>\n",
       "      <td>8</td>\n",
       "      <td>2016-04-17 02:44:08</td>\n",
       "      <td>2016-04-17 02:44:10</td>\n",
       "      <td>head shake</td>\n",
       "      <td>NaN</td>\n",
       "    </tr>\n",
       "  </tbody>\n",
       "</table>\n",
       "<p>396 rows × 6 columns</p>\n",
       "</div>"
      ],
      "text/plain": [
       "     index  Bear Datetime_behavior_starts Datetime_behavior_ends    Behavior  \\\n",
       "0    27934     8      2016-04-10 01:01:59    2016-04-10 01:02:01  head shake   \n",
       "1    27937     8      2016-04-10 01:05:20    2016-04-10 01:05:21  head shake   \n",
       "2    27939     8      2016-04-10 01:05:55    2016-04-10 01:05:57  head shake   \n",
       "3    27995     8      2016-04-10 02:33:34    2016-04-10 02:33:35  head shake   \n",
       "4    28001     8      2016-04-10 02:39:55    2016-04-10 02:39:57  head shake   \n",
       "..     ...   ...                      ...                    ...         ...   \n",
       "391  35415     8      2016-04-17 02:33:57    2016-04-17 02:33:59  head shake   \n",
       "392  35418     8      2016-04-17 02:35:41    2016-04-17 02:35:43  head shake   \n",
       "393  35420     8      2016-04-17 02:35:55    2016-04-17 02:35:57  head shake   \n",
       "394  35426     8      2016-04-17 02:39:44    2016-04-17 02:39:46  head shake   \n",
       "395  35440     8      2016-04-17 02:44:08    2016-04-17 02:44:10  head shake   \n",
       "\n",
       "    Comments  \n",
       "0        NaN  \n",
       "1        NaN  \n",
       "2        NaN  \n",
       "3        NaN  \n",
       "4        NaN  \n",
       "..       ...  \n",
       "391      NaN  \n",
       "392      NaN  \n",
       "393      NaN  \n",
       "394      NaN  \n",
       "395      NaN  \n",
       "\n",
       "[396 rows x 6 columns]"
      ]
     },
     "execution_count": 10,
     "metadata": {},
     "output_type": "execute_result"
    }
   ],
   "source": [
    "# Workbook to determine offset and rescaling. Each bear is recorded continuously and has its own offset\n",
    "# We assume there is a scale factor m and a shift b that corrects the time stamps of that bear\n",
    "# To determine these two numbers, we look for head shakes at the beginning and end of the recording\n",
    "\n",
    "bear_inspected = 8\n",
    "data_sub = data[data['Bear'] == bear_inspected].copy().reset_index()\n",
    "annotations_sub = annotations[annotations['Bear'] == bear_inspected].copy()\n",
    "\n",
    "annotations_sub['Datetime_behavior_starts'] = pd.to_datetime(annotations_sub['Datetime_behavior_starts'])\n",
    "annotations_sub['Datetime_behavior_ends'] = pd.to_datetime(annotations_sub['Datetime_behavior_ends'])\n",
    "data_sub['Datetime'] = pd.to_datetime(data_sub['Datetime'])\n",
    "\n",
    "annotations_sub_sub = annotations_sub[annotations_sub['Behavior'] == 'head shake'].copy().reset_index()\n",
    "annotations_sub_sub"
   ]
  },
  {
   "cell_type": "code",
   "execution_count": 12,
   "id": "8c324e21-a49d-4ce2-a77b-212736a93d6c",
   "metadata": {},
   "outputs": [
    {
     "data": {
      "text/plain": [
       "<matplotlib.collections.PathCollection at 0x7f299d792c50>"
      ]
     },
     "execution_count": 12,
     "metadata": {},
     "output_type": "execute_result"
    },
    {
     "data": {
      "image/png": "[encoded data removed]",
      "text/plain": [
       "<Figure size 432x288 with 4 Axes>"
      ]
     },
     "metadata": {
      "needs_background": "light"
     },
     "output_type": "display_data"
    }
   ],
   "source": [
    "# align with a headshake\n",
    "window_sec = 30\n",
    "j = 339\n",
    "row = annotations_sub_sub.iloc[j]\n",
    "offset = pd.Timedelta('00:02:27')\n",
    "\n",
    "start = row['Datetime_behavior_starts'] + offset\n",
    "end = row['Datetime_behavior_ends'] + offset\n",
    "selected = data_sub[(data_sub['Datetime'] >= start) & (data_sub['Datetime'] <= end)].index\n",
    "\n",
    "start_index = min(selected) - window_sec* 16\n",
    "end_index = max(selected) + window_sec* 16\n",
    "shaking = [i in selected for i in range(start_index, end_index)]\n",
    "\n",
    "fig, axes = plt.subplots(nrows=4, ncols=1, sharex=True)\n",
    "axes[0].plot(data_sub.iloc[start_index : end_index]['Int_aX'])\n",
    "axes[1].plot(data_sub.iloc[start_index : end_index]['Int_aY'])\n",
    "axes[2].plot(data_sub.iloc[start_index : end_index]['Int_aZ'])\n",
    "axes[3].scatter(np.arange(start_index, end_index), shaking)"
   ]
  },
  {
   "cell_type": "code",
   "execution_count": 13,
   "id": "64dccf7a-c2b2-4448-88ac-062bd860a0c8",
   "metadata": {},
   "outputs": [
    {
     "name": "stdout",
     "output_type": "stream",
     "text": [
      "2016-04-14 19:08:43\n"
     ]
    }
   ],
   "source": [
    "print(row['Datetime_behavior_starts'])"
   ]
  },
  {
   "cell_type": "code",
   "execution_count": 14,
   "id": "353b763d-e2a2-4b1c-a32e-9c425f002d63",
   "metadata": {},
   "outputs": [],
   "source": [
    "def _compute_time_correction(timedelta_0, timedelta_1, datetime_0, datetime_1):\n",
    "    #y = y_0 + m(x-x_0)\n",
    "    m = (timedelta_1 - timedelta_0) / (datetime_1 - datetime_0)\n",
    "    \n",
    "    return lambda datetime: timedelta_0 + m * (datetime - datetime_0)"
   ]
  },
  {
   "cell_type": "code",
   "execution_count": 15,
   "id": "b624eb56-d219-4fce-a25f-1f39f9e690b0",
   "metadata": {},
   "outputs": [],
   "source": [
    "timedelta_0 = pd.Timedelta('00:02:21')\n",
    "timedelta_1 = pd.Timedelta('00:02:27')\n",
    "datetime_0 = pd.to_datetime('2016-04-11 19:14:05')\n",
    "datetime_1 = pd.to_datetime('2016-04-14 19:08:43')"
   ]
  },
  {
   "cell_type": "code",
   "execution_count": 16,
   "id": "8f9f06cc-9e27-48bf-a28e-7e8ac7f9556e",
   "metadata": {},
   "outputs": [
    {
     "data": {
      "text/plain": [
       "<matplotlib.collections.PathCollection at 0x7f297a446fd0>"
      ]
     },
     "execution_count": 16,
     "metadata": {},
     "output_type": "execute_result"
    },
    {
     "data": {
      "image/png": "[encoded data removed]",
      "text/plain": [
       "<Figure size 432x288 with 4 Axes>"
      ]
     },
     "metadata": {
      "needs_background": "light"
     },
     "output_type": "display_data"
    }
   ],
   "source": [
    "# Test\n",
    "\n",
    "window_sec = 21\n",
    "j = 200\n",
    "row = annotations_sub_sub.iloc[j]\n",
    "offset = _compute_time_correction(timedelta_0, timedelta_1, datetime_0, datetime_1)(row['Datetime_behavior_starts'])\n",
    "\n",
    "start = row['Datetime_behavior_starts'] + offset\n",
    "end = row['Datetime_behavior_ends'] + offset\n",
    "selected = data_sub[(data_sub['Datetime'] >= start) & (data_sub['Datetime'] <= end)].index\n",
    "\n",
    "start_index = min(selected) - window_sec* 16\n",
    "end_index = max(selected) + window_sec* 16\n",
    "shaking = [i in selected for i in range(start_index, end_index)]\n",
    "\n",
    "fig, axes = plt.subplots(nrows=4, ncols=1, sharex=True)\n",
    "axes[0].plot(data_sub.iloc[start_index : end_index]['Int_aX'])\n",
    "axes[1].plot(data_sub.iloc[start_index : end_index]['Int_aY'])\n",
    "axes[2].plot(data_sub.iloc[start_index : end_index]['Int_aZ'])\n",
    "axes[3].scatter(np.arange(start_index, end_index), shaking)"
   ]
  },
  {
   "cell_type": "code",
   "execution_count": 17,
   "id": "5ed7286d-70d6-4591-aa80-bb19bd9ad4b0",
   "metadata": {},
   "outputs": [],
   "source": [
    "# Time corrections as found by hand, using the cells above\n",
    "# dict of bear : function to compute time correction for annotations\n",
    "\n",
    "time_corrections = {5: _compute_time_correction(pd.Timedelta('00:01:34'), pd.Timedelta('00:01:58'), pd.to_datetime('2015-04-12 00:12:36'), pd.to_datetime('2015-04-20 02:38:26')),\n",
    "                    6: _compute_time_correction(pd.Timedelta('00:00:42'), pd.Timedelta('00:00:56'), pd.to_datetime('2015-04-16 01:58:45'), pd.to_datetime('2015-04-20 04:28:16')),\n",
    "                    7: _compute_time_correction(pd.Timedelta('-00:00:35'), pd.Timedelta('-00:00:08'), pd.to_datetime('2015-04-11 00:26:07'), pd.to_datetime('2015-04-19 23:16:21')),\n",
    "                    8: _compute_time_correction(pd.Timedelta('00:02:21'), pd.Timedelta('00:02:27'), pd.to_datetime('2016-04-11 19:14:05'), pd.to_datetime('2016-04-14 19:08:43')),\n",
    "                    9: _compute_time_correction(pd.Timedelta('00:01:33'), pd.Timedelta('00:01:52'), pd.to_datetime('2016-04-13 00:56:31'), pd.to_datetime('2016-04-20 21:28:22')),\n",
    "                   }"
   ]
  },
  {
   "cell_type": "markdown",
   "id": "b9f469cc-c448-4dba-9a61-1d04f0f02e94",
   "metadata": {},
   "source": [
    "Now we have manually found the synchronization, we continue with the typical pipeline"
   ]
  },
  {
   "cell_type": "code",
   "execution_count": 18,
   "id": "8952a2d7-61c1-4c4e-b37a-221745bb82f0",
   "metadata": {},
   "outputs": [],
   "source": [
    "# Split tracks into 3 hour clips, so that life is more manageable\n",
    "# Keep track of which individual is associated to which clip_id\n",
    "\n",
    "data['clip_id'] = 'clip_' + str(0)\n",
    "\n",
    "clip_size_samples = 1728000 # This is 3 hours of recording at 16 Hz\n",
    "current_clip_id = 0\n",
    "clip_ids = []\n",
    "\n",
    "clip_id_to_individual_id = {}\n",
    "for individual in individuals:\n",
    "    indices = data[data['Bear'] == individual].index\n",
    "    x = 0\n",
    "    while x< len(indices):\n",
    "        selected = indices[x : x +clip_size_samples]\n",
    "        data.loc[selected, 'clip_id'] = 'clip_' + str(current_clip_id)\n",
    "        clip_ids.append('clip_' + str(current_clip_id))\n",
    "        clip_id_to_individual_id['clip_' + str(current_clip_id)] = individual\n",
    "        current_clip_id += 1\n",
    "        x += clip_size_samples"
   ]
  },
  {
   "cell_type": "code",
   "execution_count": 19,
   "id": "7ea20959-639e-4f2c-8efa-945516302110",
   "metadata": {},
   "outputs": [],
   "source": [
    "## Integer codes for individuals\n",
    "\n",
    "dataset_metadata['individual_ids'] = individuals # There are 5 individuals with tag data\n",
    "dataset_metadata['clip_id_to_individual_id'] = clip_id_to_individual_id"
   ]
  },
  {
   "cell_type": "code",
   "execution_count": 158,
   "id": "b719e122-9b2d-4fb1-a519-36f58a545c0c",
   "metadata": {},
   "outputs": [
    {
     "name": "stdout",
     "output_type": "stream",
     "text": [
      "[6, 8]\n",
      "[7]\n",
      "[6, 7, 8]\n",
      "[5, 9]\n"
     ]
    }
   ],
   "source": [
    "# Set up data splits by individual\n",
    "\n",
    "test_proportion = .4\n",
    "val_proportion = .2\n",
    "num_individuals = len(individuals)\n",
    "\n",
    "test_num_individuals = int(test_proportion * num_individuals)\n",
    "val_num_individuals = int(val_proportion * num_individuals)\n",
    "\n",
    "rng = np.random.default_rng(628) #619\n",
    "test_individuals = list(rng.choice(individuals, size = test_num_individuals, replace = False))\n",
    "test_individuals.sort()\n",
    "\n",
    "dev_individuals = individuals.copy()\n",
    "for i in test_individuals:\n",
    "    dev_individuals.remove(i)\n",
    "    \n",
    "val_individuals = list(rng.choice(dev_individuals, size = val_num_individuals, replace = False))\n",
    "val_individuals.sort()\n",
    "    \n",
    "train_individuals = dev_individuals.copy()\n",
    "for i in val_individuals:\n",
    "    train_individuals.remove(i)\n",
    "    \n",
    "print(train_individuals)\n",
    "print(val_individuals)\n",
    "print(dev_individuals)\n",
    "print(test_individuals)"
   ]
  },
  {
   "cell_type": "code",
   "execution_count": 159,
   "id": "ed6d55ef-3574-4052-9506-6c2d9af412cf",
   "metadata": {},
   "outputs": [],
   "source": [
    "# Set up clip ids by split\n",
    "\n",
    "test_clip_ids = []\n",
    "train_clip_ids = []\n",
    "val_clip_ids = []\n",
    "dev_clip_ids = []\n",
    "for clip_id in clip_ids:\n",
    "    individual = clip_id_to_individual_id[clip_id]\n",
    "    if individual in train_individuals:\n",
    "        train_clip_ids.append(clip_id)\n",
    "        dev_clip_ids.append(clip_id)\n",
    "    elif individual in val_individuals:\n",
    "        val_clip_ids.append(clip_id)\n",
    "        dev_clip_ids.append(clip_id)\n",
    "    elif individual in test_individuals:\n",
    "        test_clip_ids.append(clip_id)\n",
    "    \n",
    "train_clip_ids.sort()\n",
    "val_clip_ids.sort()\n",
    "dev_clip_ids.sort()\n",
    "test_clip_ids.sort()\n",
    "    \n",
    "dataset_metadata['clip_ids'] = clip_ids\n",
    "dataset_metadata['train_clip_ids'] = train_clip_ids\n",
    "dataset_metadata['test_clip_ids'] = test_clip_ids\n",
    "dataset_metadata['val_clip_ids'] = val_clip_ids\n",
    "dataset_metadata['dev_clip_ids'] = dev_clip_ids"
   ]
  },
  {
   "cell_type": "markdown",
   "id": "3fca914b-f4d0-4265-b18c-71cd7aca2dc5",
   "metadata": {},
   "source": [
    "## Create dataset-level metadata"
   ]
  },
  {
   "cell_type": "code",
   "execution_count": 160,
   "id": "b9343516-5a19-4882-9e32-1ef628a49667",
   "metadata": {},
   "outputs": [],
   "source": [
    "# for individual in individuals:\n",
    "#     print(annotations[annotations['Bear'] == individual]['Behavior'].value_counts())"
   ]
  },
  {
   "cell_type": "code",
   "execution_count": 161,
   "id": "7ac34de9-3853-44e0-ae8c-2b7bed24f72e",
   "metadata": {},
   "outputs": [],
   "source": [
    "# Favor labels which are long enough in duration to last for the annotation period, and which are abundant\n",
    "\n",
    "obs_beh_to_beh_name = {\n",
    "    'laying' : 'rest',\n",
    "    'walking' : 'walk',\n",
    "    'mixed' : 'unknown',\n",
    "    'adjusting' : 'unknown', \n",
    "    'sitting or standing' : 'rest',\n",
    "    'head shake' : 'head_shake',\n",
    "    'sitting or laying' : 'rest',\n",
    "    'rolling in snow' : 'roll',\n",
    "    'unknown' : 'unknown',\n",
    "    'eating' : 'eat',\n",
    "    'digging' : 'dig',\n",
    "    'grooming' : 'groom',\n",
    "    'interacting' : 'unknown',\n",
    "    'smelling snow' : 'unknown',\n",
    "    'swimming' : 'swim',\n",
    "    'running' : 'run',\n",
    "    'eating snow' : 'eat',\n",
    "    'pouncing' : 'pounce',\n",
    "    'standing' : 'rest',\n",
    "    'running and walking' : 'unknown',\n",
    "    'carrying carcass' : 'unknown',\n",
    "    'breeding' : 'unknown',\n",
    "    'rubbing' : 'unknown',\n",
    "    'jumping' : 'unknown',\n",
    "    'breaking into liar' : 'unknown',\n",
    "    'sticking head out of water' : 'unknown',\n",
    "    'moving ice' : 'unknown',\n",
    "    'catches seal' : 'unknown',\n",
    "    'biting seal' : 'unknown',\n",
    "    'crawling through ice cavern' : 'unknown',\n",
    "    'sticking head into water' : 'unknown',\n",
    "    'hauling out of water' : 'unknown',\n",
    "    'standing up' : 'unknown',\n",
    "    'standing ' : 'rest'\n",
    "}"
   ]
  },
  {
   "cell_type": "code",
   "execution_count": 162,
   "id": "444a3dc3-dfb0-4907-833e-8caf3eb4d88d",
   "metadata": {},
   "outputs": [
    {
     "name": "stdout",
     "output_type": "stream",
     "text": [
      "['unknown', 'dig', 'eat', 'groom', 'head_shake', 'pounce', 'rest', 'roll', 'run', 'swim', 'walk']\n"
     ]
    }
   ],
   "source": [
    "## Integer codes for specific behaviors\n",
    "\n",
    "beh_names = sorted(set([obs_beh_to_beh_name[k] for k in obs_beh_to_beh_name]))\n",
    "beh_names.remove('unknown')\n",
    "beh_names.insert(0, 'unknown')\n",
    "\n",
    "print(beh_names)\n",
    "\n",
    "dataset_metadata['label_names'] = beh_names\n",
    "\n",
    "beh_str_to_int = {name : i for i, name in enumerate(beh_names)}\n",
    "beh_int_to_str = {i : name for i, name in enumerate(beh_names)}"
   ]
  },
  {
   "cell_type": "code",
   "execution_count": 163,
   "id": "f438d48f-0596-4a58-8669-358c9a4cec2d",
   "metadata": {},
   "outputs": [],
   "source": [
    "## clip_data column names\n",
    "\n",
    "clip_column_names = ['AccX', 'AccY', 'AccZ', 'StaticAccX', 'StaticAccY', 'StaticAccZ', 'Wetdry', 'individual_id', 'label']\n",
    "dataset_metadata['clip_column_names'] = clip_column_names"
   ]
  },
  {
   "cell_type": "code",
   "execution_count": 164,
   "id": "a560ecfd-2ff8-4aff-a58c-76bb31200b86",
   "metadata": {},
   "outputs": [],
   "source": [
    "## Save off dataset level metadata\n",
    "\n",
    "dataset_metadata_fp = os.path.join(formatted_data_dir, 'dataset_metadata.yaml')\n",
    "\n",
    "with open(dataset_metadata_fp, 'w') as file:\n",
    "    yaml.dump(dataset_metadata, file)"
   ]
  },
  {
   "cell_type": "code",
   "execution_count": 165,
   "id": "9181f651-b141-4e91-bfd4-a4a25f5a10c9",
   "metadata": {},
   "outputs": [
    {
     "data": {
      "text/plain": [
       "31268"
      ]
     },
     "execution_count": 165,
     "metadata": {},
     "output_type": "execute_result"
    }
   ],
   "source": [
    "# how many annotations?\n",
    "len(annotations[annotations['Bear'].isin(individuals)])"
   ]
  },
  {
   "cell_type": "markdown",
   "id": "f964b042-2a2b-4690-bdd1-1685991ca77f",
   "metadata": {},
   "source": [
    "## Format Clip Data"
   ]
  },
  {
   "cell_type": "code",
   "execution_count": 28,
   "id": "a81e0e3f-4b1b-4957-a6f9-aca4601efe13",
   "metadata": {},
   "outputs": [],
   "source": [
    "# add annotations to data\n",
    "\n",
    "annotations['Datetime_behavior_starts'] = pd.to_datetime(annotations['Datetime_behavior_starts'])\n",
    "annotations['Datetime_behavior_ends'] = pd.to_datetime(annotations['Datetime_behavior_ends'])\n",
    "data['Datetime'] = pd.to_datetime(data['Datetime'])"
   ]
  },
  {
   "cell_type": "code",
   "execution_count": 29,
   "id": "6170da35-8a0d-4868-87bf-606398543634",
   "metadata": {},
   "outputs": [],
   "source": [
    "# use butterworth filter to extract low and high frequency components\n",
    "def extract_static(series, low_cutoff_freq):\n",
    "    # extract static component\n",
    "    sos = signal.butter(10, low_cutoff_freq, 'low', fs=sr, output='sos')\n",
    "    low_passed_series = signal.sosfilt(sos, series)\n",
    "    remaining_series = series - low_passed_series\n",
    "    return low_passed_series, remaining_series"
   ]
  },
  {
   "cell_type": "code",
   "execution_count": 30,
   "id": "7db02b94-6e8c-4469-afa6-c3739bb031a5",
   "metadata": {},
   "outputs": [],
   "source": [
    "# Convenience function to detect nans.\n",
    "def nan_helper(y):\n",
    "    return np.isnan(y), lambda z: z.nonzero()[0]\n",
    "\n",
    "#Interpolates all nan values of given array\n",
    "def interpolate_nan(y):\n",
    "    nans, x= nan_helper(y)\n",
    "    y[nans]= np.interp(x(nans), x(~nans), y[~nans])\n",
    "    return y"
   ]
  },
  {
   "cell_type": "code",
   "execution_count": 31,
   "id": "c7bd7e0b-68ed-4814-9977-284f8877a143",
   "metadata": {},
   "outputs": [
    {
     "name": "stdout",
     "output_type": "stream",
     "text": [
      "adding annotations for individual 5\n"
     ]
    },
    {
     "name": "stderr",
     "output_type": "stream",
     "text": [
      "100%|██████████| 8051/8051 [18:12<00:00,  7.37it/s]\n"
     ]
    },
    {
     "name": "stdout",
     "output_type": "stream",
     "text": [
      "processing clips for individual 5\n"
     ]
    },
    {
     "name": "stderr",
     "output_type": "stream",
     "text": [
      "100%|██████████| 39/39 [02:17<00:00,  3.53s/it]\n"
     ]
    },
    {
     "name": "stdout",
     "output_type": "stream",
     "text": [
      "adding annotations for individual 6\n"
     ]
    },
    {
     "name": "stderr",
     "output_type": "stream",
     "text": [
      "100%|██████████| 4145/4145 [10:23<00:00,  6.65it/s]\n"
     ]
    },
    {
     "name": "stdout",
     "output_type": "stream",
     "text": [
      "processing clips for individual 6\n"
     ]
    },
    {
     "name": "stderr",
     "output_type": "stream",
     "text": [
      "100%|██████████| 39/39 [02:42<00:00,  4.16s/it]\n"
     ]
    },
    {
     "name": "stdout",
     "output_type": "stream",
     "text": [
      "adding annotations for individual 7\n"
     ]
    },
    {
     "name": "stderr",
     "output_type": "stream",
     "text": [
      "100%|██████████| 4987/4987 [13:52<00:00,  5.99it/s]\n"
     ]
    },
    {
     "name": "stdout",
     "output_type": "stream",
     "text": [
      "processing clips for individual 7\n"
     ]
    },
    {
     "name": "stderr",
     "output_type": "stream",
     "text": [
      "100%|██████████| 39/39 [02:52<00:00,  4.42s/it]\n"
     ]
    },
    {
     "name": "stdout",
     "output_type": "stream",
     "text": [
      "adding annotations for individual 8\n"
     ]
    },
    {
     "name": "stderr",
     "output_type": "stream",
     "text": [
      "100%|██████████| 7561/7561 [15:19<00:00,  8.22it/s]\n"
     ]
    },
    {
     "name": "stdout",
     "output_type": "stream",
     "text": [
      "processing clips for individual 8\n"
     ]
    },
    {
     "name": "stderr",
     "output_type": "stream",
     "text": [
      "100%|██████████| 39/39 [02:10<00:00,  3.35s/it]\n"
     ]
    },
    {
     "name": "stdout",
     "output_type": "stream",
     "text": [
      "adding annotations for individual 9\n"
     ]
    },
    {
     "name": "stderr",
     "output_type": "stream",
     "text": [
      "100%|██████████| 6524/6524 [14:53<00:00,  7.30it/s]\n"
     ]
    },
    {
     "name": "stdout",
     "output_type": "stream",
     "text": [
      "processing clips for individual 9\n"
     ]
    },
    {
     "name": "stderr",
     "output_type": "stream",
     "text": [
      "100%|██████████| 39/39 [02:23<00:00,  3.69s/it]\n"
     ]
    }
   ],
   "source": [
    "#data['beh_label'] = 'unknown'\n",
    "data['beh_int_label'] = 0\n",
    "\n",
    "for individual in individuals:\n",
    "    data_sub = data[data['Bear'] == individual].copy()\n",
    "    annotations_sub = annotations[annotations['Bear'] == individual]\n",
    "    #add annotations for that individual\n",
    "    print(\"adding annotations for individual %d\" % individual)\n",
    "    for i, row in tqdm.tqdm(annotations_sub.iterrows(), total = len(annotations_sub)):\n",
    "        # Add annotations, accounting for synchronization\n",
    "        offset = time_corrections[individual](row['Datetime_behavior_starts'])\n",
    "        start = row['Datetime_behavior_starts'] + offset\n",
    "        end = row['Datetime_behavior_ends'] + offset\n",
    "        obs_beh = row['Behavior']\n",
    "        selected = data_sub[(data_sub['Datetime'] >= start) & (data_sub['Datetime'] <= end)].index\n",
    "        #data.loc[selected, 'beh_label'] = obs_beh_to_beh_name[obs_beh]\n",
    "        data_sub.loc[selected, 'beh_int_label'] = beh_str_to_int[obs_beh_to_beh_name[obs_beh]]\n",
    "        \n",
    "    # For each clip, create and save the data in the correct format\n",
    "    print(\"processing clips for individual %d\" % individual)\n",
    "    for clip_id in tqdm.tqdm(clip_ids):\n",
    "        individual_id = clip_id_to_individual_id[clip_id]\n",
    "        if individual_id != individual:\n",
    "            continue\n",
    "            \n",
    "        # load features\n",
    "        data_sub_clip = data_sub[data_sub['clip_id'] == clip_id].copy()\n",
    "        features = np.array(data_sub_clip[['Int_aX', 'Int_aY', 'Int_aZ']])\n",
    "        static_features = np.zeros_like(features)\n",
    "        static_components = np.zeros((np.shape(features)[0], 3))\n",
    "        clip_dur_samples = np.shape(features)[0]\n",
    "\n",
    "        # correct for gravity\n",
    "        for i in range(3): #first 3 channels are acceleration\n",
    "            to_correct = features[:, i]\n",
    "            static, corrected = extract_static(to_correct, 0.3)\n",
    "            features[:, i ] = corrected\n",
    "            static_features[:, i] = static\n",
    "            \n",
    "        # Water conductivity\n",
    "        wetdry = interpolate_nan(np.array(data_sub_clip['Wetdry']))\n",
    "        wetdry = np.expand_dims(wetdry, axis = -1)\n",
    "\n",
    "        per_frame_annotations = np.array(data_sub_clip['beh_int_label'])\n",
    "        per_frame_annotations = np.expand_dims(per_frame_annotations, axis = -1)\n",
    "\n",
    "        # insert individual id\n",
    "\n",
    "        per_frame_individual_id = np.full_like(per_frame_annotations, individual_id)\n",
    "\n",
    "        clip_data = np.concatenate([features, static_features, wetdry, per_frame_individual_id, per_frame_annotations], axis = 1)\n",
    "\n",
    "        clip_data_fp = os.path.join(clip_data_dir, clip_id + '.csv')\n",
    "        np.savetxt(clip_data_fp, clip_data, delimiter=\",\")"
   ]
  },
  {
   "cell_type": "code",
   "execution_count": 32,
   "id": "e9bba2cc-6936-4b9d-ae10-9028ba2da696",
   "metadata": {},
   "outputs": [
    {
     "name": "stdout",
     "output_type": "stream",
     "text": [
      "total duration is 3990300.312500 seconds, i.e. 1108.416753 hours\n"
     ]
    }
   ],
   "source": [
    "total_dur_sec = len(data) / sr\n",
    "total_dur_hours = total_dur_sec / 3600\n",
    "print(\"total duration is %f seconds, i.e. %f hours\" % (total_dur_sec, total_dur_hours))"
   ]
  },
  {
   "cell_type": "code",
   "execution_count": 33,
   "id": "ad0df782-6131-422c-b9bd-99710a58bf1a",
   "metadata": {},
   "outputs": [
    {
     "data": {
      "text/plain": [
       "0     9045279\n",
       "6     2447760\n",
       "10     432624\n",
       "2       93648\n",
       "7       36048\n",
       "4       11906\n",
       "1        8976\n",
       "9        7280\n",
       "3        3472\n",
       "8        1280\n",
       "5        1008\n",
       "Name: beh_int_label, dtype: int64"
      ]
     },
     "execution_count": 33,
     "metadata": {},
     "output_type": "execute_result"
    }
   ],
   "source": [
    "data_sub['beh_int_label'].value_counts()"
   ]
  },
  {
   "cell_type": "markdown",
   "id": "c9844300-e520-49a9-b975-210caa20a21f",
   "metadata": {},
   "source": [
    "## Check it all looks ok"
   ]
  },
  {
   "cell_type": "code",
   "execution_count": 166,
   "id": "717812e0-af4e-4bd0-96db-5ce83ece61c3",
   "metadata": {},
   "outputs": [],
   "source": [
    "clip_id = clip_ids[4]\n",
    "clip_data_fp = os.path.join(clip_data_dir, clip_id + '.csv')\n",
    "data = np.genfromtxt(clip_data_fp, delimiter = ',')"
   ]
  },
  {
   "cell_type": "code",
   "execution_count": 167,
   "id": "77164f71-4257-43b1-ae76-49f1438c836e",
   "metadata": {},
   "outputs": [
    {
     "data": {
      "text/plain": [
       "(1728000, 9)"
      ]
     },
     "execution_count": 167,
     "metadata": {},
     "output_type": "execute_result"
    }
   ],
   "source": [
    "np.shape(data)"
   ]
  },
  {
   "cell_type": "code",
   "execution_count": 168,
   "id": "b1d243b7-ec2e-4bc5-8239-400cc7241953",
   "metadata": {},
   "outputs": [
    {
     "data": {
      "image/png": "[encoded data removed]",
      "text/plain": [
       "<Figure size 432x288 with 1 Axes>"
      ]
     },
     "metadata": {
      "needs_background": "light"
     },
     "output_type": "display_data"
    }
   ],
   "source": [
    "for i in range(np.shape(data)[1]):\n",
    "    plt.plot(data[1000:1100, i])"
   ]
  },
  {
   "cell_type": "code",
   "execution_count": 169,
   "id": "ff4e9c59-9f68-4ee9-9cfd-0d1ca21b5900",
   "metadata": {},
   "outputs": [
    {
     "data": {
      "text/plain": [
       "[<matplotlib.lines.Line2D at 0x7f294e4b6410>]"
      ]
     },
     "execution_count": 169,
     "metadata": {},
     "output_type": "execute_result"
    },
    {
     "data": {
      "image/png": "[encoded data removed]",
      "text/plain": [
       "<Figure size 432x288 with 1 Axes>"
      ]
     },
     "metadata": {
      "needs_background": "light"
     },
     "output_type": "display_data"
    }
   ],
   "source": [
    "plt.plot(data[:, 6])"
   ]
  },
  {
   "cell_type": "markdown",
   "id": "80db1722-5a4d-4ced-ac90-58828ec4af5e",
   "metadata": {},
   "source": [
    "## Plot Dataset Summary"
   ]
  },
  {
   "cell_type": "code",
   "execution_count": 170,
   "id": "c2ddf48f-b53d-465a-86cb-a155259dc0fb",
   "metadata": {},
   "outputs": [],
   "source": [
    "# Count class representation\n",
    "\n",
    "beh_names = dataset_metadata['label_names']\n",
    "train_label_count = {name : 0 for name in beh_names}\n",
    "val_label_count = {name : 0 for name in beh_names}\n",
    "dev_label_count = {name : 0 for name in beh_names}\n",
    "test_label_count = {name : 0 for name in beh_names}\n",
    "\n",
    "for clip_id in clip_ids:\n",
    "    clip_data_fp = os.path.join(clip_data_dir, clip_id + '.csv')\n",
    "    data = pd.read_csv(clip_data_fp, delimiter = ',', header = None)\n",
    "    counts = data[data.keys()[-1]].astype(int).value_counts()\n",
    "    for key in counts.keys():\n",
    "        name = beh_names[key]\n",
    "        if clip_id in dataset_metadata['train_clip_ids']:\n",
    "            train_label_count[name] += counts[key]\n",
    "            dev_label_count[name] += counts[key]\n",
    "        elif clip_id in dataset_metadata['val_clip_ids']:\n",
    "            val_label_count[name] += counts[key]\n",
    "            dev_label_count[name] += counts[key]\n",
    "        elif clip_id in dataset_metadata['test_clip_ids']:\n",
    "            test_label_count[name] += counts[key]\n",
    "\n",
    "train_label_perc = {name : 0 for name in beh_names[1:]}\n",
    "val_label_perc = {name : 0 for name in beh_names[1:]}\n",
    "dev_label_perc = {name : 0 for name in beh_names[1:]}\n",
    "test_label_perc = {name : 0 for name in beh_names[1:]}\n",
    "\n",
    "for name in beh_names[1:]:\n",
    "    train_label_perc[name] = float(train_label_count[name] / sum([train_label_count[j] for j in beh_names[1:]]))\n",
    "    val_label_perc[name] = float(val_label_count[name] / sum([val_label_count[j] for j in beh_names[1:]]))\n",
    "    dev_label_perc[name] = float(dev_label_count[name] / sum([dev_label_count[j] for j in beh_names[1:]]))\n",
    "    test_label_perc[name] = float(test_label_count[name] / sum([test_label_count[j] for j in beh_names[1:]]))"
   ]
  },
  {
   "cell_type": "code",
   "execution_count": 171,
   "id": "9898cb5a-6773-41da-b4e2-bcc6cc5f0fbd",
   "metadata": {},
   "outputs": [
    {
     "data": {
      "image/png": "[encoded data removed]",
      "text/plain": [
       "<Figure size 640x480 with 1 Axes>"
      ]
     },
     "metadata": {
      "needs_background": "light"
     },
     "output_type": "display_data"
    }
   ],
   "source": [
    "# Plot class representation\n",
    "\n",
    "keys = np.arange(len(beh_names))[1:]\n",
    "offset = 0.1\n",
    "width = 0.2\n",
    "plt.figure(figsize=(8, 6), dpi=80)\n",
    "\n",
    "plt.barh(keys - offset, [dev_label_perc[beh_names[key]] for key in keys], height=width, align='center', label = 'train') #We call dev set 'train' in the paper\n",
    "#plt.barh(keys, [val_label_perc[beh_names[key]] for key in keys], height=width, align='center', label = 'val')\n",
    "plt.barh(keys + offset, [test_label_perc[beh_names[key]] for key in keys], height=width, align='center', label = 'test')\n",
    "plt.title(\"Class representation across data splits\")\n",
    "plt.yticks(keys, beh_names[1:], fontsize = 7, rotation = 60)\n",
    "plt.xlabel('Percent of known labels')\n",
    "plt.legend()\n",
    "target_fp = os.path.join(formatted_data_dir, 'class_rep.png')\n",
    "\n",
    "plt.savefig(target_fp)\n",
    "plt.show()\n",
    "\n",
    "numerical_target_fp = os.path.join(formatted_data_dir, 'class_rep.yaml')\n",
    "class_rep_dict = {'train_label_perc' : train_label_perc,\n",
    "                  'val_label_perc' : val_label_perc,\n",
    "                  'dev_label_perc' : dev_label_perc,\n",
    "                  'test_label_perc' : test_label_perc}\n",
    "with open(numerical_target_fp, 'w') as file:\n",
    "    yaml.dump(class_rep_dict, file)"
   ]
  },
  {
   "cell_type": "code",
   "execution_count": 172,
   "id": "88dfe3fa-445c-4806-b4b5-88175cf0c7bd",
   "metadata": {},
   "outputs": [
    {
     "data": {
      "image/png": "[encoded data removed]",
      "text/plain": [
       "<Figure size 648x144 with 3 Axes>"
      ]
     },
     "metadata": {},
     "output_type": "display_data"
    }
   ],
   "source": [
    "# Pie chart, of known vs unknown samples \n",
    "\n",
    "labels = 'Known', 'Unknown'\n",
    "train_sizes = [sum([train_label_count[j] for j in beh_names[1:]]), train_label_count['unknown']]\n",
    "val_sizes = [sum([val_label_count[j] for j in beh_names[1:]]), val_label_count['unknown']]\n",
    "test_sizes = [sum([test_label_count[j] for j in beh_names[1:]]), test_label_count['unknown']]\n",
    "\n",
    "fig, ax = plt.subplots(1,3, figsize = (9,2))\n",
    "plt.title(\"blah\")\n",
    "\n",
    "ax[0].pie(train_sizes, labels=labels, autopct='%1.1f%%', startangle=90)\n",
    "ax[0].axis('equal')  # Equal aspect ratio ensures that pie is drawn as a circle.\n",
    "ax[0].set_title('Train')\n",
    "\n",
    "ax[1].pie(val_sizes, labels=labels, autopct='%1.1f%%', startangle=90)\n",
    "ax[1].axis('equal')  # Equal aspect ratio ensures that pie is drawn as a circle.\n",
    "ax[1].set_title('Val')\n",
    "\n",
    "ax[2].pie(test_sizes, labels=labels, autopct='%1.1f%%', startangle=90)\n",
    "ax[2].axis('equal')  # Equal aspect ratio ensures that pie is drawn as a circle.\n",
    "ax[2].set_title('Test')\n",
    "\n",
    "target_fp = os.path.join(formatted_data_dir, 'perc_known.png')\n",
    "\n",
    "plt.savefig(target_fp)\n",
    "\n",
    "plt.show()\n"
   ]
  },
  {
   "cell_type": "markdown",
   "id": "165c4822-ce09-404d-b8d3-a56eebf2a1b3",
   "metadata": {},
   "source": [
    "## Temporal Statistics"
   ]
  },
  {
   "cell_type": "code",
   "execution_count": 13,
   "id": "25a4416d-2ce4-4c63-8f6e-6cb9f519425d",
   "metadata": {},
   "outputs": [
    {
     "name": "stderr",
     "output_type": "stream",
     "text": [
      "100%|██████████| 39/39 [01:49<00:00,  2.80s/it]"
     ]
    },
    {
     "name": "stdout",
     "output_type": "stream",
     "text": [
      "Mean overall label duration is 126.996 seconds\n",
      "Re-saving metadata to /home/jupyter/behavior_data_local/data/formatted/pagano_bears/dataset_metadata.yaml\n"
     ]
    },
    {
     "name": "stderr",
     "output_type": "stream",
     "text": [
      "\n"
     ]
    }
   ],
   "source": [
    "####################################\n",
    "infill_max_dur_sec = 91 # If annotations are nnnnn0000000nnnnn, where 0=unknown, do we fill in 0's with n's?\n",
    "####################################\n",
    "\n",
    "# This cell runs almost as a stand alone, but requires the first few cells of this notebook to be run first\n",
    "\n",
    "import tqdm\n",
    "from pathlib import Path\n",
    "\n",
    "dataset_metadata_fp = os.path.join(formatted_data_dir, 'dataset_metadata.yaml')\n",
    "\n",
    "with open(dataset_metadata_fp, 'r') as file:\n",
    "    metadata = yaml.safe_load(file)\n",
    "\n",
    "clip_fps = list(Path(clip_data_dir).glob('*.csv'))\n",
    "\n",
    "def create_list_of_durations(x, infill_max_dur_sec, samplerate, unknown_value = 0):\n",
    "    # First pass: create a list of label durations, together with a list of the associated classes\n",
    "    current_value = 0\n",
    "    current_dur = 0\n",
    "    list_of_durs = []\n",
    "    list_of_labels = []\n",
    "    for i in x:\n",
    "        if i == current_value:\n",
    "            current_dur += 1\n",
    "        elif i != current_value:\n",
    "            list_of_durs.append(current_dur / samplerate)\n",
    "            list_of_labels.append(current_value)\n",
    "            current_dur = 0\n",
    "            current_value = i\n",
    "            \n",
    "    list_of_durs.append(current_dur)\n",
    "    list_of_labels.append(current_value)\n",
    "            \n",
    "    # repeatedly merge similar labels if they are seperated by unknowns of short duration\n",
    "    # This is mainly to deal with duty cycling of observations\n",
    "    infill_max_dur_samples = int(infill_max_dur_sec * samplerate)\n",
    "    \n",
    "    if list_of_labels[0] == unknown_value:\n",
    "        del list_of_labels[0]\n",
    "        del list_of_durs[0]\n",
    "        \n",
    "    if len(list_of_labels) > 0:\n",
    "        if list_of_labels[-1] == unknown_value:\n",
    "            del list_of_labels[-1]\n",
    "            del list_of_durs[-1]\n",
    "    \n",
    "    j = 1\n",
    "    while j<len(list_of_labels)-1:\n",
    "        if list_of_labels[j] != unknown_value:\n",
    "            j+= 1\n",
    "        elif list_of_labels[j-1] == list_of_labels[j+1] and list_of_durs[j] < infill_max_dur_samples:\n",
    "            # merge if it's a short interval of unknowns between two of the same label\n",
    "            list_of_durs[j-1] += list_of_durs[j+1]\n",
    "            del list_of_durs[j+1]\n",
    "            del list_of_durs[j]\n",
    "            del list_of_labels[j+1]\n",
    "            del list_of_labels[j]\n",
    "        else:\n",
    "            # otherwise, drop the unknown segment\n",
    "            del list_of_durs[j]\n",
    "            del list_of_labels[j]\n",
    "\n",
    "    return list_of_labels, list_of_durs # list of annotation durations, in samples.\n",
    "                             \n",
    "durs_sec_by_individual = {i : [] for i in metadata['individual_ids']}\n",
    "overall_durs_sec = []\n",
    "    \n",
    "for fp in tqdm.tqdm(clip_fps):\n",
    "    clip_id = fp.stem\n",
    "    individual_id = metadata['clip_id_to_individual_id'][clip_id]\n",
    "    clip_annotations = list(pd.read_csv(fp, header = None).values[:, -1])\n",
    "    l, d = create_list_of_durations(clip_annotations, infill_max_dur_sec, metadata['sr'])\n",
    "    durs_sec_by_individual[individual_id].extend(d)\n",
    "    overall_durs_sec.extend(d)\n",
    "    \n",
    "mean_dur_sec_by_individual = {i : float(np.mean(durs_sec_by_individual[i])) for i in durs_sec_by_individual}\n",
    "mean_overall_dur_sec = float(np.mean(overall_durs_sec))\n",
    "\n",
    "metadata['mean_dur_sec_by_individual'] = mean_dur_sec_by_individual\n",
    "metadata['mean_overall_dur_sec'] = mean_overall_dur_sec\n",
    "\n",
    "print(\"Mean overall label duration is %0.3f seconds\" % mean_overall_dur_sec)\n",
    "\n",
    "print(\"Re-saving metadata to %s\" % str(dataset_metadata_fp))\n",
    "\n",
    "with open(dataset_metadata_fp, 'w') as file:\n",
    "    yaml.dump(metadata, file)"
   ]
  },
  {
   "cell_type": "code",
   "execution_count": null,
   "id": "36597cbb-d5b8-4085-a34a-8b5742c0634e",
   "metadata": {},
   "outputs": [],
   "source": []
  }
 ],
 "metadata": {
  "environment": {
   "kernel": "python3",
   "name": "pytorch-gpu.1-9.m82",
   "type": "gcloud",
   "uri": "gcr.io/deeplearning-platform-release/pytorch-gpu.1-9:m82"
  },
  "kernelspec": {
   "display_name": "Python 3",
   "language": "python",
   "name": "python3"
  },
  "language_info": {
   "codemirror_mode": {
    "name": "ipython",
    "version": 3
   },
   "file_extension": ".py",
   "mimetype": "text/x-python",
   "name": "python",
   "nbconvert_exporter": "python",
   "pygments_lexer": "ipython3",
   "version": "3.7.10"
  }
 },
 "nbformat": 4,
 "nbformat_minor": 5
}
