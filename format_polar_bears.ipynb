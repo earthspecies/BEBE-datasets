{
 "cells": [
  {
   "cell_type": "markdown",
   "id": "86ce8245-b923-42ba-b1cf-b0a8bdb804d4",
   "metadata": {},
   "source": [
    "# Notebook to format data from \"Metabolic Rate, Body Composition, Foraging Success, Behavior, and GPS Locations of Female Polar Bears (Ursus maritimus), Beaufort Sea, Spring, 2014-2016 and Resting Energetics of an Adult Female Polar Bear: U.S. Geological Survey data release\", Pagano (2018).\n",
    "\n",
    "Data can be found [here](https://alaska.usgs.gov/products/data.php?dataid=174).\n",
    "\n",
    "See also [this paper](https://www.int-res.com/articles/esr2017/32/n032p019.pdf).\n",
    "\n",
    "Some awesome [video footage](https://www.youtube.com/watch?v=qXQBjZLNYT0)"
   ]
  },
  {
   "cell_type": "markdown",
   "id": "77461baa-2d89-4ddf-b8b9-283f19b3313e",
   "metadata": {},
   "source": [
    "## Setup"
   ]
  },
  {
   "cell_type": "code",
   "execution_count": 1,
   "id": "a9cd11e9-258b-4304-a21d-f826f276b73b",
   "metadata": {},
   "outputs": [],
   "source": [
    "# Outputs:\n",
    "# formatted dataset directory\n",
    "# dataset_metadata (yaml), includes\n",
    "## sample_rate\n",
    "## dataset_label_names (list)\n",
    "## dataset_feature_names (list)\n",
    "## clip_ids (list)\n",
    "# clip_data (directory), includes\n",
    "## data_files (multiple files)"
   ]
  },
  {
   "cell_type": "code",
   "execution_count": 2,
   "id": "7470e077-e978-495a-b349-27cc5a6b2a40",
   "metadata": {},
   "outputs": [],
   "source": [
    "%load_ext autoreload\n",
    "%autoreload 2"
   ]
  },
  {
   "cell_type": "code",
   "execution_count": 3,
   "id": "ec388900-f0ab-4e41-a56b-9597e4f4911f",
   "metadata": {},
   "outputs": [],
   "source": [
    "import os\n",
    "import numpy as np\n",
    "import pandas as pd\n",
    "import h5py\n",
    "from matplotlib import pyplot as plt\n",
    "import glob\n",
    "import yaml\n",
    "import scipy.signal as signal\n",
    "import datetime\n",
    "import tqdm"
   ]
  },
  {
   "cell_type": "code",
   "execution_count": 4,
   "id": "6bc728a2-a91e-4da2-abea-4b57ceb4e818",
   "metadata": {},
   "outputs": [],
   "source": [
    "# Specify data filepaths\n",
    "\n",
    "raw_data_dir = '/home/jupyter/behavior_data_local/data/raw/pagano_bears'\n",
    "formatted_data_dir = '/home/jupyter/behavior_data_local/data/formatted/pagano_bears'\n",
    "\n",
    "if not os.path.exists(formatted_data_dir):\n",
    "    os.makedirs(formatted_data_dir)\n",
    "    \n",
    "features_fps = os.path.join(raw_data_dir, 'PolarBear_archival_logger_data_southernBeaufortSea_2014_2016_revised.csv')\n",
    "annotations_fps = os.path.join(raw_data_dir, 'PolarBear_video-derived_behaviors_southernBeaufortSea_2014_2016_revised.csv')\n",
    "\n",
    "clip_data_dir = os.path.join(formatted_data_dir, 'clip_data')\n",
    "if not os.path.exists(clip_data_dir):\n",
    "    os.makedirs(clip_data_dir)"
   ]
  },
  {
   "cell_type": "code",
   "execution_count": 5,
   "id": "98f244e7-ac03-48e2-868a-1b7f7dd15fea",
   "metadata": {},
   "outputs": [],
   "source": [
    "# Dataset metadata\n",
    "dataset_metadata = {}\n",
    "sr = 16\n",
    "dataset_metadata['sr'] = sr ## from dataset documentation\n",
    "dataset_metadata['dataset_name'] = 'pagano_bears'"
   ]
  },
  {
   "cell_type": "code",
   "execution_count": 6,
   "id": "3b1891a7-1ff4-4df0-9c00-ecf634c3870a",
   "metadata": {},
   "outputs": [],
   "source": [
    "data = pd.read_csv(features_fps)\n",
    "annotations = pd.read_csv(annotations_fps)"
   ]
  },
  {
   "cell_type": "code",
   "execution_count": 7,
   "id": "7fa104a6-5093-484f-978e-1cb0d65243ee",
   "metadata": {},
   "outputs": [],
   "source": [
    "individuals = sorted(data['Bear'].unique())\n",
    "individuals = [int(x) for x in individuals]"
   ]
  },
  {
   "cell_type": "code",
   "execution_count": 8,
   "id": "ee92f4bf-e469-400e-839c-1939da873bae",
   "metadata": {},
   "outputs": [
    {
     "data": {
      "text/plain": [
       "[3, 5, 6, 7, 8, 9]"
      ]
     },
     "execution_count": 8,
     "metadata": {},
     "output_type": "execute_result"
    }
   ],
   "source": [
    "individuals"
   ]
  },
  {
   "cell_type": "code",
   "execution_count": 9,
   "id": "8952a2d7-61c1-4c4e-b37a-221745bb82f0",
   "metadata": {},
   "outputs": [],
   "source": [
    "# Split tracks into 3 hour clips, so that life is more manageable\n",
    "# Keep track of which individual is associated to which clip_id\n",
    "\n",
    "data['clip_id'] = 'clip_' + str(0)\n",
    "\n",
    "clip_size_samples = 1728000 # This is 3 hours of recording at 16 Hz\n",
    "current_clip_id = 0\n",
    "clip_ids = []\n",
    "\n",
    "clip_id_to_individual_id = {}\n",
    "for individual in individuals:\n",
    "    indices = data[data['Bear'] == individual].index\n",
    "    x = 0\n",
    "    while x< len(indices):\n",
    "        selected = indices[x : x +clip_size_samples]\n",
    "        data.loc[selected, 'clip_id'] = 'clip_' + str(current_clip_id)\n",
    "        clip_ids.append('clip_' + str(current_clip_id))\n",
    "        clip_id_to_individual_id['clip_' + str(current_clip_id)] = individual\n",
    "        current_clip_id += 1\n",
    "        x += clip_size_samples"
   ]
  },
  {
   "cell_type": "code",
   "execution_count": 10,
   "id": "7ea20959-639e-4f2c-8efa-945516302110",
   "metadata": {},
   "outputs": [],
   "source": [
    "## Integer codes for individuals\n",
    "\n",
    "dataset_metadata['individual_ids'] = individuals # There are 6 individuals with tag data\n",
    "dataset_metadata['clip_id_to_individual_id'] = clip_id_to_individual_id"
   ]
  },
  {
   "cell_type": "code",
   "execution_count": 11,
   "id": "b719e122-9b2d-4fb1-a519-36f58a545c0c",
   "metadata": {},
   "outputs": [
    {
     "name": "stdout",
     "output_type": "stream",
     "text": [
      "[5, 6, 7]\n",
      "[3]\n",
      "[3, 5, 6, 7]\n",
      "[8, 9]\n"
     ]
    }
   ],
   "source": [
    "# Set up data splits by individual\n",
    "\n",
    "test_proportion = .34\n",
    "val_proportion = .2\n",
    "num_individuals = len(individuals)\n",
    "\n",
    "test_num_individuals = int(test_proportion * num_individuals)\n",
    "val_num_individuals = int(val_proportion * num_individuals)\n",
    "\n",
    "rng = np.random.default_rng(609)\n",
    "test_individuals = list(rng.choice(individuals, size = test_num_individuals, replace = False))\n",
    "test_individuals.sort()\n",
    "\n",
    "dev_individuals = individuals.copy()\n",
    "for i in test_individuals:\n",
    "    dev_individuals.remove(i)\n",
    "    \n",
    "val_individuals = list(rng.choice(dev_individuals, size = val_num_individuals, replace = False))\n",
    "val_individuals.sort()\n",
    "    \n",
    "train_individuals = dev_individuals.copy()\n",
    "for i in val_individuals:\n",
    "    train_individuals.remove(i)\n",
    "    \n",
    "print(train_individuals)\n",
    "print(val_individuals)\n",
    "print(dev_individuals)\n",
    "print(test_individuals)"
   ]
  },
  {
   "cell_type": "code",
   "execution_count": 12,
   "id": "ed6d55ef-3574-4052-9506-6c2d9af412cf",
   "metadata": {},
   "outputs": [],
   "source": [
    "# Set up clip ids by split\n",
    "\n",
    "test_clip_ids = []\n",
    "train_clip_ids = []\n",
    "val_clip_ids = []\n",
    "dev_clip_ids = []\n",
    "for clip_id in clip_ids:\n",
    "    individual = clip_id_to_individual_id[clip_id]\n",
    "    if individual in train_individuals:\n",
    "        train_clip_ids.append(clip_id)\n",
    "        dev_clip_ids.append(clip_id)\n",
    "    elif individual in val_individuals:\n",
    "        val_clip_ids.append(clip_id)\n",
    "        dev_clip_ids.append(clip_id)\n",
    "    elif individual in test_individuals:\n",
    "        test_clip_ids.append(clip_id)\n",
    "    \n",
    "train_clip_ids.sort()\n",
    "val_clip_ids.sort()\n",
    "dev_clip_ids.sort()\n",
    "test_clip_ids.sort()\n",
    "    \n",
    "dataset_metadata['clip_ids'] = clip_ids\n",
    "dataset_metadata['train_clip_ids'] = train_clip_ids\n",
    "dataset_metadata['test_clip_ids'] = test_clip_ids\n",
    "dataset_metadata['val_clip_ids'] = val_clip_ids\n",
    "dataset_metadata['dev_clip_ids'] = dev_clip_ids"
   ]
  },
  {
   "cell_type": "markdown",
   "id": "3fca914b-f4d0-4265-b18c-71cd7aca2dc5",
   "metadata": {},
   "source": [
    "## Create dataset-level metadata"
   ]
  },
  {
   "cell_type": "code",
   "execution_count": 13,
   "id": "b9343516-5a19-4882-9e32-1ef628a49667",
   "metadata": {},
   "outputs": [],
   "source": [
    "# for individual in individuals:\n",
    "#     print(annotations[annotations['Bear'] == individual]['Behavior'].value_counts())"
   ]
  },
  {
   "cell_type": "code",
   "execution_count": 14,
   "id": "7ac34de9-3853-44e0-ae8c-2b7bed24f72e",
   "metadata": {},
   "outputs": [],
   "source": [
    "# Favor labels which are long enough in duration to last for the annotation period, and which are abundant\n",
    "\n",
    "obs_beh_to_beh_name = {\n",
    "    'laying' : 'rest',\n",
    "    'walking' : 'walk',\n",
    "    'mixed' : 'unknown',\n",
    "    'adjusting' : 'unknown', \n",
    "    'sitting or standing' : 'rest',\n",
    "    'head shake' : 'head_shake',\n",
    "    'sitting or laying' : 'rest',\n",
    "    'rolling in snow' : 'roll',\n",
    "    'unknown' : 'unknown',\n",
    "    'eating' : 'eat',\n",
    "    'digging' : 'dig',\n",
    "    'grooming' : 'groom',\n",
    "    'interacting' : 'unknown',\n",
    "    'smelling snow' : 'unknown',\n",
    "    'swimming' : 'swim',\n",
    "    'running' : 'run',\n",
    "    'eating snow' : 'eat',\n",
    "    'pouncing' : 'pounce',\n",
    "    'standing' : 'rest',\n",
    "    'running and walking' : 'unknown',\n",
    "    'carrying carcass' : 'unknown',\n",
    "    'breeding' : 'unknown',\n",
    "    'rubbing' : 'unknown',\n",
    "    'jumping' : 'unknown',\n",
    "    'breaking into liar' : 'unknown',\n",
    "    'sticking head out of water' : 'unknown',\n",
    "    'moving ice' : 'unknown',\n",
    "    'catches seal' : 'unknown',\n",
    "    'biting seal' : 'unknown',\n",
    "    'crawling through ice cavern' : 'unknown',\n",
    "    'sticking head into water' : 'unknown',\n",
    "    'hauling out of water' : 'unknown',\n",
    "    'standing up' : 'unknown',\n",
    "    'standing ' : 'rest'\n",
    "}"
   ]
  },
  {
   "cell_type": "code",
   "execution_count": 15,
   "id": "444a3dc3-dfb0-4907-833e-8caf3eb4d88d",
   "metadata": {},
   "outputs": [
    {
     "name": "stdout",
     "output_type": "stream",
     "text": [
      "['unknown', 'dig', 'eat', 'groom', 'head_shake', 'pounce', 'rest', 'roll', 'run', 'swim', 'walk']\n"
     ]
    }
   ],
   "source": [
    "## Integer codes for specific behaviors\n",
    "\n",
    "beh_names = sorted(set([obs_beh_to_beh_name[k] for k in obs_beh_to_beh_name]))\n",
    "beh_names.remove('unknown')\n",
    "beh_names.insert(0, 'unknown')\n",
    "\n",
    "print(beh_names)\n",
    "\n",
    "dataset_metadata['label_names'] = beh_names\n",
    "\n",
    "beh_str_to_int = {name : i for i, name in enumerate(beh_names)}\n",
    "beh_int_to_str = {i : name for i, name in enumerate(beh_names)}"
   ]
  },
  {
   "cell_type": "code",
   "execution_count": 16,
   "id": "f438d48f-0596-4a58-8669-358c9a4cec2d",
   "metadata": {},
   "outputs": [],
   "source": [
    "## clip_data column names\n",
    "\n",
    "clip_column_names = ['AccX', 'AccY', 'AccZ', 'StaticAccX', 'StaticAccY', 'StaticAccZ', 'Wetdry', 'individual_id', 'label']\n",
    "dataset_metadata['clip_column_names'] = clip_column_names"
   ]
  },
  {
   "cell_type": "code",
   "execution_count": 17,
   "id": "a560ecfd-2ff8-4aff-a58c-76bb31200b86",
   "metadata": {},
   "outputs": [],
   "source": [
    "## Save off dataset level metadata\n",
    "\n",
    "dataset_metadata_fp = os.path.join(formatted_data_dir, 'dataset_metadata.yaml')\n",
    "\n",
    "with open(dataset_metadata_fp, 'w') as file:\n",
    "    yaml.dump(dataset_metadata, file)"
   ]
  },
  {
   "cell_type": "code",
   "execution_count": 18,
   "id": "9181f651-b141-4e91-bfd4-a4a25f5a10c9",
   "metadata": {},
   "outputs": [
    {
     "data": {
      "text/plain": [
       "32458"
      ]
     },
     "execution_count": 18,
     "metadata": {},
     "output_type": "execute_result"
    }
   ],
   "source": [
    "# how many annotations?\n",
    "len(annotations[annotations['Bear'].isin(individuals)])"
   ]
  },
  {
   "cell_type": "markdown",
   "id": "f964b042-2a2b-4690-bdd1-1685991ca77f",
   "metadata": {},
   "source": [
    "## Format Clip Data"
   ]
  },
  {
   "cell_type": "code",
   "execution_count": 19,
   "id": "a81e0e3f-4b1b-4957-a6f9-aca4601efe13",
   "metadata": {},
   "outputs": [],
   "source": [
    "# add annotations to data\n",
    "\n",
    "annotations['Datetime_behavior_starts'] = pd.to_datetime(annotations['Datetime_behavior_starts'])\n",
    "annotations['Datetime_behavior_ends'] = pd.to_datetime(annotations['Datetime_behavior_ends'])\n",
    "data['Datetime'] = pd.to_datetime(data['Datetime'])"
   ]
  },
  {
   "cell_type": "code",
   "execution_count": 20,
   "id": "6170da35-8a0d-4868-87bf-606398543634",
   "metadata": {},
   "outputs": [],
   "source": [
    "# use butterworth filter to extract low and high frequency components\n",
    "def extract_static(series, low_cutoff_freq):\n",
    "    # extract static component\n",
    "    sos = signal.butter(10, low_cutoff_freq, 'low', fs=sr, output='sos')\n",
    "    low_passed_series = signal.sosfilt(sos, series)\n",
    "    remaining_series = series - low_passed_series\n",
    "    return low_passed_series, remaining_series"
   ]
  },
  {
   "cell_type": "code",
   "execution_count": 21,
   "id": "7db02b94-6e8c-4469-afa6-c3739bb031a5",
   "metadata": {},
   "outputs": [],
   "source": [
    "# Convenience function to detect nans.\n",
    "def nan_helper(y):\n",
    "    return np.isnan(y), lambda z: z.nonzero()[0]\n",
    "\n",
    "#Interpolates all nan values of given array\n",
    "def interpolate_nan(y):\n",
    "    nans, x= nan_helper(y)\n",
    "    y[nans]= np.interp(x(nans), x(~nans), y[~nans])\n",
    "    return y"
   ]
  },
  {
   "cell_type": "code",
   "execution_count": 22,
   "id": "c7bd7e0b-68ed-4814-9977-284f8877a143",
   "metadata": {},
   "outputs": [
    {
     "name": "stdout",
     "output_type": "stream",
     "text": [
      "adding annotations for individual 3\n"
     ]
    },
    {
     "name": "stderr",
     "output_type": "stream",
     "text": [
      "100%|██████████| 1190/1190 [03:01<00:00,  6.57it/s]\n"
     ]
    },
    {
     "name": "stdout",
     "output_type": "stream",
     "text": [
      "processing clips for individual 3\n"
     ]
    },
    {
     "name": "stderr",
     "output_type": "stream",
     "text": [
      "100%|██████████| 47/47 [02:27<00:00,  3.13s/it]\n"
     ]
    },
    {
     "name": "stdout",
     "output_type": "stream",
     "text": [
      "adding annotations for individual 5\n"
     ]
    },
    {
     "name": "stderr",
     "output_type": "stream",
     "text": [
      "100%|██████████| 8051/8051 [21:25<00:00,  6.26it/s]\n"
     ]
    },
    {
     "name": "stdout",
     "output_type": "stream",
     "text": [
      "processing clips for individual 5\n"
     ]
    },
    {
     "name": "stderr",
     "output_type": "stream",
     "text": [
      "100%|██████████| 47/47 [02:39<00:00,  3.39s/it]\n"
     ]
    },
    {
     "name": "stdout",
     "output_type": "stream",
     "text": [
      "adding annotations for individual 6\n"
     ]
    },
    {
     "name": "stderr",
     "output_type": "stream",
     "text": [
      "100%|██████████| 4145/4145 [11:19<00:00,  6.10it/s]\n"
     ]
    },
    {
     "name": "stdout",
     "output_type": "stream",
     "text": [
      "processing clips for individual 6\n"
     ]
    },
    {
     "name": "stderr",
     "output_type": "stream",
     "text": [
      "100%|██████████| 47/47 [02:52<00:00,  3.67s/it]\n"
     ]
    },
    {
     "name": "stdout",
     "output_type": "stream",
     "text": [
      "adding annotations for individual 7\n"
     ]
    },
    {
     "name": "stderr",
     "output_type": "stream",
     "text": [
      "100%|██████████| 4987/4987 [14:39<00:00,  5.67it/s]\n"
     ]
    },
    {
     "name": "stdout",
     "output_type": "stream",
     "text": [
      "processing clips for individual 7\n"
     ]
    },
    {
     "name": "stderr",
     "output_type": "stream",
     "text": [
      "100%|██████████| 47/47 [03:02<00:00,  3.89s/it]\n"
     ]
    },
    {
     "name": "stdout",
     "output_type": "stream",
     "text": [
      "adding annotations for individual 8\n"
     ]
    },
    {
     "name": "stderr",
     "output_type": "stream",
     "text": [
      "100%|██████████| 7561/7561 [16:05<00:00,  7.83it/s]\n"
     ]
    },
    {
     "name": "stdout",
     "output_type": "stream",
     "text": [
      "processing clips for individual 8\n"
     ]
    },
    {
     "name": "stderr",
     "output_type": "stream",
     "text": [
      "100%|██████████| 47/47 [02:33<00:00,  3.26s/it]\n"
     ]
    },
    {
     "name": "stdout",
     "output_type": "stream",
     "text": [
      "adding annotations for individual 9\n"
     ]
    },
    {
     "name": "stderr",
     "output_type": "stream",
     "text": [
      "100%|██████████| 6524/6524 [14:50<00:00,  7.33it/s]\n"
     ]
    },
    {
     "name": "stdout",
     "output_type": "stream",
     "text": [
      "processing clips for individual 9\n"
     ]
    },
    {
     "name": "stderr",
     "output_type": "stream",
     "text": [
      "100%|██████████| 47/47 [02:21<00:00,  3.02s/it]\n"
     ]
    }
   ],
   "source": [
    "#data['beh_label'] = 'unknown'\n",
    "data['beh_int_label'] = 0\n",
    "\n",
    "for individual in individuals:\n",
    "    data_sub = data[data['Bear'] == individual].copy()\n",
    "    annotations_sub = annotations[annotations['Bear'] == individual]\n",
    "    #add annotations for that individual\n",
    "    print(\"adding annotations for individual %d\" % individual)\n",
    "    for i, row in tqdm.tqdm(annotations_sub.iterrows(), total = len(annotations_sub)):\n",
    "        start = row['Datetime_behavior_starts']\n",
    "        end = row['Datetime_behavior_ends']\n",
    "        obs_beh = row['Behavior']\n",
    "        selected = data_sub[(data_sub['Datetime'] >= start) & (data_sub['Datetime'] <= end)].index\n",
    "        #data.loc[selected, 'beh_label'] = obs_beh_to_beh_name[obs_beh]\n",
    "        data_sub.loc[selected, 'beh_int_label'] = beh_str_to_int[obs_beh_to_beh_name[obs_beh]]\n",
    "        \n",
    "    # For each clip, create and save the data in the correct format\n",
    "    print(\"processing clips for individual %d\" % individual)\n",
    "    for clip_id in tqdm.tqdm(clip_ids):\n",
    "        individual_id = clip_id_to_individual_id[clip_id]\n",
    "        if individual_id != individual:\n",
    "            continue\n",
    "            \n",
    "        # load features\n",
    "        data_sub_clip = data_sub[data_sub['clip_id'] == clip_id].copy()\n",
    "        features = np.array(data_sub_clip[['Int_aX', 'Int_aY', 'Int_aZ']])\n",
    "        static_features = np.zeros_like(features)\n",
    "        static_components = np.zeros((np.shape(features)[0], 3))\n",
    "        clip_dur_samples = np.shape(features)[0]\n",
    "\n",
    "        # correct for gravity\n",
    "        for i in range(3): #first 3 channels are acceleration\n",
    "            to_correct = features[:, i]\n",
    "            static, corrected = extract_static(to_correct, 0.3)\n",
    "            features[:, i ] = corrected\n",
    "            static_features[:, i] = static\n",
    "            \n",
    "        # Water conductivity\n",
    "        wetdry = interpolate_nan(np.array(data_sub_clip['Wetdry']))\n",
    "        wetdry = np.expand_dims(wetdry, axis = -1)\n",
    "\n",
    "        per_frame_annotations = np.array(data_sub_clip['beh_int_label'])\n",
    "        per_frame_annotations = np.expand_dims(per_frame_annotations, axis = -1)\n",
    "\n",
    "        # insert individual id\n",
    "\n",
    "        per_frame_individual_id = np.full_like(per_frame_annotations, individual_id)\n",
    "\n",
    "        clip_data = np.concatenate([features, static_features, wetdry, per_frame_individual_id, per_frame_annotations], axis = 1)\n",
    "\n",
    "        clip_data_fp = os.path.join(clip_data_dir, clip_id + '.csv')\n",
    "        np.savetxt(clip_data_fp, clip_data, delimiter=\",\")"
   ]
  },
  {
   "cell_type": "code",
   "execution_count": 23,
   "id": "e9bba2cc-6936-4b9d-ae10-9028ba2da696",
   "metadata": {},
   "outputs": [
    {
     "name": "stdout",
     "output_type": "stream",
     "text": [
      "total duration is 4767180.375000 seconds, i.e. 1324.216771 hours\n"
     ]
    }
   ],
   "source": [
    "total_dur_sec = len(data) / sr\n",
    "total_dur_hours = total_dur_sec / 3600\n",
    "print(\"total duration is %f seconds, i.e. %f hours\" % (total_dur_sec, total_dur_hours))"
   ]
  },
  {
   "cell_type": "code",
   "execution_count": 24,
   "id": "ad0df782-6131-422c-b9bd-99710a58bf1a",
   "metadata": {},
   "outputs": [
    {
     "data": {
      "text/plain": [
       "0     9042825\n",
       "6     2449571\n",
       "10     433088\n",
       "2       93753\n",
       "7       36084\n",
       "4       11923\n",
       "1        8983\n",
       "9        7286\n",
       "3        3476\n",
       "8        1282\n",
       "5        1010\n",
       "Name: beh_int_label, dtype: int64"
      ]
     },
     "execution_count": 24,
     "metadata": {},
     "output_type": "execute_result"
    }
   ],
   "source": [
    "data_sub['beh_int_label'].value_counts()"
   ]
  },
  {
   "cell_type": "markdown",
   "id": "c9844300-e520-49a9-b975-210caa20a21f",
   "metadata": {},
   "source": [
    "## Check it all looks ok"
   ]
  },
  {
   "cell_type": "code",
   "execution_count": 33,
   "id": "717812e0-af4e-4bd0-96db-5ce83ece61c3",
   "metadata": {},
   "outputs": [],
   "source": [
    "clip_id = clip_ids[4]\n",
    "clip_data_fp = os.path.join(clip_data_dir, clip_id + '.csv')\n",
    "data = np.genfromtxt(clip_data_fp, delimiter = ',')"
   ]
  },
  {
   "cell_type": "code",
   "execution_count": 34,
   "id": "77164f71-4257-43b1-ae76-49f1438c836e",
   "metadata": {},
   "outputs": [
    {
     "data": {
      "text/plain": [
       "(1728000, 9)"
      ]
     },
     "execution_count": 34,
     "metadata": {},
     "output_type": "execute_result"
    }
   ],
   "source": [
    "np.shape(data)"
   ]
  },
  {
   "cell_type": "code",
   "execution_count": 35,
   "id": "b1d243b7-ec2e-4bc5-8239-400cc7241953",
   "metadata": {},
   "outputs": [
    {
     "data": {
      "image/png": "[encoded data removed]",
      "text/plain": [
       "<Figure size 432x288 with 1 Axes>"
      ]
     },
     "metadata": {
      "needs_background": "light"
     },
     "output_type": "display_data"
    }
   ],
   "source": [
    "for i in range(np.shape(data)[1]):\n",
    "    plt.plot(data[1000:1100, i])"
   ]
  },
  {
   "cell_type": "code",
   "execution_count": 36,
   "id": "ff4e9c59-9f68-4ee9-9cfd-0d1ca21b5900",
   "metadata": {},
   "outputs": [
    {
     "data": {
      "text/plain": [
       "[<matplotlib.lines.Line2D at 0x7f551ff60850>]"
      ]
     },
     "execution_count": 36,
     "metadata": {},
     "output_type": "execute_result"
    },
    {
     "data": {
      "image/png": "[encoded data removed]",
      "text/plain": [
       "<Figure size 432x288 with 1 Axes>"
      ]
     },
     "metadata": {
      "needs_background": "light"
     },
     "output_type": "display_data"
    }
   ],
   "source": [
    "plt.plot(data[:, 6])"
   ]
  },
  {
   "cell_type": "markdown",
   "id": "80db1722-5a4d-4ced-ac90-58828ec4af5e",
   "metadata": {},
   "source": [
    "## Plot Dataset Summary"
   ]
  },
  {
   "cell_type": "code",
   "execution_count": 37,
   "id": "c2ddf48f-b53d-465a-86cb-a155259dc0fb",
   "metadata": {},
   "outputs": [],
   "source": [
    "# Count class representation\n",
    "\n",
    "beh_names = dataset_metadata['label_names']\n",
    "train_label_count = {name : 0 for name in beh_names}\n",
    "val_label_count = {name : 0 for name in beh_names}\n",
    "dev_label_count = {name : 0 for name in beh_names}\n",
    "test_label_count = {name : 0 for name in beh_names}\n",
    "\n",
    "for clip_id in clip_ids:\n",
    "    clip_data_fp = os.path.join(clip_data_dir, clip_id + '.csv')\n",
    "    data = pd.read_csv(clip_data_fp, delimiter = ',', header = None)\n",
    "    counts = data[data.keys()[-1]].astype(int).value_counts()\n",
    "    for key in counts.keys():\n",
    "        name = beh_names[key]\n",
    "        if clip_id in dataset_metadata['train_clip_ids']:\n",
    "            train_label_count[name] += counts[key]\n",
    "            dev_label_count[name] += counts[key]\n",
    "        elif clip_id in dataset_metadata['val_clip_ids']:\n",
    "            val_label_count[name] += counts[key]\n",
    "            dev_label_count[name] += counts[key]\n",
    "        elif clip_id in dataset_metadata['test_clip_ids']:\n",
    "            test_label_count[name] += counts[key]\n",
    "\n",
    "train_label_perc = {name : 0 for name in beh_names}\n",
    "val_label_perc = {name : 0 for name in beh_names}\n",
    "dev_label_perc = {name : 0 for name in beh_names}\n",
    "test_label_perc = {name : 0 for name in beh_names}\n",
    "\n",
    "for name in beh_names[1:]:\n",
    "    train_label_perc[name] = train_label_count[name] / sum([train_label_count[j] for j in beh_names[1:]])\n",
    "    val_label_perc[name] = val_label_count[name] / sum([val_label_count[j] for j in beh_names[1:]])\n",
    "    dev_label_perc[name] = dev_label_count[name] / sum([dev_label_count[j] for j in beh_names[1:]])\n",
    "    test_label_perc[name] = test_label_count[name] / sum([test_label_count[j] for j in beh_names[1:]])"
   ]
  },
  {
   "cell_type": "code",
   "execution_count": 38,
   "id": "9898cb5a-6773-41da-b4e2-bcc6cc5f0fbd",
   "metadata": {},
   "outputs": [
    {
     "data": {
      "image/png": "[encoded data removed]",
      "text/plain": [
       "<Figure size 640x480 with 1 Axes>"
      ]
     },
     "metadata": {
      "needs_background": "light"
     },
     "output_type": "display_data"
    }
   ],
   "source": [
    "# Plot class representation\n",
    "\n",
    "keys = np.arange(len(beh_names))[1:]\n",
    "offset = 0.2\n",
    "width = 0.2\n",
    "plt.figure(figsize=(8, 6), dpi=80)\n",
    "\n",
    "plt.barh(keys - offset, [train_label_perc[beh_names[key]] for key in keys], height=width, align='center', label = 'train')\n",
    "plt.barh(keys, [val_label_perc[beh_names[key]] for key in keys], height=width, align='center', label = 'val')\n",
    "plt.barh(keys + offset, [test_label_perc[beh_names[key]] for key in keys], height=width, align='center', label = 'test')\n",
    "plt.title(\"Class representation across data splits\")\n",
    "plt.yticks(keys, beh_names[1:], fontsize = 7, rotation = 60)\n",
    "plt.xlabel('Percent of known labels')\n",
    "plt.legend()\n",
    "target_fp = os.path.join(formatted_data_dir, 'class_rep.png')\n",
    "\n",
    "plt.savefig(target_fp)\n",
    "plt.show()"
   ]
  },
  {
   "cell_type": "code",
   "execution_count": 39,
   "id": "88dfe3fa-445c-4806-b4b5-88175cf0c7bd",
   "metadata": {},
   "outputs": [
    {
     "data": {
      "image/png": "[encoded data removed]",
      "text/plain": [
       "<Figure size 648x144 with 3 Axes>"
      ]
     },
     "metadata": {},
     "output_type": "display_data"
    }
   ],
   "source": [
    "# Pie chart, of known vs unknown samples \n",
    "\n",
    "labels = 'Known', 'Unknown'\n",
    "train_sizes = [sum([train_label_count[j] for j in beh_names[1:]]), train_label_count['unknown']]\n",
    "val_sizes = [sum([val_label_count[j] for j in beh_names[1:]]), val_label_count['unknown']]\n",
    "test_sizes = [sum([test_label_count[j] for j in beh_names[1:]]), test_label_count['unknown']]\n",
    "\n",
    "fig, ax = plt.subplots(1,3, figsize = (9,2))\n",
    "plt.title(\"blah\")\n",
    "\n",
    "ax[0].pie(train_sizes, labels=labels, autopct='%1.1f%%', startangle=90)\n",
    "ax[0].axis('equal')  # Equal aspect ratio ensures that pie is drawn as a circle.\n",
    "ax[0].set_title('Train')\n",
    "\n",
    "ax[1].pie(val_sizes, labels=labels, autopct='%1.1f%%', startangle=90)\n",
    "ax[1].axis('equal')  # Equal aspect ratio ensures that pie is drawn as a circle.\n",
    "ax[1].set_title('Val')\n",
    "\n",
    "ax[2].pie(test_sizes, labels=labels, autopct='%1.1f%%', startangle=90)\n",
    "ax[2].axis('equal')  # Equal aspect ratio ensures that pie is drawn as a circle.\n",
    "ax[2].set_title('Test')\n",
    "\n",
    "target_fp = os.path.join(formatted_data_dir, 'perc_known.png')\n",
    "\n",
    "plt.savefig(target_fp)\n",
    "\n",
    "plt.show()\n"
   ]
  },
  {
   "cell_type": "code",
   "execution_count": null,
   "id": "2a8cb4ff-ca4b-4818-bd5c-899c68d4ee56",
   "metadata": {},
   "outputs": [],
   "source": []
  },
  {
   "cell_type": "code",
   "execution_count": null,
   "id": "25a4416d-2ce4-4c63-8f6e-6cb9f519425d",
   "metadata": {},
   "outputs": [],
   "source": []
  }
 ],
 "metadata": {
  "environment": {
   "kernel": "python3",
   "name": "pytorch-gpu.1-9.m82",
   "type": "gcloud",
   "uri": "gcr.io/deeplearning-platform-release/pytorch-gpu.1-9:m82"
  },
  "kernelspec": {
   "display_name": "Python 3",
   "language": "python",
   "name": "python3"
  },
  "language_info": {
   "codemirror_mode": {
    "name": "ipython",
    "version": 3
   },
   "file_extension": ".py",
   "mimetype": "text/x-python",
   "name": "python",
   "nbconvert_exporter": "python",
   "pygments_lexer": "ipython3",
   "version": "3.7.10"
  }
 },
 "nbformat": 4,
 "nbformat_minor": 5
}
