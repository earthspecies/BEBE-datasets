{
 "cells": [
  {
   "cell_type": "markdown",
   "id": "86ce8245-b923-42ba-b1cf-b0a8bdb804d4",
   "metadata": {},
   "source": [
    "# Notebook to format data from \"Metabolic Rate, Body Composition, Foraging Success, Behavior, and GPS Locations of Female Polar Bears (Ursus maritimus), Beaufort Sea, Spring, 2014-2016 and Resting Energetics of an Adult Female Polar Bear: U.S. Geological Survey data release\", Pagano (2018).\n",
    "\n",
    "Data can be found [here](https://alaska.usgs.gov/products/data.php?dataid=174).\n",
    "\n",
    "See also [this paper](https://www.int-res.com/articles/esr2017/32/n032p019.pdf).\n",
    "\n",
    "Some awesome [video footage](https://www.youtube.com/watch?v=qXQBjZLNYT0)"
   ]
  },
  {
   "cell_type": "markdown",
   "id": "77461baa-2d89-4ddf-b8b9-283f19b3313e",
   "metadata": {},
   "source": [
    "## Setup"
   ]
  },
  {
   "cell_type": "code",
   "execution_count": 1,
   "id": "a9cd11e9-258b-4304-a21d-f826f276b73b",
   "metadata": {},
   "outputs": [],
   "source": [
    "# Outputs:\n",
    "# formatted dataset directory\n",
    "# dataset_metadata (yaml), includes\n",
    "## sample_rate\n",
    "## dataset_label_names (list)\n",
    "## dataset_feature_names (list)\n",
    "## clip_ids (list)\n",
    "# clip_data (directory), includes\n",
    "## data_files (multiple files)"
   ]
  },
  {
   "cell_type": "code",
   "execution_count": 2,
   "id": "7470e077-e978-495a-b349-27cc5a6b2a40",
   "metadata": {},
   "outputs": [],
   "source": [
    "%load_ext autoreload\n",
    "%autoreload 2"
   ]
  },
  {
   "cell_type": "code",
   "execution_count": 3,
   "id": "ec388900-f0ab-4e41-a56b-9597e4f4911f",
   "metadata": {},
   "outputs": [],
   "source": [
    "import os\n",
    "import numpy as np\n",
    "import pandas as pd\n",
    "import h5py\n",
    "from matplotlib import pyplot as plt\n",
    "import glob\n",
    "import yaml\n",
    "import scipy.signal as signal\n",
    "import datetime\n",
    "import tqdm"
   ]
  },
  {
   "cell_type": "code",
   "execution_count": 4,
   "id": "6bc728a2-a91e-4da2-abea-4b57ceb4e818",
   "metadata": {},
   "outputs": [],
   "source": [
    "# Specify data filepaths\n",
    "\n",
    "raw_data_dir = '/home/jupyter/behavior_data_local/data/raw/pagano_bears'\n",
    "formatted_data_dir = '/home/jupyter/behavior_data_local/data/formatted/pagano_bears'\n",
    "\n",
    "if not os.path.exists(formatted_data_dir):\n",
    "    os.makedirs(formatted_data_dir)\n",
    "    \n",
    "features_fps = os.path.join(raw_data_dir, 'PolarBear_archival_logger_data_southernBeaufortSea_2014_2016_revised.csv')\n",
    "annotations_fps = os.path.join(raw_data_dir, 'PolarBear_video-derived_behaviors_southernBeaufortSea_2014_2016_revised_w_ACC_corrected_times.csv')\n",
    "\n",
    "clip_data_dir = os.path.join(formatted_data_dir, 'clip_data')\n",
    "if not os.path.exists(clip_data_dir):\n",
    "    os.makedirs(clip_data_dir)"
   ]
  },
  {
   "cell_type": "code",
   "execution_count": 5,
   "id": "98f244e7-ac03-48e2-868a-1b7f7dd15fea",
   "metadata": {},
   "outputs": [],
   "source": [
    "# Dataset metadata\n",
    "dataset_metadata = {}\n",
    "sr = 16\n",
    "dataset_metadata['sr'] = sr ## from dataset documentation\n",
    "dataset_metadata['dataset_name'] = 'pagano_bears'"
   ]
  },
  {
   "cell_type": "code",
   "execution_count": 6,
   "id": "3b1891a7-1ff4-4df0-9c00-ecf634c3870a",
   "metadata": {},
   "outputs": [],
   "source": [
    "data = pd.read_csv(features_fps)\n",
    "annotations = pd.read_csv(annotations_fps)"
   ]
  },
  {
   "cell_type": "code",
   "execution_count": 7,
   "id": "7fa104a6-5093-484f-978e-1cb0d65243ee",
   "metadata": {},
   "outputs": [],
   "source": [
    "individuals = sorted(data['Bear'].unique())\n",
    "individuals = [int(x) for x in individuals]"
   ]
  },
  {
   "cell_type": "code",
   "execution_count": 8,
   "id": "ee92f4bf-e469-400e-839c-1939da873bae",
   "metadata": {},
   "outputs": [
    {
     "data": {
      "text/plain": [
       "[3, 5, 6, 7, 8, 9]"
      ]
     },
     "execution_count": 8,
     "metadata": {},
     "output_type": "execute_result"
    }
   ],
   "source": [
    "individuals"
   ]
  },
  {
   "cell_type": "markdown",
   "id": "32181469-4db3-473b-aeb9-4e572327c138",
   "metadata": {},
   "source": [
    "We are going to drop bear 3 from analysis. This bear was recorded in 2014, and the annotations are only at 30 second resolution"
   ]
  },
  {
   "cell_type": "code",
   "execution_count": 9,
   "id": "6e02d3e2-5da6-4351-8774-27f3b4c5bf51",
   "metadata": {},
   "outputs": [
    {
     "data": {
      "text/plain": [
       "[5, 6, 7, 8, 9]"
      ]
     },
     "execution_count": 9,
     "metadata": {},
     "output_type": "execute_result"
    }
   ],
   "source": [
    "data = data[data['Bear'] != 3]\n",
    "individuals.remove(3)\n",
    "individuals"
   ]
  },
  {
   "cell_type": "code",
   "execution_count": 17,
   "id": "8952a2d7-61c1-4c4e-b37a-221745bb82f0",
   "metadata": {},
   "outputs": [],
   "source": [
    "# Split tracks into 3 hour clips, so that life is more manageable\n",
    "# Keep track of which individual is associated to which clip_id\n",
    "\n",
    "data['clip_id'] = 'clip_' + str(0)\n",
    "\n",
    "clip_size_samples = 1728000 # This is 3 hours of recording at 16 Hz\n",
    "current_clip_id = 0\n",
    "clip_ids = []\n",
    "\n",
    "clip_id_to_individual_id = {}\n",
    "for individual in individuals:\n",
    "    indices = data[data['Bear'] == individual].index\n",
    "    x = 0\n",
    "    while x< len(indices):\n",
    "        selected = indices[x : x +clip_size_samples]\n",
    "        data.loc[selected, 'clip_id'] = 'clip_' + str(current_clip_id)\n",
    "        clip_ids.append('clip_' + str(current_clip_id))\n",
    "        clip_id_to_individual_id['clip_' + str(current_clip_id)] = individual\n",
    "        current_clip_id += 1\n",
    "        x += clip_size_samples"
   ]
  },
  {
   "cell_type": "code",
   "execution_count": 18,
   "id": "7ea20959-639e-4f2c-8efa-945516302110",
   "metadata": {},
   "outputs": [],
   "source": [
    "## Integer codes for individuals\n",
    "\n",
    "dataset_metadata['individual_ids'] = individuals # There are 5 individuals with tag data\n",
    "dataset_metadata['clip_id_to_individual_id'] = clip_id_to_individual_id\n",
    "dataset_metadata['clip_ids'] = clip_ids"
   ]
  },
  {
   "cell_type": "code",
   "execution_count": 19,
   "id": "b719e122-9b2d-4fb1-a519-36f58a545c0c",
   "metadata": {},
   "outputs": [
    {
     "name": "stdout",
     "output_type": "stream",
     "text": [
      "{0: [5], 1: [6], 2: [7], 3: [8], 4: [9]}\n",
      "There are 5 individuals\n"
     ]
    }
   ],
   "source": [
    "# Set up data splits: divide individuals across folds for cross validation\n",
    "\n",
    "n_folds = 5\n",
    "dataset_metadata['n_folds'] = n_folds\n",
    "individuals_per_fold = {i : [] for i in range(n_folds)}\n",
    "\n",
    "for pointer, individual in enumerate(individuals):\n",
    "    individuals_per_fold[pointer % n_folds].append(individual)\n",
    "    \n",
    "dataset_metadata['individuals_per_fold'] = individuals_per_fold\n",
    "    \n",
    "print(individuals_per_fold)\n",
    "print(\"There are %d individuals\" % len(individuals))"
   ]
  },
  {
   "cell_type": "code",
   "execution_count": 20,
   "id": "ed6d55ef-3574-4052-9506-6c2d9af412cf",
   "metadata": {},
   "outputs": [],
   "source": [
    "# Set up clip ids \n",
    "\n",
    "clip_ids_per_fold = {i : [] for i in range(n_folds)}\n",
    "for clip_id in clip_ids:\n",
    "    individual = clip_id_to_individual_id[clip_id]\n",
    "    for fold in range(n_folds):\n",
    "        if individual in individuals_per_fold[fold]:\n",
    "            clip_ids_per_fold[fold].append(clip_id)\n",
    "for fold in range(n_folds):\n",
    "    clip_ids_per_fold[fold] = sorted(clip_ids_per_fold[fold])\n",
    "\n",
    "dataset_metadata['clip_ids_per_fold'] = clip_ids_per_fold"
   ]
  },
  {
   "cell_type": "markdown",
   "id": "3fca914b-f4d0-4265-b18c-71cd7aca2dc5",
   "metadata": {},
   "source": [
    "## Create dataset-level metadata"
   ]
  },
  {
   "cell_type": "code",
   "execution_count": 21,
   "id": "b9343516-5a19-4882-9e32-1ef628a49667",
   "metadata": {},
   "outputs": [],
   "source": [
    "# for individual in individuals:\n",
    "#     print(annotations[annotations['Bear'] == individual]['Behavior'].value_counts())"
   ]
  },
  {
   "cell_type": "code",
   "execution_count": 22,
   "id": "7ac34de9-3853-44e0-ae8c-2b7bed24f72e",
   "metadata": {},
   "outputs": [],
   "source": [
    "# Favor labels which are long enough in duration to last for the annotation period, and which are abundant\n",
    "\n",
    "obs_beh_to_beh_name = {\n",
    "    'laying' : 'rest',\n",
    "    'walking' : 'walk',\n",
    "    'mixed' : 'unknown',\n",
    "    'adjusting' : 'unknown', \n",
    "    'sitting or standing' : 'rest',\n",
    "    'head shake' : 'head_shake',\n",
    "    'sitting or laying' : 'rest',\n",
    "    'rolling in snow' : 'roll',\n",
    "    'unknown' : 'unknown',\n",
    "    'eating' : 'eat',\n",
    "    'digging' : 'dig',\n",
    "    'grooming' : 'groom',\n",
    "    'interacting' : 'unknown',\n",
    "    'smelling snow' : 'unknown',\n",
    "    'swimming' : 'swim',\n",
    "    'running' : 'run',\n",
    "    'eating snow' : 'eat',\n",
    "    'pouncing' : 'pounce',\n",
    "    'standing' : 'rest',\n",
    "    'running and walking' : 'unknown',\n",
    "    'carrying carcass' : 'unknown',\n",
    "    'breeding' : 'unknown',\n",
    "    'rubbing' : 'unknown',\n",
    "    'jumping' : 'unknown',\n",
    "    'breaking into liar' : 'unknown',\n",
    "    'sticking head out of water' : 'unknown',\n",
    "    'moving ice' : 'unknown',\n",
    "    'catches seal' : 'unknown',\n",
    "    'biting seal' : 'unknown',\n",
    "    'crawling through ice cavern' : 'unknown',\n",
    "    'sticking head into water' : 'unknown',\n",
    "    'hauling out of water' : 'unknown',\n",
    "    'standing up' : 'unknown',\n",
    "    'standing ' : 'rest',\n",
    "    'standing or sitting' : 'rest',\n",
    "    '#NAME?' : 'unknown'\n",
    "}"
   ]
  },
  {
   "cell_type": "code",
   "execution_count": 23,
   "id": "444a3dc3-dfb0-4907-833e-8caf3eb4d88d",
   "metadata": {},
   "outputs": [
    {
     "name": "stdout",
     "output_type": "stream",
     "text": [
      "['unknown', 'dig', 'eat', 'groom', 'head_shake', 'pounce', 'rest', 'roll', 'run', 'swim', 'walk']\n"
     ]
    }
   ],
   "source": [
    "## Integer codes for specific behaviors\n",
    "\n",
    "beh_names = sorted(set([obs_beh_to_beh_name[k] for k in obs_beh_to_beh_name]))\n",
    "beh_names.remove('unknown')\n",
    "beh_names.insert(0, 'unknown')\n",
    "\n",
    "print(beh_names)\n",
    "\n",
    "dataset_metadata['label_names'] = beh_names\n",
    "\n",
    "beh_str_to_int = {name : i for i, name in enumerate(beh_names)}\n",
    "beh_int_to_str = {i : name for i, name in enumerate(beh_names)}"
   ]
  },
  {
   "cell_type": "code",
   "execution_count": 24,
   "id": "f438d48f-0596-4a58-8669-358c9a4cec2d",
   "metadata": {},
   "outputs": [],
   "source": [
    "## clip_data column names\n",
    "\n",
    "clip_column_names = ['AccX', 'AccY', 'AccZ', 'Wetdry', 'individual_id', 'label']\n",
    "dataset_metadata['clip_column_names'] = clip_column_names"
   ]
  },
  {
   "cell_type": "code",
   "execution_count": 25,
   "id": "a560ecfd-2ff8-4aff-a58c-76bb31200b86",
   "metadata": {},
   "outputs": [],
   "source": [
    "## Save off dataset level metadata\n",
    "\n",
    "dataset_metadata_fp = os.path.join(formatted_data_dir, 'dataset_metadata.yaml')\n",
    "\n",
    "with open(dataset_metadata_fp, 'w') as file:\n",
    "    yaml.dump(dataset_metadata, file)"
   ]
  },
  {
   "cell_type": "code",
   "execution_count": 26,
   "id": "9181f651-b141-4e91-bfd4-a4a25f5a10c9",
   "metadata": {},
   "outputs": [
    {
     "data": {
      "text/plain": [
       "31288"
      ]
     },
     "execution_count": 26,
     "metadata": {},
     "output_type": "execute_result"
    }
   ],
   "source": [
    "# how many annotations?\n",
    "len(annotations[annotations['Bear'].isin(individuals)])"
   ]
  },
  {
   "cell_type": "markdown",
   "id": "f964b042-2a2b-4690-bdd1-1685991ca77f",
   "metadata": {},
   "source": [
    "## Format Clip Data"
   ]
  },
  {
   "cell_type": "code",
   "execution_count": 27,
   "id": "a81e0e3f-4b1b-4957-a6f9-aca4601efe13",
   "metadata": {},
   "outputs": [],
   "source": [
    "# add annotations to data\n",
    "\n",
    "annotations['ACC_corrected_Datetime_behavior_start'] = pd.to_datetime(annotations['ACC_corrected_Datetime_behavior_start'])\n",
    "annotations['ACC_corrected_Datetime_behavior_end'] = pd.to_datetime(annotations['ACC_corrected_Datetime_behavior_end'])\n",
    "data['Datetime'] = pd.to_datetime(data['Datetime'])"
   ]
  },
  {
   "cell_type": "code",
   "execution_count": 28,
   "id": "7db02b94-6e8c-4469-afa6-c3739bb031a5",
   "metadata": {},
   "outputs": [],
   "source": [
    "# Convenience function to detect nans.\n",
    "def nan_helper(y):\n",
    "    return np.isnan(y), lambda z: z.nonzero()[0]\n",
    "\n",
    "#Interpolates all nan values of given array\n",
    "def interpolate_nan(y):\n",
    "    nans, x= nan_helper(y)\n",
    "    y[nans]= np.interp(x(nans), x(~nans), y[~nans])\n",
    "    return y"
   ]
  },
  {
   "cell_type": "code",
   "execution_count": 29,
   "id": "c7bd7e0b-68ed-4814-9977-284f8877a143",
   "metadata": {},
   "outputs": [
    {
     "name": "stdout",
     "output_type": "stream",
     "text": [
      "adding annotations for individual 5\n"
     ]
    },
    {
     "name": "stderr",
     "output_type": "stream",
     "text": [
      "100%|██████████| 8061/8061 [18:55<00:00,  7.10it/s]\n"
     ]
    },
    {
     "name": "stdout",
     "output_type": "stream",
     "text": [
      "processing clips for individual 5\n"
     ]
    },
    {
     "name": "stderr",
     "output_type": "stream",
     "text": [
      "100%|██████████| 39/39 [01:29<00:00,  2.29s/it]\n"
     ]
    },
    {
     "name": "stdout",
     "output_type": "stream",
     "text": [
      "adding annotations for individual 6\n"
     ]
    },
    {
     "name": "stderr",
     "output_type": "stream",
     "text": [
      "100%|██████████| 4145/4145 [10:35<00:00,  6.52it/s]\n"
     ]
    },
    {
     "name": "stdout",
     "output_type": "stream",
     "text": [
      "processing clips for individual 6\n"
     ]
    },
    {
     "name": "stderr",
     "output_type": "stream",
     "text": [
      "100%|██████████| 39/39 [01:30<00:00,  2.33s/it]\n"
     ]
    },
    {
     "name": "stdout",
     "output_type": "stream",
     "text": [
      "adding annotations for individual 7\n"
     ]
    },
    {
     "name": "stderr",
     "output_type": "stream",
     "text": [
      "100%|██████████| 4997/4997 [13:42<00:00,  6.07it/s]\n"
     ]
    },
    {
     "name": "stdout",
     "output_type": "stream",
     "text": [
      "processing clips for individual 7\n"
     ]
    },
    {
     "name": "stderr",
     "output_type": "stream",
     "text": [
      "100%|██████████| 39/39 [01:42<00:00,  2.62s/it]\n"
     ]
    },
    {
     "name": "stdout",
     "output_type": "stream",
     "text": [
      "adding annotations for individual 8\n"
     ]
    },
    {
     "name": "stderr",
     "output_type": "stream",
     "text": [
      "100%|██████████| 7561/7561 [15:41<00:00,  8.03it/s]\n"
     ]
    },
    {
     "name": "stdout",
     "output_type": "stream",
     "text": [
      "processing clips for individual 8\n"
     ]
    },
    {
     "name": "stderr",
     "output_type": "stream",
     "text": [
      "100%|██████████| 39/39 [01:12<00:00,  1.86s/it]\n"
     ]
    },
    {
     "name": "stdout",
     "output_type": "stream",
     "text": [
      "adding annotations for individual 9\n"
     ]
    },
    {
     "name": "stderr",
     "output_type": "stream",
     "text": [
      "100%|██████████| 6524/6524 [15:37<00:00,  6.96it/s]\n"
     ]
    },
    {
     "name": "stdout",
     "output_type": "stream",
     "text": [
      "processing clips for individual 9\n"
     ]
    },
    {
     "name": "stderr",
     "output_type": "stream",
     "text": [
      "100%|██████████| 39/39 [01:43<00:00,  2.66s/it]\n"
     ]
    }
   ],
   "source": [
    "#data['beh_label'] = 'unknown'\n",
    "data['beh_int_label'] = 0\n",
    "\n",
    "total_dur_samples = 0\n",
    "total_annotation_dur_samples = 0\n",
    "\n",
    "for individual in individuals:\n",
    "    data_sub = data[data['Bear'] == individual].copy()\n",
    "    annotations_sub = annotations[annotations['Bear'] == individual]\n",
    "    #add annotations for that individual\n",
    "    print(\"adding annotations for individual %d\" % individual)\n",
    "    for i, row in tqdm.tqdm(annotations_sub.iterrows(), total = len(annotations_sub)):\n",
    "        # Add annotations, accounting for synchronization\n",
    "        # offset = time_corrections[individual](row['ACC_corrected_Datetime_behavior_start'])\n",
    "        start = row['ACC_corrected_Datetime_behavior_start'] #+ offset\n",
    "        end = row['ACC_corrected_Datetime_behavior_end'] #+ offset\n",
    "        obs_beh = row['Behavior']\n",
    "        selected = data_sub[(data_sub['Datetime'] >= start) & (data_sub['Datetime'] <= end)].index\n",
    "        #data.loc[selected, 'beh_label'] = obs_beh_to_beh_name[obs_beh]\n",
    "        data_sub.loc[selected, 'beh_int_label'] = beh_str_to_int[obs_beh_to_beh_name[obs_beh]]\n",
    "        \n",
    "    # For each clip, create and save the data in the correct format\n",
    "    print(\"processing clips for individual %d\" % individual)\n",
    "    for clip_id in tqdm.tqdm(clip_ids):\n",
    "        individual_id = clip_id_to_individual_id[clip_id]\n",
    "        if individual_id != individual:\n",
    "            continue\n",
    "            \n",
    "        # load features\n",
    "        data_sub_clip = data_sub[data_sub['clip_id'] == clip_id].copy()\n",
    "        features = np.array(data_sub_clip[['Int_aX', 'Int_aY', 'Int_aZ']])\n",
    "        clip_dur_samples = np.shape(features)[0]\n",
    "        total_dur_samples+= clip_dur_samples\n",
    "            \n",
    "        # Water conductivity\n",
    "        wetdry = interpolate_nan(np.array(data_sub_clip['Wetdry']))\n",
    "        wetdry = np.expand_dims(wetdry, axis = -1)\n",
    "\n",
    "        per_frame_annotations = np.array(data_sub_clip['beh_int_label'])\n",
    "        per_frame_annotations = np.expand_dims(per_frame_annotations, axis = -1)\n",
    "\n",
    "        # insert individual id\n",
    "\n",
    "        per_frame_individual_id = np.full_like(per_frame_annotations, individual_id)\n",
    "\n",
    "        clip_data = np.concatenate([features, wetdry, per_frame_individual_id, per_frame_annotations], axis = 1)\n",
    "\n",
    "        clip_data_fp = os.path.join(clip_data_dir, clip_id + '.csv')\n",
    "        np.savetxt(clip_data_fp, clip_data, delimiter=\",\")\n",
    "        \n",
    "        clip_annotation_dur_samples = np.sum(per_frame_annotations > 0)\n",
    "        total_annotation_dur_samples += clip_annotation_dur_samples"
   ]
  },
  {
   "cell_type": "code",
   "execution_count": 30,
   "id": "e9bba2cc-6936-4b9d-ae10-9028ba2da696",
   "metadata": {},
   "outputs": [
    {
     "name": "stdout",
     "output_type": "stream",
     "text": [
      "total duration is 3990300.312500 seconds, i.e. 1108.416753 hours\n",
      "total annotation duration is 705253.750000 seconds, i.e. 195.903819 hours\n"
     ]
    }
   ],
   "source": [
    "total_dur_sec = total_dur_samples / sr\n",
    "total_dur_hours = total_dur_sec / 3600\n",
    "print(\"total duration is %f seconds, i.e. %f hours\" % (total_dur_sec, total_dur_hours))\n",
    "\n",
    "total_annotation_dur_sec = total_annotation_dur_samples / sr\n",
    "total_annotation_dur_hours = total_annotation_dur_sec / 3600\n",
    "print(\"total annotation duration is %f seconds, i.e. %f hours\" % (total_annotation_dur_sec, total_annotation_dur_hours))"
   ]
  },
  {
   "cell_type": "code",
   "execution_count": 31,
   "id": "ad0df782-6131-422c-b9bd-99710a58bf1a",
   "metadata": {},
   "outputs": [
    {
     "data": {
      "text/plain": [
       "0     9045281\n",
       "6     2447760\n",
       "10     432624\n",
       "2       93648\n",
       "7       36048\n",
       "4       11904\n",
       "1        8976\n",
       "9        7280\n",
       "3        3472\n",
       "8        1280\n",
       "5        1008\n",
       "Name: beh_int_label, dtype: int64"
      ]
     },
     "execution_count": 31,
     "metadata": {},
     "output_type": "execute_result"
    }
   ],
   "source": [
    "data_sub['beh_int_label'].value_counts()"
   ]
  },
  {
   "cell_type": "markdown",
   "id": "c9844300-e520-49a9-b975-210caa20a21f",
   "metadata": {},
   "source": [
    "## Check it all looks ok"
   ]
  },
  {
   "cell_type": "code",
   "execution_count": 32,
   "id": "717812e0-af4e-4bd0-96db-5ce83ece61c3",
   "metadata": {},
   "outputs": [],
   "source": [
    "clip_id = clip_ids[4]\n",
    "clip_data_fp = os.path.join(clip_data_dir, clip_id + '.csv')\n",
    "data = np.genfromtxt(clip_data_fp, delimiter = ',')"
   ]
  },
  {
   "cell_type": "code",
   "execution_count": 33,
   "id": "77164f71-4257-43b1-ae76-49f1438c836e",
   "metadata": {},
   "outputs": [
    {
     "data": {
      "text/plain": [
       "(1728000, 6)"
      ]
     },
     "execution_count": 33,
     "metadata": {},
     "output_type": "execute_result"
    }
   ],
   "source": [
    "np.shape(data)"
   ]
  },
  {
   "cell_type": "code",
   "execution_count": 34,
   "id": "b1d243b7-ec2e-4bc5-8239-400cc7241953",
   "metadata": {},
   "outputs": [
    {
     "data": {
      "image/png": "[encoded data removed]",
      "text/plain": [
       "<Figure size 432x288 with 1 Axes>"
      ]
     },
     "metadata": {
      "needs_background": "light"
     },
     "output_type": "display_data"
    }
   ],
   "source": [
    "for i in range(np.shape(data)[1]):\n",
    "    plt.plot(data[1000:1100, i])"
   ]
  },
  {
   "cell_type": "code",
   "execution_count": 35,
   "id": "ff4e9c59-9f68-4ee9-9cfd-0d1ca21b5900",
   "metadata": {},
   "outputs": [
    {
     "data": {
      "text/plain": [
       "[<matplotlib.lines.Line2D at 0x7faa5c4d2650>]"
      ]
     },
     "execution_count": 35,
     "metadata": {},
     "output_type": "execute_result"
    },
    {
     "data": {
      "image/png": "[encoded data removed]",
      "text/plain": [
       "<Figure size 432x288 with 1 Axes>"
      ]
     },
     "metadata": {
      "needs_background": "light"
     },
     "output_type": "display_data"
    }
   ],
   "source": [
    "plt.plot(data[:, 1])"
   ]
  },
  {
   "cell_type": "markdown",
   "id": "80db1722-5a4d-4ced-ac90-58828ec4af5e",
   "metadata": {},
   "source": [
    "## Plot Dataset Summary"
   ]
  },
  {
   "cell_type": "code",
   "execution_count": 36,
   "id": "c2ddf48f-b53d-465a-86cb-a155259dc0fb",
   "metadata": {},
   "outputs": [],
   "source": [
    "# Count class representation\n",
    "\n",
    "beh_names = dataset_metadata['label_names']\n",
    "label_count = {fold : {name : 0 for name in beh_names} for fold in range(n_folds)}\n",
    "\n",
    "for clip_id in clip_ids:\n",
    "    clip_data_fp = os.path.join(clip_data_dir, clip_id + '.csv')\n",
    "    data = pd.read_csv(clip_data_fp, delimiter = ',', header = None)\n",
    "    counts = data[data.keys()[-1]].astype(int).value_counts()\n",
    "    for key in counts.keys():\n",
    "        name = beh_names[key]\n",
    "        for fold in range(n_folds):\n",
    "            if clip_id in dataset_metadata['clip_ids_per_fold'][fold]:\n",
    "                label_count[fold][name] += counts[key]\n",
    "                \n",
    "label_perc = {fold : {name : 0 for name in beh_names[1:]} for fold in range(n_folds)}\n",
    "\n",
    "for name in beh_names[1:]:\n",
    "    for fold in range(n_folds):\n",
    "        label_perc[fold][name] = float(label_count[fold][name] / sum([label_count[fold][j] for j in beh_names[1:]]))\n"
   ]
  },
  {
   "cell_type": "code",
   "execution_count": 37,
   "id": "9898cb5a-6773-41da-b4e2-bcc6cc5f0fbd",
   "metadata": {},
   "outputs": [
    {
     "data": {
      "image/png": "[encoded data removed]",
      "text/plain": [
       "<Figure size 640x480 with 1 Axes>"
      ]
     },
     "metadata": {
      "needs_background": "light"
     },
     "output_type": "display_data"
    }
   ],
   "source": [
    "# Plot class representation\n",
    "\n",
    "# https://gist.github.com/thriveth/8560036#file-cbcolors-py\n",
    "CB_color_cycle = ['#377eb8', '#ff7f00', '#4daf4a',\n",
    "                  '#f781bf', '#a65628', '#984ea3',\n",
    "                  '#999999', '#e41a1c', '#dede00']\n",
    "\n",
    "keys = np.arange(len(beh_names))[1:]\n",
    "offset = 0.1\n",
    "width = 0.1\n",
    "plt.figure(figsize=(8, 6), dpi=80)\n",
    "\n",
    "for fold in range(n_folds):\n",
    "    current_offset = -(fold - n_folds // 2)*offset\n",
    "    plt.barh(keys +current_offset, [label_perc[fold][beh_names[key]] for key in keys], height=width, align='center', label = fold, color = CB_color_cycle[fold])\n",
    "    \n",
    "plt.title(\"Class representation across folds\")\n",
    "plt.yticks(keys, beh_names[1:], fontsize = 7, rotation = 60)\n",
    "plt.xlabel('Percent of known labels')\n",
    "plt.legend()\n",
    "target_fp = os.path.join(formatted_data_dir, 'class_rep.svg')\n",
    "\n",
    "plt.savefig(target_fp, format = 'svg')\n",
    "plt.show()\n",
    "\n",
    "numerical_target_fp = os.path.join(formatted_data_dir, 'class_rep.yaml')\n",
    "with open(numerical_target_fp, 'w') as file:\n",
    "    yaml.dump(label_perc, file)"
   ]
  },
  {
   "cell_type": "code",
   "execution_count": 38,
   "id": "88dfe3fa-445c-4806-b4b5-88175cf0c7bd",
   "metadata": {},
   "outputs": [
    {
     "data": {
      "image/png": "[encoded data removed]",
      "text/plain": [
       "<Figure size 1080x144 with 5 Axes>"
      ]
     },
     "metadata": {},
     "output_type": "display_data"
    }
   ],
   "source": [
    "# Pie chart, of known vs unknown samples \n",
    "\n",
    "labels = 'Known', 'Unknown'\n",
    "sizes = {fold : [sum([label_count[fold][j] for j in beh_names[1:]]), label_count[fold]['unknown']] for fold in range(n_folds)}\n",
    "# train_sizes = [sum([train_label_count[j] for j in beh_names[1:]]), train_label_count['unknown']]\n",
    "# val_sizes = [sum([val_label_count[j] for j in beh_names[1:]]), val_label_count['unknown']]\n",
    "# test_sizes = [sum([test_label_count[j] for j in beh_names[1:]]), test_label_count['unknown']]\n",
    "\n",
    "fig, ax = plt.subplots(1,n_folds, figsize = (3*n_folds,2))\n",
    "\n",
    "for fold in range(n_folds):\n",
    "    ax[fold].pie(sizes[fold], labels=labels, autopct='%1.1f%%', startangle=90)\n",
    "    ax[fold].axis('equal')  # Equal aspect ratio ensures that pie is drawn as a circle.\n",
    "    ax[fold].set_title(fold)\n",
    "\n",
    "target_fp = os.path.join(formatted_data_dir, 'perc_known.svg')\n",
    "\n",
    "plt.savefig(target_fp, format='svg')\n",
    "\n",
    "plt.show()\n"
   ]
  },
  {
   "cell_type": "markdown",
   "id": "165c4822-ce09-404d-b8d3-a56eebf2a1b3",
   "metadata": {},
   "source": [
    "## Temporal Statistics"
   ]
  },
  {
   "cell_type": "code",
   "execution_count": 39,
   "id": "25a4416d-2ce4-4c63-8f6e-6cb9f519425d",
   "metadata": {},
   "outputs": [
    {
     "name": "stderr",
     "output_type": "stream",
     "text": [
      "100%|██████████| 39/39 [02:02<00:00,  3.15s/it]"
     ]
    },
    {
     "name": "stdout",
     "output_type": "stream",
     "text": [
      "Mean overall label duration is 127.524 seconds\n",
      "Re-saving metadata to /home/jupyter/behavior_data_local/data/formatted/pagano_bears/dataset_metadata.yaml\n"
     ]
    },
    {
     "name": "stderr",
     "output_type": "stream",
     "text": [
      "\n"
     ]
    }
   ],
   "source": [
    "####################################\n",
    "infill_max_dur_sec = 91 # If annotations are nnnnn0000000nnnnn, where 0=unknown, do we fill in 0's with n's?\n",
    "####################################\n",
    "\n",
    "# This cell runs almost as a stand alone, but requires the first few cells of this notebook to be run first\n",
    "\n",
    "import tqdm\n",
    "from pathlib import Path\n",
    "\n",
    "dataset_metadata_fp = os.path.join(formatted_data_dir, 'dataset_metadata.yaml')\n",
    "\n",
    "with open(dataset_metadata_fp, 'r') as file:\n",
    "    metadata = yaml.safe_load(file)\n",
    "\n",
    "clip_fps = list(Path(clip_data_dir).glob('*.csv'))\n",
    "\n",
    "def create_list_of_durations(x, infill_max_dur_sec, samplerate, unknown_value = 0):\n",
    "    # First pass: create a list of label durations, together with a list of the associated classes\n",
    "    current_value = 0\n",
    "    current_dur = 0\n",
    "    list_of_durs = []\n",
    "    list_of_labels = []\n",
    "    for i in x:\n",
    "        if i == current_value:\n",
    "            current_dur += 1\n",
    "        elif i != current_value:\n",
    "            list_of_durs.append(current_dur / samplerate)\n",
    "            list_of_labels.append(current_value)\n",
    "            current_dur = 1\n",
    "            current_value = i\n",
    "            \n",
    "    list_of_durs.append(current_dur)\n",
    "    list_of_labels.append(current_value)\n",
    "            \n",
    "    # repeatedly merge similar labels if they are seperated by unknowns of short duration\n",
    "    # This is mainly to deal with duty cycling of observations\n",
    "    infill_max_dur_samples = int(infill_max_dur_sec * samplerate)\n",
    "    \n",
    "    if list_of_labels[0] == unknown_value:\n",
    "        del list_of_labels[0]\n",
    "        del list_of_durs[0]\n",
    "        \n",
    "    if len(list_of_labels) > 0:\n",
    "        if list_of_labels[-1] == unknown_value:\n",
    "            del list_of_labels[-1]\n",
    "            del list_of_durs[-1]\n",
    "    \n",
    "    j = 1\n",
    "    while j<len(list_of_labels)-1:\n",
    "        if list_of_labels[j] != unknown_value:\n",
    "            j+= 1\n",
    "        elif list_of_labels[j-1] == list_of_labels[j+1] and list_of_durs[j] < infill_max_dur_samples:\n",
    "            # merge if it's a short interval of unknowns between two of the same label\n",
    "            list_of_durs[j-1] += list_of_durs[j+1]\n",
    "            del list_of_durs[j+1]\n",
    "            del list_of_durs[j]\n",
    "            del list_of_labels[j+1]\n",
    "            del list_of_labels[j]\n",
    "        else:\n",
    "            # otherwise, drop the unknown segment\n",
    "            del list_of_durs[j]\n",
    "            del list_of_labels[j]\n",
    "\n",
    "    return list_of_labels, list_of_durs # list of annotation durations, in samples.\n",
    "                             \n",
    "durs_sec_by_individual = {i : [] for i in metadata['individual_ids']}\n",
    "overall_durs_sec = []\n",
    "    \n",
    "for fp in tqdm.tqdm(clip_fps):\n",
    "    clip_id = fp.stem\n",
    "    individual_id = metadata['clip_id_to_individual_id'][clip_id]\n",
    "    clip_annotations = list(pd.read_csv(fp, header = None).values[:, -1])\n",
    "    l, d = create_list_of_durations(clip_annotations, infill_max_dur_sec, metadata['sr'])\n",
    "    durs_sec_by_individual[individual_id].extend(d)\n",
    "    overall_durs_sec.extend(d)\n",
    "    \n",
    "mean_dur_sec_by_individual = {i : float(np.mean(durs_sec_by_individual[i])) for i in durs_sec_by_individual}\n",
    "mean_overall_dur_sec = float(np.mean(overall_durs_sec))\n",
    "\n",
    "metadata['mean_dur_sec_by_individual'] = mean_dur_sec_by_individual\n",
    "metadata['mean_overall_dur_sec'] = mean_overall_dur_sec\n",
    "\n",
    "print(\"Mean overall label duration is %0.3f seconds\" % mean_overall_dur_sec)\n",
    "\n",
    "print(\"Re-saving metadata to %s\" % str(dataset_metadata_fp))\n",
    "\n",
    "with open(dataset_metadata_fp, 'w') as file:\n",
    "    yaml.dump(metadata, file)"
   ]
  },
  {
   "cell_type": "code",
   "execution_count": null,
   "id": "f7ca020f-a78f-4d1a-ad19-356ca2907263",
   "metadata": {},
   "outputs": [],
   "source": []
  }
 ],
 "metadata": {
  "environment": {
   "kernel": "python3",
   "name": "pytorch-gpu.1-11.m94",
   "type": "gcloud",
   "uri": "gcr.io/deeplearning-platform-release/pytorch-gpu.1-11:m94"
  },
  "kernelspec": {
   "display_name": "Python 3",
   "language": "python",
   "name": "python3"
  },
  "language_info": {
   "codemirror_mode": {
    "name": "ipython",
    "version": 3
   },
   "file_extension": ".py",
   "mimetype": "text/x-python",
   "name": "python",
   "nbconvert_exporter": "python",
   "pygments_lexer": "ipython3",
   "version": "3.7.12"
  }
 },
 "nbformat": 4,
 "nbformat_minor": 5
}
