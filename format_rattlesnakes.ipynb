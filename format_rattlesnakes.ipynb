{
 "cells": [
  {
   "cell_type": "markdown",
   "id": "86ce8245-b923-42ba-b1cf-b0a8bdb804d4",
   "metadata": {},
   "source": [
    "# Notebook to format data from \"Integrative Framework for Long-Term Activity Monitoring of Small and Secretive Animals: Validation With a Cryptic Pitviper\", DeSantis et al. (2020).\n",
    "\n",
    "Paper can be found [here](https://www.frontiersin.org/articles/10.3389/fevo.2020.00169/full).\n",
    "\n",
    "Data was shared over email"
   ]
  },
  {
   "cell_type": "markdown",
   "id": "77461baa-2d89-4ddf-b8b9-283f19b3313e",
   "metadata": {},
   "source": [
    "## Setup"
   ]
  },
  {
   "cell_type": "code",
   "execution_count": 1,
   "id": "a9cd11e9-258b-4304-a21d-f826f276b73b",
   "metadata": {},
   "outputs": [],
   "source": [
    "# Outputs:\n",
    "# formatted dataset directory\n",
    "# dataset_metadata (yaml), includes\n",
    "## sample_rate\n",
    "## dataset_label_names (list)\n",
    "## dataset_feature_names (list)\n",
    "## clip_ids (list)\n",
    "# clip_data (directory), includes\n",
    "## data_files (multiple files)"
   ]
  },
  {
   "cell_type": "code",
   "execution_count": 2,
   "id": "7470e077-e978-495a-b349-27cc5a6b2a40",
   "metadata": {},
   "outputs": [],
   "source": [
    "%load_ext autoreload\n",
    "%autoreload 2"
   ]
  },
  {
   "cell_type": "code",
   "execution_count": 3,
   "id": "ec388900-f0ab-4e41-a56b-9597e4f4911f",
   "metadata": {},
   "outputs": [],
   "source": [
    "import os\n",
    "import numpy as np\n",
    "import pandas as pd\n",
    "import h5py\n",
    "from matplotlib import pyplot as plt\n",
    "import glob\n",
    "import yaml\n",
    "import scipy.signal as signal\n",
    "import datetime\n",
    "import tqdm"
   ]
  },
  {
   "cell_type": "code",
   "execution_count": 4,
   "id": "6bc728a2-a91e-4da2-abea-4b57ceb4e818",
   "metadata": {},
   "outputs": [],
   "source": [
    "# Specify data filepaths\n",
    "\n",
    "raw_data_dir = '/home/jupyter/behavior_data_local/data/raw/desantis_rattlesnakes'\n",
    "formatted_data_dir = '/home/jupyter/behavior_data_local/data/formatted/desantis_rattlesnakes'\n",
    "\n",
    "if not os.path.exists(formatted_data_dir):\n",
    "    os.makedirs(formatted_data_dir)\n",
    "    \n",
    "data_fp = os.path.join(raw_data_dir, 'CRAT_ACT_TrainingDataset_2016-2018IMRS.csv')\n",
    "\n",
    "clip_data_dir = os.path.join(formatted_data_dir, 'clip_data')\n",
    "if not os.path.exists(clip_data_dir):\n",
    "    os.makedirs(clip_data_dir)"
   ]
  },
  {
   "cell_type": "code",
   "execution_count": 5,
   "id": "98f244e7-ac03-48e2-868a-1b7f7dd15fea",
   "metadata": {},
   "outputs": [],
   "source": [
    "# Dataset metadata\n",
    "dataset_metadata = {}\n",
    "sr = 1\n",
    "dataset_metadata['sr'] = sr ## from dataset documentation\n",
    "dataset_metadata['dataset_name'] = 'desantis_rattlesnakes'"
   ]
  },
  {
   "cell_type": "code",
   "execution_count": 6,
   "id": "3b1891a7-1ff4-4df0-9c00-ecf634c3870a",
   "metadata": {},
   "outputs": [],
   "source": [
    "# Load data\n",
    "data = pd.read_csv(data_fp)"
   ]
  },
  {
   "cell_type": "markdown",
   "id": "e2a0a16c-d965-4a15-8fa1-79b9487778b6",
   "metadata": {},
   "source": [
    "\"Note that there are two tagIDs included but not reflected in the paper (RT-ACT13 and 14), because the logger batteries failed almost immediately after deployment (design/waterproofing flaw), but the initial releases were still captured for inclusion in the validation dataset. Additionally, RT-ACT12 is not included in the validation dataset because the individual was not on the surface during any validation observations within the brief monitoring window, and the video of the release was lost. \" -Dominic DeSantis\n"
   ]
  },
  {
   "cell_type": "code",
   "execution_count": 7,
   "id": "8a14e119-3b7e-44d4-9da2-90f74a6bd077",
   "metadata": {},
   "outputs": [
    {
     "data": {
      "text/plain": [
       "RT-ACT9     34261\n",
       "RT-ACT11    25207\n",
       "RT-ACT5     12356\n",
       "RT-ACT2     10451\n",
       "RT-ACT7      6744\n",
       "RT-ACT4      5984\n",
       "RT-ACT6      4746\n",
       "RT-ACT1      4478\n",
       "RT-ACT8      3962\n",
       "RT-ACT13     2836\n",
       "RT-ACT10     1612\n",
       "RT-ACT3       766\n",
       "RT-ACT14      607\n",
       "Name: TagID, dtype: int64"
      ]
     },
     "execution_count": 7,
     "metadata": {},
     "output_type": "execute_result"
    }
   ],
   "source": [
    "data['TagID'].value_counts()"
   ]
  },
  {
   "cell_type": "code",
   "execution_count": 8,
   "id": "792a4a04-9c63-45d6-ba91-9bea7b58eec1",
   "metadata": {},
   "outputs": [],
   "source": [
    "# Interpret date and time\n",
    "\n",
    "data['DateTime'] = pd.to_datetime(data['Date'] + ' ' + data['Time'], infer_datetime_format=True)"
   ]
  },
  {
   "cell_type": "code",
   "execution_count": 9,
   "id": "7fa104a6-5093-484f-978e-1cb0d65243ee",
   "metadata": {},
   "outputs": [],
   "source": [
    "# Extract integer labels for individuals\n",
    "\n",
    "individuals = sorted(data['TagID'].unique())\n",
    "def individuals_to_int(string):\n",
    "    return int(string.split('-')[1][3:])\n",
    "\n",
    "data['individual'] = data['TagID'].map(individuals_to_int)\n",
    "\n",
    "individuals = sorted(data['individual'].unique())"
   ]
  },
  {
   "cell_type": "code",
   "execution_count": 10,
   "id": "8952a2d7-61c1-4c4e-b37a-221745bb82f0",
   "metadata": {},
   "outputs": [
    {
     "name": "stderr",
     "output_type": "stream",
     "text": [
      "100%|██████████| 114009/114009 [01:13<00:00, 1551.91it/s]\n"
     ]
    }
   ],
   "source": [
    "# Split into clips\n",
    "# Keep track of which individual is associated to which clip_id\n",
    "# This is written very inefficiently, but it's fine for this small dataset\n",
    "\n",
    "data['clip_id'] = 0\n",
    "\n",
    "current_clip_id = 0\n",
    "clip_ids = []\n",
    "\n",
    "clip_id_to_individual_id = {}\n",
    "\n",
    "clip_id_to_individual_id['clip_0'] = int(data.loc[0, 'individual'])\n",
    "for index in tqdm.tqdm(data.index[:-1]):\n",
    "\n",
    "    data.loc[index, 'clip_id'] = current_clip_id\n",
    "    if data.loc[index+1, 'individual'] != data.loc[index, 'individual']:\n",
    "        current_clip_id += 1\n",
    "        clip_id_to_individual_id['clip_' + str(current_clip_id)] = int(data.loc[index+1, 'individual'])\n",
    "    elif (data.loc[index+1, 'DateTime'] - data.loc[index, 'DateTime']).total_seconds() != 1.0:\n",
    "        current_clip_id += 1\n",
    "        clip_id_to_individual_id['clip_' + str(current_clip_id)] = int(data.loc[index+1, 'individual'])\n",
    "\n",
    "data.loc[index + 1, 'clip_id'] = current_clip_id\n",
    "data['clip_id'] = data['clip_id'].map(lambda x : 'clip_' + str(x))"
   ]
  },
  {
   "cell_type": "code",
   "execution_count": 11,
   "id": "f83a4773-6288-43fc-82d0-569f936fc859",
   "metadata": {},
   "outputs": [],
   "source": [
    "# Omit short clips (fewer than 120 seconds)\n",
    "# Recreate list of individuals, just in case any were dropped in this process\n",
    "\n",
    "long_clips = list(data['clip_id'].value_counts()[data['clip_id'].value_counts() >= 120].keys())\n",
    "data = data[data['clip_id'].isin(long_clips)].copy()\n",
    "\n",
    "individuals = sorted(data['individual'].unique())\n",
    "clip_ids = sorted(data['clip_id'].unique())"
   ]
  },
  {
   "cell_type": "code",
   "execution_count": 12,
   "id": "7ea20959-639e-4f2c-8efa-945516302110",
   "metadata": {},
   "outputs": [],
   "source": [
    "## Codify integer codes for individuals\n",
    "\n",
    "dataset_metadata['individual_ids'] = [int(x) for x in individuals]\n",
    "dataset_metadata['clip_id_to_individual_id'] = clip_id_to_individual_id\n",
    "dataset_metadata['clip_ids'] = clip_ids"
   ]
  },
  {
   "cell_type": "code",
   "execution_count": 13,
   "id": "b719e122-9b2d-4fb1-a519-36f58a545c0c",
   "metadata": {},
   "outputs": [
    {
     "name": "stdout",
     "output_type": "stream",
     "text": [
      "{0: [1, 6, 11], 1: [2, 7, 13], 2: [3, 8, 14], 3: [4, 9], 4: [5, 10]}\n",
      "There are 13 individuals\n"
     ]
    }
   ],
   "source": [
    "# Set up data splits: divide individuals across folds for cross validation\n",
    "\n",
    "n_folds = 5\n",
    "dataset_metadata['n_folds'] = n_folds\n",
    "individuals_per_fold = {i : [] for i in range(n_folds)}\n",
    "\n",
    "for pointer, individual in enumerate(individuals):\n",
    "    individuals_per_fold[pointer % n_folds].append(int(individual))\n",
    "    \n",
    "dataset_metadata['individuals_per_fold'] = individuals_per_fold\n",
    "    \n",
    "print(individuals_per_fold)\n",
    "print(\"There are %d individuals\" % len(individuals))"
   ]
  },
  {
   "cell_type": "code",
   "execution_count": 14,
   "id": "ed6d55ef-3574-4052-9506-6c2d9af412cf",
   "metadata": {},
   "outputs": [],
   "source": [
    "# Set up clip ids \n",
    "\n",
    "clip_ids_per_fold = {i : [] for i in range(n_folds)}\n",
    "for clip_id in clip_ids:\n",
    "    individual = clip_id_to_individual_id[clip_id]\n",
    "    for fold in range(n_folds):\n",
    "        if individual in individuals_per_fold[fold]:\n",
    "            clip_ids_per_fold[fold].append(clip_id)\n",
    "for fold in range(n_folds):\n",
    "    clip_ids_per_fold[fold] = sorted(clip_ids_per_fold[fold])\n",
    "\n",
    "dataset_metadata['clip_ids_per_fold'] = clip_ids_per_fold"
   ]
  },
  {
   "cell_type": "markdown",
   "id": "3fca914b-f4d0-4265-b18c-71cd7aca2dc5",
   "metadata": {},
   "source": [
    "## Create dataset-level metadata"
   ]
  },
  {
   "cell_type": "code",
   "execution_count": 15,
   "id": "b9343516-5a19-4882-9e32-1ef628a49667",
   "metadata": {},
   "outputs": [
    {
     "data": {
      "text/plain": [
       "array(['Moving', 'Not Moving', 'Moving ', 'Not moving', 'Not Moving '],\n",
       "      dtype=object)"
      ]
     },
     "execution_count": 15,
     "metadata": {},
     "output_type": "execute_result"
    }
   ],
   "source": [
    "data['Behavior'].unique()"
   ]
  },
  {
   "cell_type": "code",
   "execution_count": 16,
   "id": "7ac34de9-3853-44e0-ae8c-2b7bed24f72e",
   "metadata": {},
   "outputs": [],
   "source": [
    "# Clean up label names\n",
    "\n",
    "obs_beh_to_beh_name = {\n",
    "    'Moving' : 'Moving',\n",
    "    'Not Moving' : 'Not_Moving',\n",
    "    'Moving ' : 'Moving',\n",
    "    'Not moving' : 'Not_Moving',\n",
    "    'Not Moving ' : 'Not_Moving'\n",
    "}"
   ]
  },
  {
   "cell_type": "code",
   "execution_count": 17,
   "id": "444a3dc3-dfb0-4907-833e-8caf3eb4d88d",
   "metadata": {},
   "outputs": [
    {
     "name": "stdout",
     "output_type": "stream",
     "text": [
      "['unknown', 'Moving', 'Not_Moving']\n"
     ]
    }
   ],
   "source": [
    "## Integer codes for behaviors\n",
    "\n",
    "beh_names = sorted(set([obs_beh_to_beh_name[k] for k in obs_beh_to_beh_name]))\n",
    "#beh_names.remove('unknown')\n",
    "beh_names.insert(0, 'unknown')\n",
    "\n",
    "print(beh_names)\n",
    "\n",
    "dataset_metadata['label_names'] = beh_names\n",
    "\n",
    "beh_str_to_int = {name : i for i, name in enumerate(beh_names)}\n",
    "beh_int_to_str = {i : name for i, name in enumerate(beh_names)}\n",
    "\n",
    "data['Behavior'] = data['Behavior'].map(lambda x : obs_beh_to_beh_name[x])\n",
    "data['beh_label'] = data['Behavior'].map(lambda x : beh_str_to_int[x])"
   ]
  },
  {
   "cell_type": "code",
   "execution_count": 18,
   "id": "f438d48f-0596-4a58-8669-358c9a4cec2d",
   "metadata": {},
   "outputs": [],
   "source": [
    "## clip_data column names\n",
    "\n",
    "clip_column_names = ['AccX', 'AccY', 'AccZ', 'individual_id', 'label']\n",
    "dataset_metadata['clip_column_names'] = clip_column_names"
   ]
  },
  {
   "cell_type": "code",
   "execution_count": 19,
   "id": "a560ecfd-2ff8-4aff-a58c-76bb31200b86",
   "metadata": {},
   "outputs": [],
   "source": [
    "## Save off dataset level metadata\n",
    "\n",
    "dataset_metadata_fp = os.path.join(formatted_data_dir, 'dataset_metadata.yaml')\n",
    "\n",
    "with open(dataset_metadata_fp, 'w') as file:\n",
    "    yaml.dump(dataset_metadata, file)"
   ]
  },
  {
   "cell_type": "markdown",
   "id": "f964b042-2a2b-4690-bdd1-1685991ca77f",
   "metadata": {},
   "source": [
    "## Format Clip Data"
   ]
  },
  {
   "cell_type": "code",
   "execution_count": 20,
   "id": "c7bd7e0b-68ed-4814-9977-284f8877a143",
   "metadata": {},
   "outputs": [
    {
     "name": "stderr",
     "output_type": "stream",
     "text": [
      "100%|██████████| 149/149 [00:02<00:00, 53.97it/s]\n"
     ]
    }
   ],
   "source": [
    "# Save off individual clips in csv files\n",
    "\n",
    "data['beh_int_label'] = 0\n",
    "\n",
    "total_dur_samples = 0\n",
    "total_annotation_dur_samples = 0\n",
    "\n",
    "for clip_id in tqdm.tqdm(clip_ids):\n",
    "    data_sub = data[data['clip_id'] == clip_id].copy()\n",
    "\n",
    "    features = np.array(data_sub[['X', 'Ydyn', 'Z']]) #data has already been preprocessed\n",
    "    clip_dur_samples = np.shape(features)[0]\n",
    "    \n",
    "    total_dur_samples += clip_dur_samples\n",
    "\n",
    "    per_frame_annotations = np.array(data_sub[['individual', 'beh_label']])\n",
    "\n",
    "    clip_data = np.concatenate([features, per_frame_annotations], axis = 1)\n",
    "\n",
    "    clip_data_fp = os.path.join(clip_data_dir, clip_id + '.csv')\n",
    "    np.savetxt(clip_data_fp, clip_data, delimiter=\",\")\n",
    "    \n",
    "    clip_annotation_dur_samples = np.sum(clip_data[:,-1] > 0)\n",
    "    total_annotation_dur_samples += clip_annotation_dur_samples"
   ]
  },
  {
   "cell_type": "code",
   "execution_count": 21,
   "id": "2be201c7-8aaf-45f8-8910-8b65ab2c5ae8",
   "metadata": {},
   "outputs": [
    {
     "name": "stdout",
     "output_type": "stream",
     "text": [
      "total duration is 111576.000000 seconds, i.e. 30.993333 hours\n",
      "total annotation duration is 111576.000000 seconds, i.e. 30.993333 hours\n"
     ]
    }
   ],
   "source": [
    "total_dur_sec = total_dur_samples / sr\n",
    "total_dur_hours = total_dur_sec / 3600\n",
    "print(\"total duration is %f seconds, i.e. %f hours\" % (total_dur_sec, total_dur_hours))\n",
    "\n",
    "total_annotation_dur_sec = total_annotation_dur_samples / sr\n",
    "total_annotation_dur_hours = total_annotation_dur_sec / 3600\n",
    "print(\"total annotation duration is %f seconds, i.e. %f hours\" % (total_annotation_dur_sec, total_annotation_dur_hours))"
   ]
  },
  {
   "cell_type": "markdown",
   "id": "c9844300-e520-49a9-b975-210caa20a21f",
   "metadata": {},
   "source": [
    "## Check it all looks ok"
   ]
  },
  {
   "cell_type": "code",
   "execution_count": 22,
   "id": "717812e0-af4e-4bd0-96db-5ce83ece61c3",
   "metadata": {},
   "outputs": [],
   "source": [
    "clip_id = clip_ids[12]\n",
    "clip_data_fp = os.path.join(clip_data_dir, clip_id + '.csv')\n",
    "data = np.genfromtxt(clip_data_fp, delimiter = ',')\n",
    "#data = np.load(clip_data_fp)"
   ]
  },
  {
   "cell_type": "code",
   "execution_count": 23,
   "id": "77164f71-4257-43b1-ae76-49f1438c836e",
   "metadata": {},
   "outputs": [
    {
     "data": {
      "text/plain": [
       "(379, 5)"
      ]
     },
     "execution_count": 23,
     "metadata": {},
     "output_type": "execute_result"
    }
   ],
   "source": [
    "np.shape(data)"
   ]
  },
  {
   "cell_type": "code",
   "execution_count": 24,
   "id": "b1d243b7-ec2e-4bc5-8239-400cc7241953",
   "metadata": {},
   "outputs": [
    {
     "data": {
      "image/png": "[encoded data removed]",
      "text/plain": [
       "<Figure size 432x288 with 1 Axes>"
      ]
     },
     "metadata": {
      "needs_background": "light"
     },
     "output_type": "display_data"
    }
   ],
   "source": [
    "for i in range(np.shape(data)[1]):\n",
    "    plt.plot(data[:, i])"
   ]
  },
  {
   "cell_type": "code",
   "execution_count": 25,
   "id": "ff4e9c59-9f68-4ee9-9cfd-0d1ca21b5900",
   "metadata": {},
   "outputs": [
    {
     "data": {
      "text/plain": [
       "[<matplotlib.lines.Line2D at 0x7ffb906c4e10>,\n",
       " <matplotlib.lines.Line2D at 0x7ffb906cbe10>,\n",
       " <matplotlib.lines.Line2D at 0x7ffb906d2150>]"
      ]
     },
     "execution_count": 25,
     "metadata": {},
     "output_type": "execute_result"
    },
    {
     "data": {
      "image/png": "[encoded data removed]",
      "text/plain": [
       "<Figure size 432x288 with 1 Axes>"
      ]
     },
     "metadata": {
      "needs_background": "light"
     },
     "output_type": "display_data"
    }
   ],
   "source": [
    "plt.plot(data[:, :3])"
   ]
  },
  {
   "cell_type": "markdown",
   "id": "d010f266-9639-4890-adc3-169d3ae72a4b",
   "metadata": {},
   "source": [
    "## Plot Dataset Summary"
   ]
  },
  {
   "cell_type": "code",
   "execution_count": 26,
   "id": "265e780d-d369-4350-a4eb-12089af5cd94",
   "metadata": {},
   "outputs": [],
   "source": [
    "# Count class representation\n",
    "\n",
    "beh_names = dataset_metadata['label_names']\n",
    "label_count = {fold : {name : 0 for name in beh_names} for fold in range(n_folds)}\n",
    "\n",
    "for clip_id in clip_ids:\n",
    "    clip_data_fp = os.path.join(clip_data_dir, clip_id + '.csv')\n",
    "    data = pd.read_csv(clip_data_fp, delimiter = ',', header = None)\n",
    "    counts = data[data.keys()[-1]].astype(int).value_counts()\n",
    "    for key in counts.keys():\n",
    "        name = beh_names[key]\n",
    "        for fold in range(n_folds):\n",
    "            if clip_id in dataset_metadata['clip_ids_per_fold'][fold]:\n",
    "                label_count[fold][name] += counts[key]\n",
    "                \n",
    "label_perc = {fold : {name : 0 for name in beh_names[1:]} for fold in range(n_folds)}\n",
    "\n",
    "for name in beh_names[1:]:\n",
    "    for fold in range(n_folds):\n",
    "        label_perc[fold][name] = float(label_count[fold][name] / sum([label_count[fold][j] for j in beh_names[1:]]))\n"
   ]
  },
  {
   "cell_type": "code",
   "execution_count": 27,
   "id": "6b354cb8-5d01-4af4-9fbc-4883d9768173",
   "metadata": {},
   "outputs": [
    {
     "data": {
      "image/png": "[encoded data removed]",
      "text/plain": [
       "<Figure size 640x480 with 1 Axes>"
      ]
     },
     "metadata": {
      "needs_background": "light"
     },
     "output_type": "display_data"
    }
   ],
   "source": [
    "# Plot class representation\n",
    "\n",
    "# https://gist.github.com/thriveth/8560036#file-cbcolors-py\n",
    "CB_color_cycle = ['#377eb8', '#ff7f00', '#4daf4a',\n",
    "                  '#f781bf', '#a65628', '#984ea3',\n",
    "                  '#999999', '#e41a1c', '#dede00']\n",
    "\n",
    "keys = np.arange(len(beh_names))[1:]\n",
    "offset = 0.1\n",
    "width = 0.1\n",
    "plt.figure(figsize=(8, 6), dpi=80)\n",
    "\n",
    "for fold in range(n_folds):\n",
    "    current_offset = -(fold - n_folds // 2)*offset\n",
    "    plt.barh(keys +current_offset, [label_perc[fold][beh_names[key]] for key in keys], height=width, align='center', label = fold, color = CB_color_cycle[fold])\n",
    "    \n",
    "plt.title(\"Class representation across folds\")\n",
    "plt.yticks(keys, beh_names[1:], fontsize = 7, rotation = 60)\n",
    "plt.xlabel('Percent of known labels')\n",
    "plt.legend()\n",
    "target_fp = os.path.join(formatted_data_dir, 'class_rep.svg')\n",
    "\n",
    "plt.savefig(target_fp, format = 'svg')\n",
    "plt.show()\n",
    "\n",
    "numerical_target_fp = os.path.join(formatted_data_dir, 'class_rep.yaml')\n",
    "with open(numerical_target_fp, 'w') as file:\n",
    "    yaml.dump(label_perc, file)"
   ]
  },
  {
   "cell_type": "code",
   "execution_count": 28,
   "id": "b8da2e9c-e13f-4234-8772-1dd49d8bf776",
   "metadata": {},
   "outputs": [
    {
     "data": {
      "image/png": "[encoded data removed]",
      "text/plain": [
       "<Figure size 1080x144 with 5 Axes>"
      ]
     },
     "metadata": {},
     "output_type": "display_data"
    }
   ],
   "source": [
    "# Pie chart, of known vs unknown samples \n",
    "\n",
    "labels = 'Known', 'Unknown'\n",
    "sizes = {fold : [sum([label_count[fold][j] for j in beh_names[1:]]), label_count[fold]['unknown']] for fold in range(n_folds)}\n",
    "# train_sizes = [sum([train_label_count[j] for j in beh_names[1:]]), train_label_count['unknown']]\n",
    "# val_sizes = [sum([val_label_count[j] for j in beh_names[1:]]), val_label_count['unknown']]\n",
    "# test_sizes = [sum([test_label_count[j] for j in beh_names[1:]]), test_label_count['unknown']]\n",
    "\n",
    "fig, ax = plt.subplots(1,n_folds, figsize = (3*n_folds,2))\n",
    "\n",
    "for fold in range(n_folds):\n",
    "    ax[fold].pie(sizes[fold], labels=labels, autopct='%1.1f%%', startangle=90)\n",
    "    ax[fold].axis('equal')  # Equal aspect ratio ensures that pie is drawn as a circle.\n",
    "    ax[fold].set_title(fold)\n",
    "\n",
    "target_fp = os.path.join(formatted_data_dir, 'perc_known.svg')\n",
    "\n",
    "plt.savefig(target_fp, format='svg')\n",
    "\n",
    "plt.show()\n"
   ]
  },
  {
   "cell_type": "markdown",
   "id": "2326ffbf-cf7c-42e4-ac48-ed43238772ed",
   "metadata": {},
   "source": [
    "## Temporal Statistics"
   ]
  },
  {
   "cell_type": "code",
   "execution_count": 29,
   "id": "3537cd48-28e1-47ca-a613-fca852cca54f",
   "metadata": {},
   "outputs": [
    {
     "name": "stderr",
     "output_type": "stream",
     "text": [
      "100%|██████████| 149/149 [00:00<00:00, 453.76it/s]"
     ]
    },
    {
     "name": "stdout",
     "output_type": "stream",
     "text": [
      "Mean overall label duration is 710.675 seconds\n",
      "Re-saving metadata to /home/jupyter/behavior_data_local/data/formatted/desantis_rattlesnakes/dataset_metadata.yaml\n"
     ]
    },
    {
     "name": "stderr",
     "output_type": "stream",
     "text": [
      "\n"
     ]
    }
   ],
   "source": [
    "####################################\n",
    "infill_max_dur_sec = 0 # If annotations are nnnnn0000000nnnnn, where 0=unknown, do we fill in 0's with n's?\n",
    "####################################\n",
    "\n",
    "# This cell runs almost as a stand alone, but requires the first few cells of this notebook to be run first\n",
    "\n",
    "import tqdm\n",
    "from pathlib import Path\n",
    "\n",
    "dataset_metadata_fp = os.path.join(formatted_data_dir, 'dataset_metadata.yaml')\n",
    "\n",
    "with open(dataset_metadata_fp, 'r') as file:\n",
    "    metadata = yaml.safe_load(file)\n",
    "\n",
    "clip_fps = list(Path(clip_data_dir).glob('*.csv'))\n",
    "\n",
    "def create_list_of_durations(x, infill_max_dur_sec, samplerate, unknown_value = 0):\n",
    "    # First pass: create a list of label durations, together with a list of the associated classes\n",
    "    current_value = 0\n",
    "    current_dur = 0\n",
    "    list_of_durs = []\n",
    "    list_of_labels = []\n",
    "    for i in x:\n",
    "        if i == current_value:\n",
    "            current_dur += 1\n",
    "        elif i != current_value:\n",
    "            list_of_durs.append(current_dur / samplerate)\n",
    "            list_of_labels.append(current_value)\n",
    "            current_dur = 1\n",
    "            current_value = i\n",
    "            \n",
    "    list_of_durs.append(current_dur)\n",
    "    list_of_labels.append(current_value)\n",
    "            \n",
    "    # repeatedly merge similar labels if they are seperated by unknowns of short duration\n",
    "    # This is mainly to deal with duty cycling of observations\n",
    "    infill_max_dur_samples = int(infill_max_dur_sec * samplerate)\n",
    "    \n",
    "    if list_of_labels[0] == unknown_value:\n",
    "        del list_of_labels[0]\n",
    "        del list_of_durs[0]\n",
    "        \n",
    "    if list_of_labels[-1] == unknown_value:\n",
    "        del list_of_labels[-1]\n",
    "        del list_of_durs[-1]\n",
    "    \n",
    "    j = 1\n",
    "    while j<len(list_of_labels)-1:\n",
    "        if list_of_labels[j] != unknown_value:\n",
    "            j+= 1\n",
    "        elif list_of_labels[j-1] == list_of_labels[j+1] and list_of_durs[j] < infill_max_dur_samples:\n",
    "            # merge if it's a short interval of unknowns between two of the same label\n",
    "            list_of_durs[j-1] += list_of_durs[j+1]\n",
    "            del list_of_durs[j+1]\n",
    "            del list_of_durs[j]\n",
    "            del list_of_labels[j+1]\n",
    "            del list_of_labels[j]\n",
    "        else:\n",
    "            # otherwise, drop the unknown segment\n",
    "            del list_of_durs[j]\n",
    "            del list_of_labels[j]\n",
    "\n",
    "    return list_of_labels, list_of_durs # list of annotation durations, in samples.\n",
    "                             \n",
    "durs_sec_by_individual = {i : [] for i in metadata['individual_ids']}\n",
    "overall_durs_sec = []\n",
    "    \n",
    "for fp in tqdm.tqdm(clip_fps):\n",
    "    clip_id = fp.stem\n",
    "    individual_id = metadata['clip_id_to_individual_id'][clip_id]\n",
    "    clip_annotations = list(pd.read_csv(fp, header = None).values[:, -1])\n",
    "    l, d = create_list_of_durations(clip_annotations, infill_max_dur_sec, metadata['sr'])\n",
    "    durs_sec_by_individual[individual_id].extend(d)\n",
    "    overall_durs_sec.extend(d)\n",
    "    \n",
    "mean_dur_sec_by_individual = {i : float(np.mean(durs_sec_by_individual[i])) for i in durs_sec_by_individual}\n",
    "mean_overall_dur_sec = float(np.mean(overall_durs_sec))\n",
    "\n",
    "metadata['mean_dur_sec_by_individual'] = mean_dur_sec_by_individual\n",
    "metadata['mean_overall_dur_sec'] = mean_overall_dur_sec\n",
    "\n",
    "print(\"Mean overall label duration is %0.3f seconds\" % mean_overall_dur_sec)\n",
    "\n",
    "print(\"Re-saving metadata to %s\" % str(dataset_metadata_fp))\n",
    "\n",
    "with open(dataset_metadata_fp, 'w') as file:\n",
    "    yaml.dump(metadata, file)"
   ]
  },
  {
   "cell_type": "code",
   "execution_count": null,
   "id": "e1ac190c-d1fd-45e9-9170-3e20b2ec89af",
   "metadata": {},
   "outputs": [],
   "source": []
  }
 ],
 "metadata": {
  "environment": {
   "kernel": "python3",
   "name": "pytorch-gpu.1-11.m94",
   "type": "gcloud",
   "uri": "gcr.io/deeplearning-platform-release/pytorch-gpu.1-11:m94"
  },
  "kernelspec": {
   "display_name": "Python 3",
   "language": "python",
   "name": "python3"
  },
  "language_info": {
   "codemirror_mode": {
    "name": "ipython",
    "version": 3
   },
   "file_extension": ".py",
   "mimetype": "text/x-python",
   "name": "python",
   "nbconvert_exporter": "python",
   "pygments_lexer": "ipython3",
   "version": "3.7.12"
  }
 },
 "nbformat": 4,
 "nbformat_minor": 5
}
